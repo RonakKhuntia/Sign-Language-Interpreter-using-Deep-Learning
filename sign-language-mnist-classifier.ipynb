{
 "cells": [
  {
   "cell_type": "code",
   "execution_count": 1,
   "id": "surprised-squad",
   "metadata": {
    "papermill": {
     "duration": 5.956331,
     "end_time": "2021-08-11T06:26:59.476834",
     "exception": false,
     "start_time": "2021-08-11T06:26:53.520503",
     "status": "completed"
    },
    "tags": []
   },
   "outputs": [],
   "source": [
    "import numpy as np\n",
    "import pandas as pd\n",
    "from pathlib import Path\n",
    "import os.path\n",
    "import matplotlib.pyplot as plt\n",
    "from IPython.display import Image, display, Markdown\n",
    "import matplotlib.cm as cm\n",
    "from sklearn.metrics import confusion_matrix,accuracy_score, classification_report\n",
    "import tensorflow as tf\n",
    "from tensorflow.keras.models import Sequential\n",
    "from tensorflow.keras.layers import Conv2D, MaxPool2D, Flatten, Dense, Dropout, BatchNormalization\n",
    "from tensorflow.keras.callbacks import ReduceLROnPlateau\n",
    "from time import perf_counter\n",
    "import seaborn as sns\n",
    "from matplotlib.colors import ListedColormap"
   ]
  },
  {
   "cell_type": "code",
   "execution_count": 2,
   "id": "requested-prince",
   "metadata": {
    "papermill": {
     "duration": 4.448549,
     "end_time": "2021-08-11T06:27:03.941810",
     "exception": false,
     "start_time": "2021-08-11T06:26:59.493261",
     "status": "completed"
    },
    "tags": []
   },
   "outputs": [],
   "source": [
    "train_df = pd.read_csv('sign_mnist_train.csv')\n",
    "test_df = pd.read_csv('sign_mnist_test.csv')"
   ]
  },
  {
   "cell_type": "code",
   "execution_count": 3,
   "id": "polished-distributor",
   "metadata": {
    "papermill": {
     "duration": 0.250079,
     "end_time": "2021-08-11T06:27:04.208608",
     "exception": false,
     "start_time": "2021-08-11T06:27:03.958529",
     "status": "completed"
    },
    "tags": []
   },
   "outputs": [],
   "source": [
    "# Rename label into Label\n",
    "train_df.rename(columns={'label':'Label'},inplace = True)\n",
    "test_df.rename(columns={'label':'Label'},inplace = True)\n",
    "\n",
    "# Shuffle\n",
    "train_df = train_df.sample(frac = 1.0).reset_index(drop = True)\n",
    "test_df = test_df.sample(frac = 1.0).reset_index(drop = True)"
   ]
  },
  {
   "cell_type": "code",
   "execution_count": 4,
   "id": "naked-programmer",
   "metadata": {
    "papermill": {
     "duration": 0.035294,
     "end_time": "2021-08-11T06:27:04.269041",
     "exception": false,
     "start_time": "2021-08-11T06:27:04.233747",
     "status": "completed"
    },
    "tags": []
   },
   "outputs": [
    {
     "data": {
      "text/html": [
       "<div>\n",
       "<style scoped>\n",
       "    .dataframe tbody tr th:only-of-type {\n",
       "        vertical-align: middle;\n",
       "    }\n",
       "\n",
       "    .dataframe tbody tr th {\n",
       "        vertical-align: top;\n",
       "    }\n",
       "\n",
       "    .dataframe thead th {\n",
       "        text-align: right;\n",
       "    }\n",
       "</style>\n",
       "<table border=\"1\" class=\"dataframe\">\n",
       "  <thead>\n",
       "    <tr style=\"text-align: right;\">\n",
       "      <th></th>\n",
       "      <th>Label</th>\n",
       "      <th>pixel1</th>\n",
       "      <th>pixel2</th>\n",
       "      <th>pixel3</th>\n",
       "      <th>pixel4</th>\n",
       "      <th>pixel5</th>\n",
       "      <th>pixel6</th>\n",
       "      <th>pixel7</th>\n",
       "      <th>pixel8</th>\n",
       "      <th>pixel9</th>\n",
       "    </tr>\n",
       "  </thead>\n",
       "  <tbody>\n",
       "    <tr>\n",
       "      <th>0</th>\n",
       "      <td>5</td>\n",
       "      <td>152</td>\n",
       "      <td>153</td>\n",
       "      <td>153</td>\n",
       "      <td>155</td>\n",
       "      <td>156</td>\n",
       "      <td>157</td>\n",
       "      <td>156</td>\n",
       "      <td>157</td>\n",
       "      <td>159</td>\n",
       "    </tr>\n",
       "    <tr>\n",
       "      <th>1</th>\n",
       "      <td>13</td>\n",
       "      <td>163</td>\n",
       "      <td>169</td>\n",
       "      <td>174</td>\n",
       "      <td>178</td>\n",
       "      <td>181</td>\n",
       "      <td>182</td>\n",
       "      <td>185</td>\n",
       "      <td>189</td>\n",
       "      <td>191</td>\n",
       "    </tr>\n",
       "    <tr>\n",
       "      <th>2</th>\n",
       "      <td>19</td>\n",
       "      <td>127</td>\n",
       "      <td>129</td>\n",
       "      <td>131</td>\n",
       "      <td>134</td>\n",
       "      <td>137</td>\n",
       "      <td>141</td>\n",
       "      <td>144</td>\n",
       "      <td>147</td>\n",
       "      <td>149</td>\n",
       "    </tr>\n",
       "    <tr>\n",
       "      <th>3</th>\n",
       "      <td>11</td>\n",
       "      <td>123</td>\n",
       "      <td>128</td>\n",
       "      <td>131</td>\n",
       "      <td>135</td>\n",
       "      <td>142</td>\n",
       "      <td>147</td>\n",
       "      <td>152</td>\n",
       "      <td>154</td>\n",
       "      <td>159</td>\n",
       "    </tr>\n",
       "  </tbody>\n",
       "</table>\n",
       "</div>"
      ],
      "text/plain": [
       "   Label  pixel1  pixel2  pixel3  pixel4  pixel5  pixel6  pixel7  pixel8  \\\n",
       "0      5     152     153     153     155     156     157     156     157   \n",
       "1     13     163     169     174     178     181     182     185     189   \n",
       "2     19     127     129     131     134     137     141     144     147   \n",
       "3     11     123     128     131     135     142     147     152     154   \n",
       "\n",
       "   pixel9  \n",
       "0     159  \n",
       "1     191  \n",
       "2     149  \n",
       "3     159  "
      ]
     },
     "execution_count": 4,
     "metadata": {},
     "output_type": "execute_result"
    }
   ],
   "source": [
    "# Show the first lines\n",
    "train_df.iloc[:4,:10]"
   ]
  },
  {
   "cell_type": "code",
   "execution_count": 5,
   "id": "biblical-relation",
   "metadata": {
    "papermill": {
     "duration": 0.030092,
     "end_time": "2021-08-11T06:27:04.315879",
     "exception": false,
     "start_time": "2021-08-11T06:27:04.285787",
     "status": "completed"
    },
    "tags": []
   },
   "outputs": [
    {
     "name": "stdout",
     "output_type": "stream",
     "text": [
      "Number of images in the training set:  28376\n",
      "Number of images in the test set:  7944\n",
      "Shape of the images:  28 x 28\n"
     ]
    }
   ],
   "source": [
    "print('Number of images in the training set: ',train_df.shape[0])\n",
    "print('Number of images in the test set: ', test_df.shape[0])\n",
    "\n",
    "d = int((train_df.shape[1] - 1)**0.5)\n",
    "print('Shape of the images: ', d, 'x', d)"
   ]
  },
  {
   "cell_type": "code",
   "execution_count": 6,
   "id": "inside-sending",
   "metadata": {
    "papermill": {
     "duration": 0.310718,
     "end_time": "2021-08-11T06:27:04.647205",
     "exception": false,
     "start_time": "2021-08-11T06:27:04.336487",
     "status": "completed"
    },
    "tags": []
   },
   "outputs": [
    {
     "data": {
      "image/png": "[encoded data removed]",
      "text/plain": [
       "<Figure size 640x480 with 1 Axes>"
      ]
     },
     "metadata": {},
     "output_type": "display_data"
    }
   ],
   "source": [
    "def to_image(array, label = True):\n",
    "    # Reshape an array into an image format\n",
    "    array = np.array(array)\n",
    "    start_idx = 1 if label else 0\n",
    "    return array[start_idx:].reshape(28,28).astype(float)\n",
    "        \n",
    "# Display one image\n",
    "img = to_image(train_df.iloc[0])\n",
    "plt.imshow(img, cmap = 'gray')\n",
    "plt.show()"
   ]
  },
  {
   "cell_type": "code",
   "execution_count": 7,
   "id": "cardiovascular-change",
   "metadata": {
    "papermill": {
     "duration": 0.026273,
     "end_time": "2021-08-11T06:27:04.694961",
     "exception": false,
     "start_time": "2021-08-11T06:27:04.668688",
     "status": "completed"
    },
    "tags": []
   },
   "outputs": [],
   "source": [
    "# The labels are coded in numbers. \n",
    "# Create a mapping to get the letters corresponding to the numbers\n",
    "alphab = 'abcdefghijklmnopqrstuvwxyz'\n",
    "mapping_letter = {}\n",
    "\n",
    "for i,l in enumerate(alphab):\n",
    "    mapping_letter[l] = i\n",
    "mapping_letter = {v:k for k,v in mapping_letter.items()}\n",
    "mapping_letter[26] = 'next'\n",
    "mapping_letter[27] = 'space'"
   ]
  },
  {
   "cell_type": "code",
   "execution_count": 8,
   "id": "accepting-exclusion",
   "metadata": {
    "papermill": {
     "duration": 1.190345,
     "end_time": "2021-08-11T06:27:05.904025",
     "exception": false,
     "start_time": "2021-08-11T06:27:04.713680",
     "status": "completed"
    },
    "tags": []
   },
   "outputs": [
    {
     "data": {
      "image/png": "[encoded data removed]",
      "text/plain": [
       "<Figure size 1500x1000 with 24 Axes>"
      ]
     },
     "metadata": {},
     "output_type": "display_data"
    }
   ],
   "source": [
    "# Display some pictures of the dataset\n",
    "fig, axes = plt.subplots(nrows=4, ncols=6, figsize=(15, 10),\n",
    "                        subplot_kw={'xticks': [], 'yticks': []})\n",
    "\n",
    "for i, ax in enumerate(axes.flat):\n",
    "    img = to_image(train_df.iloc[i])\n",
    "    ax.imshow(img, cmap = 'gray')\n",
    "    title = mapping_letter[train_df.Label[i]]\n",
    "    ax.set_title(title, fontsize = 15)\n",
    "plt.tight_layout(pad=0.5)\n",
    "plt.show()"
   ]
  },
  {
   "cell_type": "code",
   "execution_count": 9,
   "id": "choice-pioneer",
   "metadata": {
    "papermill": {
     "duration": 0.333042,
     "end_time": "2021-08-11T06:27:06.259483",
     "exception": false,
     "start_time": "2021-08-11T06:27:05.926441",
     "status": "completed"
    },
    "tags": []
   },
   "outputs": [
    {
     "name": "stderr",
     "output_type": "stream",
     "text": [
      "C:\\ProgramData\\anaconda3\\Lib\\site-packages\\seaborn\\_oldcore.py:1765: FutureWarning: unique with argument that is not not a Series, Index, ExtensionArray, or np.ndarray is deprecated and will raise in a future version.\n",
      "  order = pd.unique(vector)\n"
     ]
    },
    {
     "data": {
      "image/png": "[encoded data removed]",
      "text/plain": [
       "<Figure size 2000x500 with 1 Axes>"
      ]
     },
     "metadata": {},
     "output_type": "display_data"
    }
   ],
   "source": [
    "# Display the number of pictures of each letter\n",
    "vc = train_df['Label'].value_counts()\n",
    "plt.figure(figsize=(20,5))\n",
    "sns.barplot(x = sorted(vc.index), y = vc, palette = \"rocket\")\n",
    "plt.title(\"Number of pictures of each category\", fontsize = 15)\n",
    "plt.xticks(fontsize = 15)\n",
    "plt.show()"
   ]
  },
  {
   "cell_type": "markdown",
   "id": "amazing-happiness",
   "metadata": {
    "papermill": {
     "duration": 0.021912,
     "end_time": "2021-08-11T06:27:06.306015",
     "exception": false,
     "start_time": "2021-08-11T06:27:06.284103",
     "status": "completed"
    },
    "tags": []
   },
   "source": [
    "# 2. Split the data and create the generator<a class=\"anchor\" id=\"2\"></a>"
   ]
  },
  {
   "cell_type": "code",
   "execution_count": 10,
   "id": "photographic-billy",
   "metadata": {
    "papermill": {
     "duration": 0.166224,
     "end_time": "2021-08-11T06:27:06.494136",
     "exception": false,
     "start_time": "2021-08-11T06:27:06.327912",
     "status": "completed"
    },
    "tags": []
   },
   "outputs": [],
   "source": [
    "train_df_original = train_df.copy()\n",
    "\n",
    "# Split into training, test and validation sets\n",
    "val_index = int(train_df.shape[0]*0.1)\n",
    "\n",
    "train_df = train_df_original.iloc[val_index:]\n",
    "val_df = train_df_original.iloc[:val_index]\n",
    "\n",
    "y_train = train_df['Label']\n",
    "y_val = val_df['Label']\n",
    "y_test = test_df['Label']\n",
    "\n",
    "# Reshape the traing and test set to use them with a generator\n",
    "X_train = train_df.drop('Label',axis = 1).values.reshape(train_df.shape[0], 28, 28, 1)\n",
    "X_val = val_df.drop('Label',axis = 1).values.reshape(val_df.shape[0], 28, 28, 1)\n",
    "X_test = test_df.drop('Label',axis = 1).values.reshape(test_df.shape[0], 28, 28, 1)"
   ]
  },
  {
   "cell_type": "code",
   "execution_count": 11,
   "id": "broke-nicaragua",
   "metadata": {
    "papermill": {
     "duration": 0.031017,
     "end_time": "2021-08-11T06:27:06.547683",
     "exception": false,
     "start_time": "2021-08-11T06:27:06.516666",
     "status": "completed"
    },
    "tags": []
   },
   "outputs": [
    {
     "data": {
      "text/plain": [
       "((25539, 28, 28, 1), (2837, 28, 28, 1), (7944, 28, 28, 1))"
      ]
     },
     "execution_count": 11,
     "metadata": {},
     "output_type": "execute_result"
    }
   ],
   "source": [
    "# Display the shapes of the sets\n",
    "X_train.shape, X_val.shape, X_test.shape"
   ]
  },
  {
   "cell_type": "code",
   "execution_count": 12,
   "id": "egyptian-sitting",
   "metadata": {
    "papermill": {
     "duration": 0.07017,
     "end_time": "2021-08-11T06:27:06.643049",
     "exception": false,
     "start_time": "2021-08-11T06:27:06.572879",
     "status": "completed"
    },
    "tags": []
   },
   "outputs": [],
   "source": [
    "# Data augmentation\n",
    "generator = tf.keras.preprocessing.image.ImageDataGenerator(rescale=1./255,\n",
    "                                                            rotation_range=10,\n",
    "                                                            zoom_range=0.10,\n",
    "                                                            width_shift_range=0.1,\n",
    "                                                            height_shift_range=0.1,\n",
    "                                                            shear_range=0.1,\n",
    "                                                            horizontal_flip=False,\n",
    "                                                            fill_mode=\"nearest\")\n",
    "\n",
    "X_train_flow = generator.flow(X_train, y_train, batch_size=32)\n",
    "X_val_flow = generator.flow(X_val, y_val, batch_size=32)\n",
    "# X_test_flow = generator.flow(X_test, y_test)"
   ]
  },
  {
   "cell_type": "markdown",
   "id": "interested-management",
   "metadata": {
    "papermill": {
     "duration": 0.02481,
     "end_time": "2021-08-11T06:27:06.691031",
     "exception": false,
     "start_time": "2021-08-11T06:27:06.666221",
     "status": "completed"
    },
    "tags": []
   },
   "source": [
    "# 3. Create and train the model <a class=\"anchor\" id=\"3\"></a>"
   ]
  },
  {
   "cell_type": "code",
   "execution_count": 13,
   "id": "manufactured-federation",
   "metadata": {
    "papermill": {
     "duration": 2.267146,
     "end_time": "2021-08-11T06:27:08.981094",
     "exception": false,
     "start_time": "2021-08-11T06:27:06.713948",
     "status": "completed"
    },
    "tags": []
   },
   "outputs": [
    {
     "name": "stdout",
     "output_type": "stream",
     "text": [
      "Model: \"sequential\"\n",
      "_________________________________________________________________\n",
      " Layer (type)                Output Shape              Param #   \n",
      "=================================================================\n",
      " conv2d (Conv2D)             (None, 26, 26, 32)        320       \n",
      "                                                                 \n",
      " max_pooling2d (MaxPooling2  (None, 13, 13, 32)        0         \n",
      " D)                                                              \n",
      "                                                                 \n",
      " conv2d_1 (Conv2D)           (None, 11, 11, 128)       36992     \n",
      "                                                                 \n",
      " max_pooling2d_1 (MaxPoolin  (None, 6, 6, 128)         0         \n",
      " g2D)                                                            \n",
      "                                                                 \n",
      " conv2d_2 (Conv2D)           (None, 4, 4, 512)         590336    \n",
      "                                                                 \n",
      " max_pooling2d_2 (MaxPoolin  (None, 2, 2, 512)         0         \n",
      " g2D)                                                            \n",
      "                                                                 \n",
      " flatten (Flatten)           (None, 2048)              0         \n",
      "                                                                 \n",
      " dense (Dense)               (None, 1024)              2098176   \n",
      "                                                                 \n",
      " dense_1 (Dense)             (None, 256)               262400    \n",
      "                                                                 \n",
      " dropout (Dropout)           (None, 256)               0         \n",
      "                                                                 \n",
      " dense_2 (Dense)             (None, 28)                7196      \n",
      "                                                                 \n",
      "=================================================================\n",
      "Total params: 2995420 (11.43 MB)\n",
      "Trainable params: 2995420 (11.43 MB)\n",
      "Non-trainable params: 0 (0.00 Byte)\n",
      "_________________________________________________________________\n"
     ]
    }
   ],
   "source": [
    "model = Sequential([Conv2D(filters=32,  kernel_size=(3,3), activation=\"relu\", input_shape=(28,28,1)),\n",
    "                    MaxPool2D(2,2, padding='same'),\n",
    "                    \n",
    "                    Conv2D(filters=128,  kernel_size=(3,3), activation=\"relu\"),\n",
    "                    MaxPool2D(2,2, padding='same'),\n",
    "                    \n",
    "                    Conv2D(filters=512, kernel_size=(3,3), activation=\"relu\"),\n",
    "                    MaxPool2D(2,2, padding='same'),\n",
    "                    \n",
    "                    Flatten(),\n",
    "                    \n",
    "                    Dense(units=1024, activation=\"relu\"),                 \n",
    "                    Dense(units=256, activation=\"relu\"),\n",
    "                    Dropout(0.5),\n",
    "                    Dense(units=28, activation=\"softmax\")\n",
    "])\n",
    "\n",
    "model.compile(optimizer='adam', loss=\"sparse_categorical_crossentropy\", metrics=[\"accuracy\"])\n",
    "\n",
    "\n",
    "model.summary()"
   ]
  },
  {
   "cell_type": "code",
   "execution_count": 14,
   "id": "interested-settlement",
   "metadata": {
    "_kg_hide-output": true,
    "papermill": {
     "duration": 233.538735,
     "end_time": "2021-08-11T06:31:02.544570",
     "exception": false,
     "start_time": "2021-08-11T06:27:09.005835",
     "status": "completed"
    },
    "tags": []
   },
   "outputs": [
    {
     "name": "stdout",
     "output_type": "stream",
     "text": [
      "Epoch 1/100\n",
      "799/799 [==============================] - 29s 35ms/step - loss: 1.8336 - accuracy: 0.4247 - val_loss: 0.5286 - val_accuracy: 0.8181 - lr: 0.0010\n",
      "Epoch 2/100\n",
      "799/799 [==============================] - 27s 33ms/step - loss: 0.4171 - accuracy: 0.8579 - val_loss: 0.1444 - val_accuracy: 0.9535 - lr: 0.0010\n",
      "Epoch 3/100\n",
      "799/799 [==============================] - 30s 38ms/step - loss: 0.1782 - accuracy: 0.9403 - val_loss: 0.0746 - val_accuracy: 0.9743 - lr: 0.0010\n",
      "Epoch 4/100\n",
      "799/799 [==============================] - 28s 35ms/step - loss: 0.1017 - accuracy: 0.9674 - val_loss: 0.0406 - val_accuracy: 0.9877 - lr: 0.0010\n",
      "Epoch 5/100\n",
      "799/799 [==============================] - 29s 36ms/step - loss: 0.0717 - accuracy: 0.9776 - val_loss: 0.0288 - val_accuracy: 0.9891 - lr: 0.0010\n",
      "Epoch 6/100\n",
      "799/799 [==============================] - 28s 35ms/step - loss: 0.0621 - accuracy: 0.9800 - val_loss: 0.0424 - val_accuracy: 0.9880 - lr: 0.0010\n",
      "Epoch 7/100\n",
      "799/799 [==============================] - ETA: 0s - loss: 0.0550 - accuracy: 0.9834\n",
      "Epoch 7: ReduceLROnPlateau reducing learning rate to 0.0005000000237487257.\n",
      "799/799 [==============================] - 28s 35ms/step - loss: 0.0550 - accuracy: 0.9834 - val_loss: 0.0503 - val_accuracy: 0.9831 - lr: 0.0010\n",
      "Epoch 8/100\n",
      "799/799 [==============================] - 28s 35ms/step - loss: 0.0190 - accuracy: 0.9948 - val_loss: 0.0047 - val_accuracy: 0.9979 - lr: 5.0000e-04\n",
      "Epoch 9/100\n",
      "799/799 [==============================] - 29s 36ms/step - loss: 0.0158 - accuracy: 0.9951 - val_loss: 0.0085 - val_accuracy: 0.9972 - lr: 5.0000e-04\n",
      "Epoch 10/100\n",
      "799/799 [==============================] - 28s 35ms/step - loss: 0.0118 - accuracy: 0.9962 - val_loss: 0.0059 - val_accuracy: 0.9986 - lr: 5.0000e-04\n",
      "Epoch 11/100\n",
      "799/799 [==============================] - 28s 35ms/step - loss: 0.0204 - accuracy: 0.9942 - val_loss: 0.0057 - val_accuracy: 0.9989 - lr: 5.0000e-04\n",
      "Epoch 12/100\n",
      "799/799 [==============================] - 28s 35ms/step - loss: 0.0119 - accuracy: 0.9963 - val_loss: 0.0143 - val_accuracy: 0.9958 - lr: 5.0000e-04\n",
      "Epoch 13/100\n",
      "799/799 [==============================] - ETA: 0s - loss: 0.0155 - accuracy: 0.9949\n",
      "Epoch 13: ReduceLROnPlateau reducing learning rate to 0.0002500000118743628.\n",
      "799/799 [==============================] - 28s 35ms/step - loss: 0.0155 - accuracy: 0.9949 - val_loss: 0.0039 - val_accuracy: 0.9979 - lr: 5.0000e-04\n",
      "Epoch 14/100\n",
      "799/799 [==============================] - 28s 35ms/step - loss: 0.0063 - accuracy: 0.9981 - val_loss: 0.0019 - val_accuracy: 0.9993 - lr: 2.5000e-04\n",
      "Epoch 15/100\n",
      "799/799 [==============================] - 28s 35ms/step - loss: 0.0038 - accuracy: 0.9988 - val_loss: 0.0034 - val_accuracy: 0.9989 - lr: 2.5000e-04\n",
      "Epoch 16/100\n",
      "799/799 [==============================] - 28s 36ms/step - loss: 0.0048 - accuracy: 0.9986 - val_loss: 6.7506e-04 - val_accuracy: 1.0000 - lr: 2.5000e-04\n",
      "Epoch 17/100\n",
      "799/799 [==============================] - 30s 38ms/step - loss: 0.0073 - accuracy: 0.9977 - val_loss: 0.0040 - val_accuracy: 0.9986 - lr: 2.5000e-04\n",
      "Epoch 18/100\n",
      "799/799 [==============================] - ETA: 0s - loss: 0.0058 - accuracy: 0.9985\n",
      "Epoch 18: ReduceLROnPlateau reducing learning rate to 0.0001250000059371814.\n",
      "799/799 [==============================] - 29s 36ms/step - loss: 0.0058 - accuracy: 0.9985 - val_loss: 0.0053 - val_accuracy: 0.9989 - lr: 2.5000e-04\n",
      "Epoch 19/100\n",
      "799/799 [==============================] - 31s 39ms/step - loss: 0.0022 - accuracy: 0.9995 - val_loss: 0.0023 - val_accuracy: 0.9993 - lr: 1.2500e-04\n",
      "Epoch 20/100\n",
      "799/799 [==============================] - ETA: 0s - loss: 0.0031 - accuracy: 0.9988\n",
      "Epoch 20: ReduceLROnPlateau reducing learning rate to 6.25000029685907e-05.\n",
      "799/799 [==============================] - 30s 38ms/step - loss: 0.0031 - accuracy: 0.9988 - val_loss: 3.0836e-04 - val_accuracy: 1.0000 - lr: 1.2500e-04\n",
      "Epoch 21/100\n",
      "799/799 [==============================] - 30s 37ms/step - loss: 0.0014 - accuracy: 0.9995 - val_loss: 4.3190e-04 - val_accuracy: 1.0000 - lr: 6.2500e-05\n",
      "Epoch 22/100\n",
      "799/799 [==============================] - ETA: 0s - loss: 0.0012 - accuracy: 0.9995\n",
      "Epoch 22: ReduceLROnPlateau reducing learning rate to 3.125000148429535e-05.\n",
      "799/799 [==============================] - 30s 37ms/step - loss: 0.0012 - accuracy: 0.9995 - val_loss: 7.2986e-04 - val_accuracy: 0.9996 - lr: 6.2500e-05\n",
      "Epoch 23/100\n",
      "799/799 [==============================] - 32s 41ms/step - loss: 0.0012 - accuracy: 0.9996 - val_loss: 0.0012 - val_accuracy: 0.9996 - lr: 3.1250e-05\n",
      "Epoch 24/100\n",
      "799/799 [==============================] - ETA: 0s - loss: 0.0013 - accuracy: 0.9996\n",
      "Epoch 24: ReduceLROnPlateau reducing learning rate to 1.5625000742147677e-05.\n",
      "799/799 [==============================] - 32s 40ms/step - loss: 0.0013 - accuracy: 0.9996 - val_loss: 7.0937e-05 - val_accuracy: 1.0000 - lr: 3.1250e-05\n",
      "Epoch 25/100\n",
      "799/799 [==============================] - 30s 38ms/step - loss: 9.6404e-04 - accuracy: 0.9998 - val_loss: 3.7589e-04 - val_accuracy: 1.0000 - lr: 1.5625e-05\n",
      "Epoch 26/100\n",
      "799/799 [==============================] - ETA: 0s - loss: 0.0011 - accuracy: 0.9996\n",
      "Epoch 26: ReduceLROnPlateau reducing learning rate to 1e-05.\n",
      "799/799 [==============================] - 31s 39ms/step - loss: 0.0011 - accuracy: 0.9996 - val_loss: 3.2046e-04 - val_accuracy: 1.0000 - lr: 1.5625e-05\n",
      "Epoch 27/100\n",
      "799/799 [==============================] - 31s 38ms/step - loss: 9.6552e-04 - accuracy: 0.9997 - val_loss: 0.0033 - val_accuracy: 0.9993 - lr: 1.0000e-05\n",
      "Epoch 28/100\n",
      "799/799 [==============================] - 30s 37ms/step - loss: 9.0009e-04 - accuracy: 0.9998 - val_loss: 0.0022 - val_accuracy: 0.9996 - lr: 1.0000e-05\n",
      "Epoch 29/100\n",
      "799/799 [==============================] - 30s 38ms/step - loss: 0.0010 - accuracy: 0.9998 - val_loss: 0.0020 - val_accuracy: 0.9996 - lr: 1.0000e-05\n"
     ]
    }
   ],
   "source": [
    "learning_rate_reduction = ReduceLROnPlateau(monitor='val_accuracy', patience = 2, verbose=1,factor=0.5, min_lr=0.00001)\n",
    "\n",
    "history = model.fit(X_train_flow, \n",
    "                    validation_data=X_val_flow, \n",
    "                    epochs=100,\n",
    "                    callbacks=[\n",
    "                            tf.keras.callbacks.EarlyStopping(\n",
    "                            monitor='val_loss',\n",
    "                            patience=5,\n",
    "                            restore_best_weights=True), \n",
    "                        \n",
    "                            learning_rate_reduction\n",
    "                    ])"
   ]
  },
  {
   "cell_type": "markdown",
   "id": "selective-estonia",
   "metadata": {
    "papermill": {
     "duration": 1.075424,
     "end_time": "2021-08-11T06:31:04.788657",
     "exception": false,
     "start_time": "2021-08-11T06:31:03.713233",
     "status": "completed"
    },
    "tags": []
   },
   "source": [
    "# 4. Visualize the result <a class=\"anchor\" id=\"4\"></a>"
   ]
  },
  {
   "cell_type": "code",
   "execution_count": 15,
   "id": "small-museum",
   "metadata": {
    "papermill": {
     "duration": 2.216094,
     "end_time": "2021-08-11T06:31:10.421829",
     "exception": false,
     "start_time": "2021-08-11T06:31:08.205735",
     "status": "completed"
    },
    "tags": []
   },
   "outputs": [
    {
     "name": "stdout",
     "output_type": "stream",
     "text": [
      "249/249 [==============================] - 2s 9ms/step\n",
      "accuracy on the test set 93.39123867069486\n"
     ]
    }
   ],
   "source": [
    "# Predict the label of the test_images\n",
    "pred = model.predict(X_test)\n",
    "pred = np.argmax(pred,axis=1)\n",
    "\n",
    "# Get the accuracy score\n",
    "acc = accuracy_score(y_test,pred)\n",
    "\n",
    "# Display the results\n",
    "print('accuracy on the test set', acc*100)"
   ]
  },
  {
   "cell_type": "code",
   "execution_count": 16,
   "id": "leading-flood",
   "metadata": {
    "papermill": {
     "duration": 0.989381,
     "end_time": "2021-08-11T06:31:12.362679",
     "exception": false,
     "start_time": "2021-08-11T06:31:11.373298",
     "status": "completed"
    },
    "tags": []
   },
   "outputs": [],
   "source": [
    "# Map the numbers into letters\n",
    "y_test_letters = [mapping_letter[x] for x in y_test]\n",
    "pred_letters = [mapping_letter[x] for x in pred]"
   ]
  },
  {
   "cell_type": "code",
   "execution_count": 17,
   "id": "sporting-berkeley",
   "metadata": {
    "papermill": {
     "duration": 1.046438,
     "end_time": "2021-08-11T06:31:14.357181",
     "exception": false,
     "start_time": "2021-08-11T06:31:13.310743",
     "status": "completed"
    },
    "tags": []
   },
   "outputs": [
    {
     "name": "stdout",
     "output_type": "stream",
     "text": [
      "              precision    recall  f1-score   support\n",
      "\n",
      "           a       0.99      1.00      0.99       331\n",
      "           b       1.00      0.95      0.97       432\n",
      "           c       1.00      1.00      1.00       310\n",
      "           d       1.00      1.00      1.00       245\n",
      "           e       1.00      1.00      1.00       498\n",
      "           f       1.00      1.00      1.00       247\n",
      "           g       1.00      1.00      1.00       348\n",
      "           h       1.00      1.00      1.00       436\n",
      "           i       1.00      1.00      1.00       288\n",
      "           j       0.00      0.00      0.00       180\n",
      "           k       0.99      1.00      1.00       331\n",
      "           l       1.00      1.00      1.00       209\n",
      "           m       1.00      1.00      1.00       394\n",
      "           n       1.00      1.00      1.00       291\n",
      "        next       1.00      0.46      0.63       232\n",
      "           o       1.00      1.00      1.00       246\n",
      "           p       0.67      1.00      0.81       347\n",
      "           q       1.00      1.00      1.00       164\n",
      "           r       1.00      1.00      1.00       144\n",
      "           s       1.00      1.00      1.00       246\n",
      "       space       0.56      1.00      0.72       180\n",
      "           t       1.00      1.00      1.00       248\n",
      "           u       0.95      1.00      0.97       266\n",
      "           v       0.99      0.96      0.98       346\n",
      "           w       0.66      1.00      0.80       206\n",
      "           x       1.00      1.00      1.00       267\n",
      "           y       0.83      1.00      0.90       332\n",
      "           z       0.00      0.00      0.00       180\n",
      "\n",
      "    accuracy                           0.93      7944\n",
      "   macro avg       0.88      0.91      0.88      7944\n",
      "weighted avg       0.91      0.93      0.92      7944\n",
      "\n"
     ]
    }
   ],
   "source": [
    "print(classification_report(y_test_letters,pred_letters))"
   ]
  },
  {
   "cell_type": "code",
   "execution_count": 18,
   "id": "5c626a97-372b-429f-9639-9a226cf7d9c5",
   "metadata": {},
   "outputs": [],
   "source": [
    "def calculate_accuracy(TP, TN, FP, FN):\n",
    "    accuracy = (TP + TN) / (TP + TN + FP + FN)\n",
    "    return accuracy"
   ]
  },
  {
   "cell_type": "code",
   "execution_count": 19,
   "id": "6af8dd10-b970-4a48-b60b-36be65d0fe39",
   "metadata": {},
   "outputs": [],
   "source": [
    "# Function to calculate the confusion matrix\n",
    "mapping_letter = {v:k for k,v in mapping_letter.items()}\n",
    "\n",
    "def create_confusion_matrix(y_true, y_pred, num_classes):\n",
    "    cm = np.zeros((num_classes, num_classes), dtype=int)\n",
    "    for true_label, pred_label in zip(y_true, y_pred):\n",
    "        cm[mapping_letter[true_label]][mapping_letter[pred_label]] += 1\n",
    "    return cm"
   ]
  },
  {
   "cell_type": "code",
   "execution_count": 20,
   "id": "177fa937-94e0-4162-ba3a-9436d11df79b",
   "metadata": {},
   "outputs": [],
   "source": [
    "# Function to extract TP, TN, FP, FN\n",
    "def extract_metrics(cm):\n",
    "    num_classes = cm.shape[0]\n",
    "    TP = np.diag(cm)\n",
    "    FP = np.sum(cm, axis=0) - TP\n",
    "    FN = np.sum(cm, axis=1) - TP\n",
    "    TN = np.sum(cm) - (TP + FP + FN)\n",
    "    return TP, TN, FP, FN"
   ]
  },
  {
   "cell_type": "code",
   "execution_count": 21,
   "id": "e6c58c97-f3a4-4f98-b2cf-778e185e4fa4",
   "metadata": {},
   "outputs": [],
   "source": [
    "def summarize_metrics(TP, TN, FP, FN):\n",
    "    # Summarize TP, TN, FP, FN into a 2x2 confusion matrix\n",
    "    TP_sum = np.sum(TP)\n",
    "    TN_sum = np.sum(TN)\n",
    "    FP_sum = np.sum(FP)\n",
    "    FN_sum = np.sum(FN)\n",
    "    \n",
    "    # Create the summarized confusion matrix\n",
    "    summarized_cm = np.array([[TN_sum, FP_sum], [FN_sum, TP_sum]])\n",
    "    \n",
    "    return summarized_cm"
   ]
  },
  {
   "cell_type": "code",
   "execution_count": 22,
   "id": "e3783e6e-e958-4a9d-9bff-539d29dd493d",
   "metadata": {},
   "outputs": [],
   "source": [
    "cm = create_confusion_matrix(y_test_letters, pred_letters, len(set(y_test_letters)))"
   ]
  },
  {
   "cell_type": "code",
   "execution_count": 23,
   "id": "6abd10dc-36a7-4598-a890-5055b0dbf559",
   "metadata": {},
   "outputs": [],
   "source": [
    "TP, TN, FP, FN = extract_metrics(cm)"
   ]
  },
  {
   "cell_type": "code",
   "execution_count": 24,
   "id": "cf45d18a-decd-4736-b810-31f139b8e0fc",
   "metadata": {},
   "outputs": [
    {
     "name": "stdout",
     "output_type": "stream",
     "text": [
      "Label 1: Accuracy = 0.9995\n",
      "Label 2: Accuracy = 0.9971\n",
      "Label 3: Accuracy = 1.0000\n",
      "Label 4: Accuracy = 0.9999\n",
      "Label 5: Accuracy = 0.9999\n",
      "Label 6: Accuracy = 1.0000\n",
      "Label 7: Accuracy = 1.0000\n",
      "Label 8: Accuracy = 0.9999\n",
      "Label 9: Accuracy = 0.9999\n",
      "Label 10: Accuracy = 0.9766\n",
      "Label 11: Accuracy = 0.9996\n",
      "Label 12: Accuracy = 1.0000\n",
      "Label 13: Accuracy = 1.0000\n",
      "Label 14: Accuracy = 1.0000\n",
      "Label 15: Accuracy = 1.0000\n",
      "Label 16: Accuracy = 0.9789\n",
      "Label 17: Accuracy = 1.0000\n",
      "Label 18: Accuracy = 1.0000\n",
      "Label 19: Accuracy = 0.9999\n",
      "Label 20: Accuracy = 0.9999\n",
      "Label 21: Accuracy = 0.9982\n",
      "Label 22: Accuracy = 0.9979\n",
      "Label 23: Accuracy = 0.9869\n",
      "Label 24: Accuracy = 0.9999\n",
      "Label 25: Accuracy = 0.9912\n",
      "Label 26: Accuracy = 0.9762\n",
      "Label 27: Accuracy = 0.9843\n",
      "Label 28: Accuracy = 0.9824\n"
     ]
    }
   ],
   "source": [
    "accuracies = []\n",
    "for tp, tn, fp, fn in zip(TP, TN, FP, FN):\n",
    "    accuracy = calculate_accuracy(tp, tn, fp, fn)\n",
    "    accuracies.append(accuracy)\n",
    "\n",
    "# Print accuracies for each label\n",
    "for i, acc in enumerate(accuracies):\n",
    "    print(f\"Label {i + 1}: Accuracy = {acc:.4f}\")"
   ]
  },
  {
   "cell_type": "code",
   "execution_count": 25,
   "id": "cf10048b-bc5d-4f64-8256-e75d83474c50",
   "metadata": {},
   "outputs": [],
   "source": [
    "# Summarize the metrics into a confusion matrix\n",
    "summarized_cm = summarize_metrics(TP, TN, FP, FN)"
   ]
  },
  {
   "cell_type": "code",
   "execution_count": 26,
   "id": "6f63329f-cc09-4b25-abf2-daf9279be373",
   "metadata": {},
   "outputs": [
    {
     "data": {
      "image/png": "[encoded data removed]",
      "text/plain": [
       "<Figure size 640x480 with 1 Axes>"
      ]
     },
     "metadata": {},
     "output_type": "display_data"
    }
   ],
   "source": [
    "# Plot the summarized confusion matrix using matplotlib\n",
    "plt.imshow(summarized_cm, interpolation='nearest', cmap=plt.cm.twilight)\n",
    "plt.title('Summarized Confusion Matrix')\n",
    "tick_marks = np.arange(2)\n",
    "plt.xticks(tick_marks, ['Predicted Negative', 'Predicted Positive'])\n",
    "plt.yticks(tick_marks, ['Actual Negative', 'Actual Positive'])\n",
    "plt.tight_layout()\n",
    "plt.ylabel('True Label')\n",
    "plt.xlabel('Predicted Label')\n",
    "plt.grid(visible=False)\n",
    "for i in range(2):\n",
    "    for j in range(2):\n",
    "        plt.text(j, i, str(summarized_cm[i][j]), horizontalalignment='center', verticalalignment='center', color='black')\n",
    "plt.show()"
   ]
  },
  {
   "cell_type": "code",
   "execution_count": 27,
   "id": "ae90b627-e1dd-4b0a-b496-6bf050109d59",
   "metadata": {},
   "outputs": [
    {
     "name": "stderr",
     "output_type": "stream",
     "text": [
      "C:\\ProgramData\\anaconda3\\Lib\\site-packages\\keras\\src\\engine\\training.py:3000: UserWarning: You are saving your model as an HDF5 file via `model.save()`. This file format is considered legacy. We recommend using instead the native Keras format, e.g. `model.save('my_model.keras')`.\n",
      "  saving_api.save_model(\n"
     ]
    }
   ],
   "source": [
    "model_save_path = 'sign_language_model.h5'\n",
    "\n",
    "model.save(model_save_path)"
   ]
  },
  {
   "cell_type": "code",
   "execution_count": null,
   "id": "80dc539b-2426-4e85-91b9-df77317bb7ce",
   "metadata": {},
   "outputs": [],
   "source": []
  }
 ],
 "metadata": {
  "kernelspec": {
   "display_name": "Python 3 (ipykernel)",
   "language": "python",
   "name": "python3"
  },
  "language_info": {
   "codemirror_mode": {
    "name": "ipython",
    "version": 3
   },
   "file_extension": ".py",
   "mimetype": "text/x-python",
   "name": "python",
   "nbconvert_exporter": "python",
   "pygments_lexer": "ipython3",
   "version": "3.11.7"
  },
  "papermill": {
   "default_parameters": {},
   "duration": 274.978109,
   "end_time": "2021-08-11T06:31:21.660936",
   "environment_variables": {},
   "exception": null,
   "input_path": "__notebook__.ipynb",
   "output_path": "__notebook__.ipynb",
   "parameters": {},
   "start_time": "2021-08-11T06:26:46.682827",
   "version": "2.3.3"
  }
 },
 "nbformat": 4,
 "nbformat_minor": 5
}
