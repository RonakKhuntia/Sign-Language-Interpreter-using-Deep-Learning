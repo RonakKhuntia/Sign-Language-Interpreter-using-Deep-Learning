{
 "cells": [
  {
   "cell_type": "code",
   "execution_count": 1,
   "metadata": {
    "id": "igMyGnjE9hEp"
   },
   "outputs": [],
   "source": [
    "import csv\n",
    "\n",
    "import numpy as np\n",
    "import tensorflow as tf\n",
    "from sklearn.model_selection import train_test_split\n",
    "\n",
    "RANDOM_SEED = 42"
   ]
  },
  {
   "cell_type": "markdown",
   "metadata": {
    "id": "t2HDvhIu9hEr"
   },
   "source": [
    "# Specify each path"
   ]
  },
  {
   "cell_type": "code",
   "execution_count": 2,
   "metadata": {
    "id": "9NvZP2Zn9hEy"
   },
   "outputs": [],
   "source": [
    "dataset = 'model/keypoint_classifier/keypoint.csv'\n",
    "model_save_path = 'model/keypoint_classifier/keypoint_classifier.hdf5'\n",
    "tflite_save_path = 'model/keypoint_classifier/keypoint_classifier.tflite'"
   ]
  },
  {
   "cell_type": "markdown",
   "metadata": {
    "id": "s5oMH7x19hEz"
   },
   "source": [
    "# Set number of classes"
   ]
  },
  {
   "cell_type": "code",
   "execution_count": 3,
   "metadata": {
    "id": "du4kodXL9hEz"
   },
   "outputs": [],
   "source": [
    "NUM_CLASSES = 8"
   ]
  },
  {
   "cell_type": "markdown",
   "metadata": {
    "id": "XjnL0uso9hEz"
   },
   "source": [
    "# Dataset reading"
   ]
  },
  {
   "cell_type": "code",
   "execution_count": 4,
   "metadata": {
    "id": "QT5ZqtEz9hE0"
   },
   "outputs": [],
   "source": [
    "X_dataset = np.loadtxt(dataset, delimiter=',', dtype='float32', usecols=list(range(1, (21 * 2) + 1)))"
   ]
  },
  {
   "cell_type": "code",
   "execution_count": 5,
   "metadata": {
    "id": "QmoKFsp49hE0"
   },
   "outputs": [],
   "source": [
    "y_dataset = np.loadtxt(dataset, delimiter=',', dtype='int32', usecols=(0))"
   ]
  },
  {
   "cell_type": "code",
   "execution_count": 6,
   "metadata": {
    "id": "xQU7JTZ_9hE0"
   },
   "outputs": [],
   "source": [
    "X_train, X_test, y_train, y_test = train_test_split(X_dataset, y_dataset, train_size=0.75, random_state=RANDOM_SEED)"
   ]
  },
  {
   "cell_type": "markdown",
   "metadata": {
    "id": "mxK_lETT9hE0"
   },
   "source": [
    "# Model building"
   ]
  },
  {
   "cell_type": "code",
   "execution_count": 7,
   "metadata": {
    "id": "vHBmUf1t9hE1"
   },
   "outputs": [],
   "source": [
    "model = tf.keras.models.Sequential([\n",
    "    tf.keras.layers.Input((21 * 2, )),\n",
    "    tf.keras.layers.Dropout(0.2),\n",
    "    tf.keras.layers.Dense(20, activation='relu'),\n",
    "    tf.keras.layers.Dropout(0.4),\n",
    "    tf.keras.layers.Dense(10, activation='relu'),\n",
    "    tf.keras.layers.Dense(NUM_CLASSES, activation='softmax')\n",
    "])"
   ]
  },
  {
   "cell_type": "code",
   "execution_count": 8,
   "metadata": {
    "colab": {
     "base_uri": "https://localhost:8080/"
    },
    "id": "ypqky9tc9hE1",
    "outputId": "5db082bb-30e3-4110-bf63-a1ee777ecd46"
   },
   "outputs": [
    {
     "name": "stdout",
     "output_type": "stream",
     "text": [
      "Model: \"sequential\"\n",
      "_________________________________________________________________\n",
      " Layer (type)                Output Shape              Param #   \n",
      "=================================================================\n",
      " dropout (Dropout)           (None, 42)                0         \n",
      "                                                                 \n",
      " dense (Dense)               (None, 20)                860       \n",
      "                                                                 \n",
      " dropout_1 (Dropout)         (None, 20)                0         \n",
      "                                                                 \n",
      " dense_1 (Dense)             (None, 10)                210       \n",
      "                                                                 \n",
      " dense_2 (Dense)             (None, 8)                 88        \n",
      "                                                                 \n",
      "=================================================================\n",
      "Total params: 1158 (4.52 KB)\n",
      "Trainable params: 1158 (4.52 KB)\n",
      "Non-trainable params: 0 (0.00 Byte)\n",
      "_________________________________________________________________\n"
     ]
    }
   ],
   "source": [
    "model.summary()  # tf.keras.utils.plot_model(model, show_shapes=True)"
   ]
  },
  {
   "cell_type": "code",
   "execution_count": 9,
   "metadata": {
    "id": "MbMjOflQ9hE1"
   },
   "outputs": [],
   "source": [
    "# Model checkpoint callback\n",
    "cp_callback = tf.keras.callbacks.ModelCheckpoint(\n",
    "    model_save_path, verbose=1, save_weights_only=False)\n",
    "# Callback for early stopping\n",
    "es_callback = tf.keras.callbacks.EarlyStopping(patience=20, verbose=1)"
   ]
  },
  {
   "cell_type": "code",
   "execution_count": 10,
   "metadata": {
    "id": "c3Dac0M_9hE2"
   },
   "outputs": [],
   "source": [
    "# Model compilation\n",
    "model.compile(\n",
    "    optimizer='adam',\n",
    "    loss='sparse_categorical_crossentropy',\n",
    "    metrics=['accuracy']\n",
    ")"
   ]
  },
  {
   "cell_type": "markdown",
   "metadata": {
    "id": "7XI0j1Iu9hE2"
   },
   "source": [
    "# Model training"
   ]
  },
  {
   "cell_type": "code",
   "execution_count": 11,
   "metadata": {
    "colab": {
     "base_uri": "https://localhost:8080/"
    },
    "id": "WirBl-JE9hE3",
    "outputId": "71b30ca2-8294-4d9d-8aa2-800d90d399de",
    "scrolled": true
   },
   "outputs": [
    {
     "name": "stdout",
     "output_type": "stream",
     "text": [
      "Epoch 1/1000\n",
      " 1/51 [..............................] - ETA: 22s - loss: 2.1587 - accuracy: 0.0781\n",
      "Epoch 1: saving model to model/keypoint_classifier\\keypoint_classifier.hdf5\n",
      "51/51 [==============================] - 1s 4ms/step - loss: 2.0333 - accuracy: 0.1770 - val_loss: 1.8627 - val_accuracy: 0.3304\n",
      "Epoch 2/1000\n",
      " 1/51 [..............................] - ETA: 0s - loss: 1.9037 - accuracy: 0.2266\n",
      "Epoch 2: saving model to model/keypoint_classifier\\keypoint_classifier.hdf5\n",
      "51/51 [==============================] - 0s 2ms/step - loss: 1.8640 - accuracy: 0.2966 - val_loss: 1.7103 - val_accuracy: 0.3948\n",
      "Epoch 3/1000\n",
      " 1/51 [..............................] - ETA: 0s - loss: 1.7198 - accuracy: 0.3750\n",
      "Epoch 3: saving model to model/keypoint_classifier\\keypoint_classifier.hdf5\n"
     ]
    },
    {
     "name": "stderr",
     "output_type": "stream",
     "text": [
      "C:\\ProgramData\\anaconda3\\Lib\\site-packages\\keras\\src\\engine\\training.py:3000: UserWarning: You are saving your model as an HDF5 file via `model.save()`. This file format is considered legacy. We recommend using instead the native Keras format, e.g. `model.save('my_model.keras')`.\n",
      "  saving_api.save_model(\n"
     ]
    },
    {
     "name": "stdout",
     "output_type": "stream",
     "text": [
      "51/51 [==============================] - 0s 2ms/step - loss: 1.7141 - accuracy: 0.3704 - val_loss: 1.5240 - val_accuracy: 0.4770\n",
      "Epoch 4/1000\n",
      " 1/51 [..............................] - ETA: 0s - loss: 1.7132 - accuracy: 0.3359\n",
      "Epoch 4: saving model to model/keypoint_classifier\\keypoint_classifier.hdf5\n",
      "51/51 [==============================] - 0s 2ms/step - loss: 1.5603 - accuracy: 0.4233 - val_loss: 1.3737 - val_accuracy: 0.5244\n",
      "Epoch 5/1000\n",
      " 1/51 [..............................] - ETA: 0s - loss: 1.4970 - accuracy: 0.4766\n",
      "Epoch 5: saving model to model/keypoint_classifier\\keypoint_classifier.hdf5\n",
      "51/51 [==============================] - 0s 2ms/step - loss: 1.4375 - accuracy: 0.4670 - val_loss: 1.2604 - val_accuracy: 0.5312\n",
      "Epoch 6/1000\n",
      " 1/51 [..............................] - ETA: 0s - loss: 1.2785 - accuracy: 0.5078\n",
      "Epoch 6: saving model to model/keypoint_classifier\\keypoint_classifier.hdf5\n",
      "51/51 [==============================] - 0s 2ms/step - loss: 1.3724 - accuracy: 0.4740 - val_loss: 1.1666 - val_accuracy: 0.5607\n",
      "Epoch 7/1000\n",
      " 1/51 [..............................] - ETA: 0s - loss: 1.2732 - accuracy: 0.5156\n",
      "Epoch 7: saving model to model/keypoint_classifier\\keypoint_classifier.hdf5\n",
      "51/51 [==============================] - 0s 2ms/step - loss: 1.3054 - accuracy: 0.4932 - val_loss: 1.0998 - val_accuracy: 0.5850\n",
      "Epoch 8/1000\n",
      " 1/51 [..............................] - ETA: 0s - loss: 1.2470 - accuracy: 0.4844\n",
      "Epoch 8: saving model to model/keypoint_classifier\\keypoint_classifier.hdf5\n",
      "51/51 [==============================] - 0s 2ms/step - loss: 1.2546 - accuracy: 0.5062 - val_loss: 1.0321 - val_accuracy: 0.6029\n",
      "Epoch 9/1000\n",
      " 1/51 [..............................] - ETA: 0s - loss: 1.3011 - accuracy: 0.4453\n",
      "Epoch 9: saving model to model/keypoint_classifier\\keypoint_classifier.hdf5\n",
      "51/51 [==============================] - 0s 2ms/step - loss: 1.2169 - accuracy: 0.5168 - val_loss: 0.9815 - val_accuracy: 0.6199\n",
      "Epoch 10/1000\n",
      " 1/51 [..............................] - ETA: 0s - loss: 1.2083 - accuracy: 0.5391\n",
      "Epoch 10: saving model to model/keypoint_classifier\\keypoint_classifier.hdf5\n",
      "51/51 [==============================] - 0s 2ms/step - loss: 1.1834 - accuracy: 0.5270 - val_loss: 0.9307 - val_accuracy: 0.6443\n",
      "Epoch 11/1000\n",
      " 1/51 [..............................] - ETA: 0s - loss: 1.1420 - accuracy: 0.5469\n",
      "Epoch 11: saving model to model/keypoint_classifier\\keypoint_classifier.hdf5\n",
      "51/51 [==============================] - 0s 2ms/step - loss: 1.1625 - accuracy: 0.5387 - val_loss: 0.8926 - val_accuracy: 0.6677\n",
      "Epoch 12/1000\n",
      " 1/51 [..............................] - ETA: 0s - loss: 1.1398 - accuracy: 0.6406\n",
      "Epoch 12: saving model to model/keypoint_classifier\\keypoint_classifier.hdf5\n",
      "51/51 [==============================] - 0s 2ms/step - loss: 1.1339 - accuracy: 0.5543 - val_loss: 0.8483 - val_accuracy: 0.6967\n",
      "Epoch 13/1000\n",
      " 1/51 [..............................] - ETA: 0s - loss: 1.2354 - accuracy: 0.4609\n",
      "Epoch 13: saving model to model/keypoint_classifier\\keypoint_classifier.hdf5\n",
      "51/51 [==============================] - 0s 2ms/step - loss: 1.0996 - accuracy: 0.5718 - val_loss: 0.8086 - val_accuracy: 0.7468\n",
      "Epoch 14/1000\n",
      " 1/51 [..............................] - ETA: 0s - loss: 1.2108 - accuracy: 0.5000\n",
      "Epoch 14: saving model to model/keypoint_classifier\\keypoint_classifier.hdf5\n",
      "51/51 [==============================] - 0s 2ms/step - loss: 1.0794 - accuracy: 0.5844 - val_loss: 0.7786 - val_accuracy: 0.8313\n",
      "Epoch 15/1000\n",
      " 1/51 [..............................] - ETA: 0s - loss: 1.1044 - accuracy: 0.5156\n",
      "Epoch 15: saving model to model/keypoint_classifier\\keypoint_classifier.hdf5\n",
      "51/51 [==============================] - 0s 2ms/step - loss: 1.0599 - accuracy: 0.5952 - val_loss: 0.7499 - val_accuracy: 0.8571\n",
      "Epoch 16/1000\n",
      " 1/51 [..............................] - ETA: 0s - loss: 1.0114 - accuracy: 0.6094\n",
      "Epoch 16: saving model to model/keypoint_classifier\\keypoint_classifier.hdf5\n",
      "51/51 [==============================] - 0s 1ms/step - loss: 1.0445 - accuracy: 0.6049 - val_loss: 0.7173 - val_accuracy: 0.8695\n",
      "Epoch 17/1000\n",
      " 1/51 [..............................] - ETA: 0s - loss: 0.9628 - accuracy: 0.5938\n",
      "Epoch 17: saving model to model/keypoint_classifier\\keypoint_classifier.hdf5\n",
      "51/51 [==============================] - 0s 2ms/step - loss: 1.0162 - accuracy: 0.6204 - val_loss: 0.7004 - val_accuracy: 0.8686\n",
      "Epoch 18/1000\n",
      " 1/51 [..............................] - ETA: 0s - loss: 1.0378 - accuracy: 0.5859\n",
      "Epoch 18: saving model to model/keypoint_classifier\\keypoint_classifier.hdf5\n",
      "51/51 [==============================] - 0s 1ms/step - loss: 1.0048 - accuracy: 0.6234 - val_loss: 0.6728 - val_accuracy: 0.8736\n",
      "Epoch 19/1000\n",
      " 1/51 [..............................] - ETA: 0s - loss: 1.0456 - accuracy: 0.6797\n",
      "Epoch 19: saving model to model/keypoint_classifier\\keypoint_classifier.hdf5\n",
      "51/51 [==============================] - 0s 2ms/step - loss: 0.9980 - accuracy: 0.6282 - val_loss: 0.6513 - val_accuracy: 0.8828\n",
      "Epoch 20/1000\n",
      " 1/51 [..............................] - ETA: 0s - loss: 1.0171 - accuracy: 0.6094\n",
      "Epoch 20: saving model to model/keypoint_classifier\\keypoint_classifier.hdf5\n",
      "51/51 [==============================] - 0s 2ms/step - loss: 0.9726 - accuracy: 0.6334 - val_loss: 0.6351 - val_accuracy: 0.8819\n",
      "Epoch 21/1000\n",
      " 1/51 [..............................] - ETA: 0s - loss: 0.9449 - accuracy: 0.6719\n",
      "Epoch 21: saving model to model/keypoint_classifier\\keypoint_classifier.hdf5\n",
      "51/51 [==============================] - 0s 2ms/step - loss: 0.9647 - accuracy: 0.6451 - val_loss: 0.6177 - val_accuracy: 0.8883\n",
      "Epoch 22/1000\n",
      " 1/51 [..............................] - ETA: 0s - loss: 1.0258 - accuracy: 0.5781\n",
      "Epoch 22: saving model to model/keypoint_classifier\\keypoint_classifier.hdf5\n",
      "51/51 [==============================] - 0s 2ms/step - loss: 0.9522 - accuracy: 0.6495 - val_loss: 0.6015 - val_accuracy: 0.8943\n",
      "Epoch 23/1000\n",
      " 1/51 [..............................] - ETA: 0s - loss: 0.9103 - accuracy: 0.6484\n",
      "Epoch 23: saving model to model/keypoint_classifier\\keypoint_classifier.hdf5\n",
      "51/51 [==============================] - 0s 2ms/step - loss: 0.9384 - accuracy: 0.6558 - val_loss: 0.5859 - val_accuracy: 0.8961\n",
      "Epoch 24/1000\n",
      " 1/51 [..............................] - ETA: 0s - loss: 1.0794 - accuracy: 0.6172\n",
      "Epoch 24: saving model to model/keypoint_classifier\\keypoint_classifier.hdf5\n",
      "51/51 [==============================] - 0s 2ms/step - loss: 0.9211 - accuracy: 0.6690 - val_loss: 0.5740 - val_accuracy: 0.8980\n",
      "Epoch 25/1000\n",
      " 1/51 [..............................] - ETA: 0s - loss: 0.9905 - accuracy: 0.6719\n",
      "Epoch 25: saving model to model/keypoint_classifier\\keypoint_classifier.hdf5\n",
      "51/51 [==============================] - 0s 2ms/step - loss: 0.9177 - accuracy: 0.6651 - val_loss: 0.5608 - val_accuracy: 0.8980\n",
      "Epoch 26/1000\n",
      " 1/51 [..............................] - ETA: 0s - loss: 0.9598 - accuracy: 0.6406\n",
      "Epoch 26: saving model to model/keypoint_classifier\\keypoint_classifier.hdf5\n",
      "51/51 [==============================] - 0s 2ms/step - loss: 0.9047 - accuracy: 0.6730 - val_loss: 0.5471 - val_accuracy: 0.9049\n",
      "Epoch 27/1000\n",
      " 1/51 [..............................] - ETA: 0s - loss: 0.9165 - accuracy: 0.6953\n",
      "Epoch 27: saving model to model/keypoint_classifier\\keypoint_classifier.hdf5\n",
      "51/51 [==============================] - 0s 1ms/step - loss: 0.9123 - accuracy: 0.6680 - val_loss: 0.5397 - val_accuracy: 0.9081\n",
      "Epoch 28/1000\n",
      " 1/51 [..............................] - ETA: 0s - loss: 1.0008 - accuracy: 0.6406\n",
      "Epoch 28: saving model to model/keypoint_classifier\\keypoint_classifier.hdf5\n",
      "51/51 [==============================] - 0s 2ms/step - loss: 0.8993 - accuracy: 0.6779 - val_loss: 0.5352 - val_accuracy: 0.9040\n",
      "Epoch 29/1000\n",
      " 1/51 [..............................] - ETA: 0s - loss: 1.0295 - accuracy: 0.6797\n",
      "Epoch 29: saving model to model/keypoint_classifier\\keypoint_classifier.hdf5\n",
      "51/51 [==============================] - 0s 2ms/step - loss: 0.8866 - accuracy: 0.6805 - val_loss: 0.5182 - val_accuracy: 0.9081\n",
      "Epoch 30/1000\n",
      " 1/51 [..............................] - ETA: 0s - loss: 0.8063 - accuracy: 0.6953\n",
      "Epoch 30: saving model to model/keypoint_classifier\\keypoint_classifier.hdf5\n",
      "51/51 [==============================] - 0s 2ms/step - loss: 0.8887 - accuracy: 0.6823 - val_loss: 0.5154 - val_accuracy: 0.9104\n",
      "Epoch 31/1000\n",
      " 1/51 [..............................] - ETA: 0s - loss: 0.8702 - accuracy: 0.7031\n",
      "Epoch 31: saving model to model/keypoint_classifier\\keypoint_classifier.hdf5\n",
      "51/51 [==============================] - 0s 2ms/step - loss: 0.8758 - accuracy: 0.6909 - val_loss: 0.5079 - val_accuracy: 0.9122\n",
      "Epoch 32/1000\n",
      " 1/51 [..............................] - ETA: 0s - loss: 0.7993 - accuracy: 0.7109\n",
      "Epoch 32: saving model to model/keypoint_classifier\\keypoint_classifier.hdf5\n",
      "51/51 [==============================] - 0s 2ms/step - loss: 0.8715 - accuracy: 0.6815 - val_loss: 0.4912 - val_accuracy: 0.9118\n",
      "Epoch 33/1000\n",
      " 1/51 [..............................] - ETA: 0s - loss: 0.8368 - accuracy: 0.6953\n",
      "Epoch 33: saving model to model/keypoint_classifier\\keypoint_classifier.hdf5\n",
      "51/51 [==============================] - 0s 1ms/step - loss: 0.8580 - accuracy: 0.6910 - val_loss: 0.4834 - val_accuracy: 0.9182\n",
      "Epoch 34/1000\n",
      " 1/51 [..............................] - ETA: 0s - loss: 0.8910 - accuracy: 0.7031\n",
      "Epoch 34: saving model to model/keypoint_classifier\\keypoint_classifier.hdf5\n",
      "51/51 [==============================] - 0s 2ms/step - loss: 0.8650 - accuracy: 0.6900 - val_loss: 0.4773 - val_accuracy: 0.9145\n",
      "Epoch 35/1000\n",
      " 1/51 [..............................] - ETA: 0s - loss: 0.8184 - accuracy: 0.6797\n",
      "Epoch 35: saving model to model/keypoint_classifier\\keypoint_classifier.hdf5\n",
      "51/51 [==============================] - 0s 2ms/step - loss: 0.8518 - accuracy: 0.6956 - val_loss: 0.4786 - val_accuracy: 0.9118\n",
      "Epoch 36/1000\n",
      " 1/51 [..............................] - ETA: 0s - loss: 0.8513 - accuracy: 0.6719\n",
      "Epoch 36: saving model to model/keypoint_classifier\\keypoint_classifier.hdf5\n",
      "51/51 [==============================] - 0s 2ms/step - loss: 0.8389 - accuracy: 0.7048 - val_loss: 0.4653 - val_accuracy: 0.9182\n",
      "Epoch 37/1000\n",
      " 1/51 [..............................] - ETA: 0s - loss: 0.8150 - accuracy: 0.6719\n",
      "Epoch 37: saving model to model/keypoint_classifier\\keypoint_classifier.hdf5\n",
      "51/51 [==============================] - 0s 2ms/step - loss: 0.8485 - accuracy: 0.6964 - val_loss: 0.4671 - val_accuracy: 0.9168\n",
      "Epoch 38/1000\n",
      " 1/51 [..............................] - ETA: 0s - loss: 0.8138 - accuracy: 0.7031\n",
      "Epoch 38: saving model to model/keypoint_classifier\\keypoint_classifier.hdf5\n",
      "51/51 [==============================] - 0s 2ms/step - loss: 0.8409 - accuracy: 0.7024 - val_loss: 0.4650 - val_accuracy: 0.9205\n",
      "Epoch 39/1000\n",
      " 1/51 [..............................] - ETA: 0s - loss: 0.9649 - accuracy: 0.6875\n",
      "Epoch 39: saving model to model/keypoint_classifier\\keypoint_classifier.hdf5\n",
      "51/51 [==============================] - 0s 1ms/step - loss: 0.8338 - accuracy: 0.7047 - val_loss: 0.4527 - val_accuracy: 0.9214\n",
      "Epoch 40/1000\n",
      " 1/51 [..............................] - ETA: 0s - loss: 0.9135 - accuracy: 0.6094\n",
      "Epoch 40: saving model to model/keypoint_classifier\\keypoint_classifier.hdf5\n",
      "51/51 [==============================] - 0s 2ms/step - loss: 0.8237 - accuracy: 0.7054 - val_loss: 0.4515 - val_accuracy: 0.9214\n",
      "Epoch 41/1000\n",
      " 1/51 [..............................] - ETA: 0s - loss: 0.9559 - accuracy: 0.6406\n",
      "Epoch 41: saving model to model/keypoint_classifier\\keypoint_classifier.hdf5\n",
      "51/51 [==============================] - 0s 2ms/step - loss: 0.8207 - accuracy: 0.7073 - val_loss: 0.4457 - val_accuracy: 0.9196\n",
      "Epoch 42/1000\n",
      " 1/51 [..............................] - ETA: 0s - loss: 0.8890 - accuracy: 0.6719\n",
      "Epoch 42: saving model to model/keypoint_classifier\\keypoint_classifier.hdf5\n",
      "51/51 [==============================] - 0s 2ms/step - loss: 0.8256 - accuracy: 0.7054 - val_loss: 0.4426 - val_accuracy: 0.9237\n",
      "Epoch 43/1000\n",
      " 1/51 [..............................] - ETA: 0s - loss: 0.7505 - accuracy: 0.7266\n",
      "Epoch 43: saving model to model/keypoint_classifier\\keypoint_classifier.hdf5\n",
      "51/51 [==============================] - 0s 2ms/step - loss: 0.8355 - accuracy: 0.7085 - val_loss: 0.4466 - val_accuracy: 0.9242\n",
      "Epoch 44/1000\n",
      " 1/51 [..............................] - ETA: 0s - loss: 0.7622 - accuracy: 0.7266\n",
      "Epoch 44: saving model to model/keypoint_classifier\\keypoint_classifier.hdf5\n",
      "51/51 [==============================] - 0s 2ms/step - loss: 0.8158 - accuracy: 0.7130 - val_loss: 0.4352 - val_accuracy: 0.9251\n",
      "Epoch 45/1000\n",
      " 1/51 [..............................] - ETA: 0s - loss: 0.9702 - accuracy: 0.7109\n",
      "Epoch 45: saving model to model/keypoint_classifier\\keypoint_classifier.hdf5\n",
      "51/51 [==============================] - 0s 2ms/step - loss: 0.7962 - accuracy: 0.7189 - val_loss: 0.4257 - val_accuracy: 0.9200\n",
      "Epoch 46/1000\n",
      " 1/51 [..............................] - ETA: 0s - loss: 0.8347 - accuracy: 0.7109\n",
      "Epoch 46: saving model to model/keypoint_classifier\\keypoint_classifier.hdf5\n",
      "51/51 [==============================] - 0s 2ms/step - loss: 0.8074 - accuracy: 0.7131 - val_loss: 0.4300 - val_accuracy: 0.9251\n",
      "Epoch 47/1000\n",
      " 1/51 [..............................] - ETA: 0s - loss: 0.7596 - accuracy: 0.7344\n",
      "Epoch 47: saving model to model/keypoint_classifier\\keypoint_classifier.hdf5\n",
      "51/51 [==============================] - 0s 2ms/step - loss: 0.8116 - accuracy: 0.7094 - val_loss: 0.4249 - val_accuracy: 0.9191\n",
      "Epoch 48/1000\n",
      " 1/51 [..............................] - ETA: 0s - loss: 0.8290 - accuracy: 0.7422\n",
      "Epoch 48: saving model to model/keypoint_classifier\\keypoint_classifier.hdf5\n",
      "51/51 [==============================] - 0s 2ms/step - loss: 0.7956 - accuracy: 0.7194 - val_loss: 0.4302 - val_accuracy: 0.9187\n",
      "Epoch 49/1000\n",
      " 1/51 [..............................] - ETA: 0s - loss: 0.6663 - accuracy: 0.7578\n",
      "Epoch 49: saving model to model/keypoint_classifier\\keypoint_classifier.hdf5\n",
      "51/51 [==============================] - 0s 2ms/step - loss: 0.7862 - accuracy: 0.7183 - val_loss: 0.4236 - val_accuracy: 0.9210\n",
      "Epoch 50/1000\n",
      " 1/51 [..............................] - ETA: 0s - loss: 1.1082 - accuracy: 0.6250\n",
      "Epoch 50: saving model to model/keypoint_classifier\\keypoint_classifier.hdf5\n",
      "51/51 [==============================] - 0s 2ms/step - loss: 0.7992 - accuracy: 0.7148 - val_loss: 0.4067 - val_accuracy: 0.9265\n",
      "Epoch 51/1000\n",
      " 1/51 [..............................] - ETA: 0s - loss: 0.7823 - accuracy: 0.7344\n",
      "Epoch 51: saving model to model/keypoint_classifier\\keypoint_classifier.hdf5\n",
      "51/51 [==============================] - 0s 2ms/step - loss: 0.7965 - accuracy: 0.7232 - val_loss: 0.4117 - val_accuracy: 0.9237\n",
      "Epoch 52/1000\n",
      " 1/51 [..............................] - ETA: 0s - loss: 0.6683 - accuracy: 0.7969\n",
      "Epoch 52: saving model to model/keypoint_classifier\\keypoint_classifier.hdf5\n",
      "51/51 [==============================] - 0s 2ms/step - loss: 0.7972 - accuracy: 0.7169 - val_loss: 0.4027 - val_accuracy: 0.9237\n",
      "Epoch 53/1000\n",
      " 1/51 [..............................] - ETA: 0s - loss: 0.7877 - accuracy: 0.7188\n",
      "Epoch 53: saving model to model/keypoint_classifier\\keypoint_classifier.hdf5\n",
      "51/51 [==============================] - 0s 1ms/step - loss: 0.7810 - accuracy: 0.7205 - val_loss: 0.4040 - val_accuracy: 0.9260\n",
      "Epoch 54/1000\n",
      "48/51 [===========================>..] - ETA: 0s - loss: 0.7873 - accuracy: 0.7210\n",
      "Epoch 54: saving model to model/keypoint_classifier\\keypoint_classifier.hdf5\n",
      "51/51 [==============================] - 0s 2ms/step - loss: 0.7905 - accuracy: 0.7186 - val_loss: 0.3989 - val_accuracy: 0.9297\n",
      "Epoch 55/1000\n",
      " 1/51 [..............................] - ETA: 0s - loss: 0.7983 - accuracy: 0.7656\n",
      "Epoch 55: saving model to model/keypoint_classifier\\keypoint_classifier.hdf5\n",
      "51/51 [==============================] - 0s 2ms/step - loss: 0.7743 - accuracy: 0.7339 - val_loss: 0.3991 - val_accuracy: 0.9269\n",
      "Epoch 56/1000\n",
      " 1/51 [..............................] - ETA: 0s - loss: 0.5760 - accuracy: 0.7812\n",
      "Epoch 56: saving model to model/keypoint_classifier\\keypoint_classifier.hdf5\n",
      "51/51 [==============================] - 0s 2ms/step - loss: 0.7888 - accuracy: 0.7168 - val_loss: 0.4002 - val_accuracy: 0.9233\n",
      "Epoch 57/1000\n",
      " 1/51 [..............................] - ETA: 0s - loss: 0.7975 - accuracy: 0.6875\n",
      "Epoch 57: saving model to model/keypoint_classifier\\keypoint_classifier.hdf5\n",
      "51/51 [==============================] - 0s 1ms/step - loss: 0.7654 - accuracy: 0.7260 - val_loss: 0.4000 - val_accuracy: 0.9246\n",
      "Epoch 58/1000\n",
      " 1/51 [..............................] - ETA: 0s - loss: 0.7234 - accuracy: 0.7422\n",
      "Epoch 58: saving model to model/keypoint_classifier\\keypoint_classifier.hdf5\n",
      "51/51 [==============================] - 0s 2ms/step - loss: 0.7803 - accuracy: 0.7238 - val_loss: 0.3985 - val_accuracy: 0.9219\n",
      "Epoch 59/1000\n",
      " 1/51 [..............................] - ETA: 0s - loss: 0.9045 - accuracy: 0.6484\n",
      "Epoch 59: saving model to model/keypoint_classifier\\keypoint_classifier.hdf5\n",
      "51/51 [==============================] - 0s 2ms/step - loss: 0.7764 - accuracy: 0.7254 - val_loss: 0.3987 - val_accuracy: 0.9219\n",
      "Epoch 60/1000\n",
      " 1/51 [..............................] - ETA: 0s - loss: 0.7863 - accuracy: 0.7031\n",
      "Epoch 60: saving model to model/keypoint_classifier\\keypoint_classifier.hdf5\n",
      "51/51 [==============================] - 0s 2ms/step - loss: 0.7703 - accuracy: 0.7274 - val_loss: 0.3915 - val_accuracy: 0.9274\n",
      "Epoch 61/1000\n",
      " 1/51 [..............................] - ETA: 0s - loss: 0.7634 - accuracy: 0.7656\n",
      "Epoch 61: saving model to model/keypoint_classifier\\keypoint_classifier.hdf5\n",
      "51/51 [==============================] - 0s 2ms/step - loss: 0.7733 - accuracy: 0.7303 - val_loss: 0.3865 - val_accuracy: 0.9297\n",
      "Epoch 62/1000\n",
      " 1/51 [..............................] - ETA: 0s - loss: 0.7829 - accuracy: 0.7188\n",
      "Epoch 62: saving model to model/keypoint_classifier\\keypoint_classifier.hdf5\n",
      "51/51 [==============================] - 0s 2ms/step - loss: 0.7835 - accuracy: 0.7214 - val_loss: 0.3872 - val_accuracy: 0.9260\n",
      "Epoch 63/1000\n",
      " 1/51 [..............................] - ETA: 0s - loss: 0.7334 - accuracy: 0.7344\n",
      "Epoch 63: saving model to model/keypoint_classifier\\keypoint_classifier.hdf5\n",
      "51/51 [==============================] - 0s 2ms/step - loss: 0.7554 - accuracy: 0.7309 - val_loss: 0.3868 - val_accuracy: 0.9278\n",
      "Epoch 64/1000\n",
      " 1/51 [..............................] - ETA: 0s - loss: 0.7182 - accuracy: 0.7500\n",
      "Epoch 64: saving model to model/keypoint_classifier\\keypoint_classifier.hdf5\n",
      "51/51 [==============================] - 0s 2ms/step - loss: 0.7669 - accuracy: 0.7307 - val_loss: 0.3771 - val_accuracy: 0.9311\n",
      "Epoch 65/1000\n",
      " 1/51 [..............................] - ETA: 0s - loss: 0.8712 - accuracy: 0.7422\n",
      "Epoch 65: saving model to model/keypoint_classifier\\keypoint_classifier.hdf5\n",
      "51/51 [==============================] - 0s 1ms/step - loss: 0.7682 - accuracy: 0.7300 - val_loss: 0.3896 - val_accuracy: 0.9242\n",
      "Epoch 66/1000\n",
      " 1/51 [..............................] - ETA: 0s - loss: 0.9063 - accuracy: 0.6562\n",
      "Epoch 66: saving model to model/keypoint_classifier\\keypoint_classifier.hdf5\n",
      "51/51 [==============================] - 0s 2ms/step - loss: 0.7555 - accuracy: 0.7293 - val_loss: 0.3794 - val_accuracy: 0.9315\n",
      "Epoch 67/1000\n",
      " 1/51 [..............................] - ETA: 0s - loss: 0.7518 - accuracy: 0.7266\n",
      "Epoch 67: saving model to model/keypoint_classifier\\keypoint_classifier.hdf5\n",
      "51/51 [==============================] - 0s 2ms/step - loss: 0.7665 - accuracy: 0.7320 - val_loss: 0.3856 - val_accuracy: 0.9246\n",
      "Epoch 68/1000\n",
      " 1/51 [..............................] - ETA: 0s - loss: 0.8730 - accuracy: 0.7031\n",
      "Epoch 68: saving model to model/keypoint_classifier\\keypoint_classifier.hdf5\n",
      "51/51 [==============================] - 0s 2ms/step - loss: 0.7515 - accuracy: 0.7261 - val_loss: 0.3816 - val_accuracy: 0.9251\n",
      "Epoch 69/1000\n",
      " 1/51 [..............................] - ETA: 0s - loss: 0.7890 - accuracy: 0.7109\n",
      "Epoch 69: saving model to model/keypoint_classifier\\keypoint_classifier.hdf5\n",
      "51/51 [==============================] - 0s 2ms/step - loss: 0.7690 - accuracy: 0.7261 - val_loss: 0.3903 - val_accuracy: 0.9233\n",
      "Epoch 70/1000\n",
      " 1/51 [..............................] - ETA: 0s - loss: 0.6296 - accuracy: 0.7969\n",
      "Epoch 70: saving model to model/keypoint_classifier\\keypoint_classifier.hdf5\n",
      "51/51 [==============================] - 0s 2ms/step - loss: 0.7470 - accuracy: 0.7324 - val_loss: 0.3777 - val_accuracy: 0.9251\n",
      "Epoch 71/1000\n",
      " 1/51 [..............................] - ETA: 0s - loss: 0.7591 - accuracy: 0.7344\n",
      "Epoch 71: saving model to model/keypoint_classifier\\keypoint_classifier.hdf5\n",
      "51/51 [==============================] - 0s 2ms/step - loss: 0.7688 - accuracy: 0.7280 - val_loss: 0.3700 - val_accuracy: 0.9288\n",
      "Epoch 72/1000\n",
      " 1/51 [..............................] - ETA: 0s - loss: 0.9256 - accuracy: 0.7266\n",
      "Epoch 72: saving model to model/keypoint_classifier\\keypoint_classifier.hdf5\n",
      "51/51 [==============================] - 0s 2ms/step - loss: 0.7617 - accuracy: 0.7293 - val_loss: 0.3739 - val_accuracy: 0.9288\n",
      "Epoch 73/1000\n",
      " 1/51 [..............................] - ETA: 0s - loss: 0.8201 - accuracy: 0.7266\n",
      "Epoch 73: saving model to model/keypoint_classifier\\keypoint_classifier.hdf5\n",
      "51/51 [==============================] - 0s 2ms/step - loss: 0.7495 - accuracy: 0.7336 - val_loss: 0.3770 - val_accuracy: 0.9242\n",
      "Epoch 74/1000\n",
      " 1/51 [..............................] - ETA: 0s - loss: 0.7373 - accuracy: 0.7344\n",
      "Epoch 74: saving model to model/keypoint_classifier\\keypoint_classifier.hdf5\n",
      "51/51 [==============================] - 0s 2ms/step - loss: 0.7509 - accuracy: 0.7353 - val_loss: 0.3718 - val_accuracy: 0.9301\n",
      "Epoch 75/1000\n",
      " 1/51 [..............................] - ETA: 0s - loss: 0.6764 - accuracy: 0.7969\n",
      "Epoch 75: saving model to model/keypoint_classifier\\keypoint_classifier.hdf5\n",
      "51/51 [==============================] - 0s 2ms/step - loss: 0.7503 - accuracy: 0.7395 - val_loss: 0.3782 - val_accuracy: 0.9251\n",
      "Epoch 76/1000\n",
      " 1/51 [..............................] - ETA: 0s - loss: 0.7450 - accuracy: 0.7891\n",
      "Epoch 76: saving model to model/keypoint_classifier\\keypoint_classifier.hdf5\n",
      "51/51 [==============================] - 0s 2ms/step - loss: 0.7372 - accuracy: 0.7433 - val_loss: 0.3683 - val_accuracy: 0.9260\n",
      "Epoch 77/1000\n",
      " 1/51 [..............................] - ETA: 0s - loss: 0.7431 - accuracy: 0.7500\n",
      "Epoch 77: saving model to model/keypoint_classifier\\keypoint_classifier.hdf5\n",
      "51/51 [==============================] - 0s 2ms/step - loss: 0.7396 - accuracy: 0.7428 - val_loss: 0.3587 - val_accuracy: 0.9334\n",
      "Epoch 78/1000\n",
      " 1/51 [..............................] - ETA: 0s - loss: 0.6773 - accuracy: 0.7500\n",
      "Epoch 78: saving model to model/keypoint_classifier\\keypoint_classifier.hdf5\n",
      "51/51 [==============================] - 0s 2ms/step - loss: 0.7753 - accuracy: 0.7220 - val_loss: 0.3705 - val_accuracy: 0.9269\n",
      "Epoch 79/1000\n",
      " 1/51 [..............................] - ETA: 0s - loss: 0.8392 - accuracy: 0.7031\n",
      "Epoch 79: saving model to model/keypoint_classifier\\keypoint_classifier.hdf5\n",
      "51/51 [==============================] - 0s 2ms/step - loss: 0.7422 - accuracy: 0.7366 - val_loss: 0.3694 - val_accuracy: 0.9256\n",
      "Epoch 80/1000\n",
      " 1/51 [..............................] - ETA: 0s - loss: 0.7763 - accuracy: 0.7031\n",
      "Epoch 80: saving model to model/keypoint_classifier\\keypoint_classifier.hdf5\n",
      "51/51 [==============================] - 0s 1ms/step - loss: 0.7535 - accuracy: 0.7355 - val_loss: 0.3662 - val_accuracy: 0.9233\n",
      "Epoch 81/1000\n",
      " 1/51 [..............................] - ETA: 0s - loss: 0.7751 - accuracy: 0.6875\n",
      "Epoch 81: saving model to model/keypoint_classifier\\keypoint_classifier.hdf5\n",
      "51/51 [==============================] - 0s 2ms/step - loss: 0.7212 - accuracy: 0.7441 - val_loss: 0.3633 - val_accuracy: 0.9265\n",
      "Epoch 82/1000\n",
      " 1/51 [..............................] - ETA: 0s - loss: 0.8538 - accuracy: 0.6875\n",
      "Epoch 82: saving model to model/keypoint_classifier\\keypoint_classifier.hdf5\n",
      "51/51 [==============================] - 0s 2ms/step - loss: 0.7387 - accuracy: 0.7370 - val_loss: 0.3595 - val_accuracy: 0.9288\n",
      "Epoch 83/1000\n",
      " 1/51 [..............................] - ETA: 0s - loss: 0.7492 - accuracy: 0.7422\n",
      "Epoch 83: saving model to model/keypoint_classifier\\keypoint_classifier.hdf5\n",
      "51/51 [==============================] - 0s 2ms/step - loss: 0.7314 - accuracy: 0.7384 - val_loss: 0.3575 - val_accuracy: 0.9320\n",
      "Epoch 84/1000\n",
      "48/51 [===========================>..] - ETA: 0s - loss: 0.7365 - accuracy: 0.7331\n",
      "Epoch 84: saving model to model/keypoint_classifier\\keypoint_classifier.hdf5\n",
      "51/51 [==============================] - 0s 2ms/step - loss: 0.7365 - accuracy: 0.7344 - val_loss: 0.3657 - val_accuracy: 0.9292\n",
      "Epoch 85/1000\n",
      " 1/51 [..............................] - ETA: 0s - loss: 0.7107 - accuracy: 0.7109\n",
      "Epoch 85: saving model to model/keypoint_classifier\\keypoint_classifier.hdf5\n",
      "51/51 [==============================] - 0s 2ms/step - loss: 0.7396 - accuracy: 0.7355 - val_loss: 0.3568 - val_accuracy: 0.9288\n",
      "Epoch 86/1000\n",
      " 1/51 [..............................] - ETA: 0s - loss: 0.7851 - accuracy: 0.7422\n",
      "Epoch 86: saving model to model/keypoint_classifier\\keypoint_classifier.hdf5\n",
      "51/51 [==============================] - 0s 2ms/step - loss: 0.7326 - accuracy: 0.7416 - val_loss: 0.3735 - val_accuracy: 0.9210\n",
      "Epoch 87/1000\n",
      " 1/51 [..............................] - ETA: 0s - loss: 0.6296 - accuracy: 0.7344\n",
      "Epoch 87: saving model to model/keypoint_classifier\\keypoint_classifier.hdf5\n",
      "51/51 [==============================] - 0s 2ms/step - loss: 0.7336 - accuracy: 0.7433 - val_loss: 0.3668 - val_accuracy: 0.9265\n",
      "Epoch 88/1000\n",
      " 1/51 [..............................] - ETA: 0s - loss: 0.6991 - accuracy: 0.7656\n",
      "Epoch 88: saving model to model/keypoint_classifier\\keypoint_classifier.hdf5\n",
      "51/51 [==============================] - 0s 2ms/step - loss: 0.7378 - accuracy: 0.7373 - val_loss: 0.3714 - val_accuracy: 0.9242\n",
      "Epoch 89/1000\n",
      " 1/51 [..............................] - ETA: 0s - loss: 0.8244 - accuracy: 0.7578\n",
      "Epoch 89: saving model to model/keypoint_classifier\\keypoint_classifier.hdf5\n",
      "51/51 [==============================] - 0s 2ms/step - loss: 0.7308 - accuracy: 0.7434 - val_loss: 0.3618 - val_accuracy: 0.9311\n",
      "Epoch 90/1000\n",
      " 1/51 [..............................] - ETA: 0s - loss: 0.8624 - accuracy: 0.6797\n",
      "Epoch 90: saving model to model/keypoint_classifier\\keypoint_classifier.hdf5\n",
      "51/51 [==============================] - 0s 2ms/step - loss: 0.7386 - accuracy: 0.7396 - val_loss: 0.3576 - val_accuracy: 0.9251\n",
      "Epoch 91/1000\n",
      " 1/51 [..............................] - ETA: 0s - loss: 0.6043 - accuracy: 0.7578\n",
      "Epoch 91: saving model to model/keypoint_classifier\\keypoint_classifier.hdf5\n",
      "51/51 [==============================] - 0s 2ms/step - loss: 0.7328 - accuracy: 0.7456 - val_loss: 0.3642 - val_accuracy: 0.9269\n",
      "Epoch 92/1000\n",
      " 1/51 [..............................] - ETA: 0s - loss: 0.7528 - accuracy: 0.7422\n",
      "Epoch 92: saving model to model/keypoint_classifier\\keypoint_classifier.hdf5\n",
      "51/51 [==============================] - 0s 2ms/step - loss: 0.7293 - accuracy: 0.7413 - val_loss: 0.3648 - val_accuracy: 0.9233\n",
      "Epoch 93/1000\n",
      " 1/51 [..............................] - ETA: 0s - loss: 0.6940 - accuracy: 0.7422\n",
      "Epoch 93: saving model to model/keypoint_classifier\\keypoint_classifier.hdf5\n",
      "51/51 [==============================] - 0s 2ms/step - loss: 0.7093 - accuracy: 0.7490 - val_loss: 0.3582 - val_accuracy: 0.9274\n",
      "Epoch 94/1000\n",
      " 1/51 [..............................] - ETA: 0s - loss: 0.7085 - accuracy: 0.7656\n",
      "Epoch 94: saving model to model/keypoint_classifier\\keypoint_classifier.hdf5\n",
      "51/51 [==============================] - 0s 2ms/step - loss: 0.7198 - accuracy: 0.7459 - val_loss: 0.3542 - val_accuracy: 0.9260\n",
      "Epoch 95/1000\n",
      " 1/51 [..............................] - ETA: 0s - loss: 0.7715 - accuracy: 0.7344\n",
      "Epoch 95: saving model to model/keypoint_classifier\\keypoint_classifier.hdf5\n",
      "51/51 [==============================] - 0s 2ms/step - loss: 0.7360 - accuracy: 0.7346 - val_loss: 0.3563 - val_accuracy: 0.9301\n",
      "Epoch 96/1000\n",
      " 1/51 [..............................] - ETA: 0s - loss: 0.7011 - accuracy: 0.7188\n",
      "Epoch 96: saving model to model/keypoint_classifier\\keypoint_classifier.hdf5\n",
      "51/51 [==============================] - 0s 2ms/step - loss: 0.7248 - accuracy: 0.7355 - val_loss: 0.3514 - val_accuracy: 0.9283\n",
      "Epoch 97/1000\n",
      " 1/51 [..............................] - ETA: 0s - loss: 0.6598 - accuracy: 0.8281\n",
      "Epoch 97: saving model to model/keypoint_classifier\\keypoint_classifier.hdf5\n",
      "51/51 [==============================] - 0s 2ms/step - loss: 0.7224 - accuracy: 0.7450 - val_loss: 0.3546 - val_accuracy: 0.9265\n",
      "Epoch 98/1000\n",
      " 1/51 [..............................] - ETA: 0s - loss: 0.8115 - accuracy: 0.7266\n",
      "Epoch 98: saving model to model/keypoint_classifier\\keypoint_classifier.hdf5\n",
      "51/51 [==============================] - 0s 2ms/step - loss: 0.7231 - accuracy: 0.7422 - val_loss: 0.3560 - val_accuracy: 0.9274\n",
      "Epoch 99/1000\n",
      "51/51 [==============================] - ETA: 0s - loss: 0.7001 - accuracy: 0.7571\n",
      "Epoch 99: saving model to model/keypoint_classifier\\keypoint_classifier.hdf5\n",
      "51/51 [==============================] - 0s 2ms/step - loss: 0.7001 - accuracy: 0.7571 - val_loss: 0.3470 - val_accuracy: 0.9274\n",
      "Epoch 100/1000\n",
      " 1/51 [..............................] - ETA: 0s - loss: 0.8650 - accuracy: 0.6641\n",
      "Epoch 100: saving model to model/keypoint_classifier\\keypoint_classifier.hdf5\n",
      "51/51 [==============================] - 0s 2ms/step - loss: 0.7149 - accuracy: 0.7505 - val_loss: 0.3444 - val_accuracy: 0.9292\n",
      "Epoch 101/1000\n",
      " 1/51 [..............................] - ETA: 0s - loss: 0.6325 - accuracy: 0.7891\n",
      "Epoch 101: saving model to model/keypoint_classifier\\keypoint_classifier.hdf5\n",
      "51/51 [==============================] - 0s 2ms/step - loss: 0.7225 - accuracy: 0.7439 - val_loss: 0.3517 - val_accuracy: 0.9288\n",
      "Epoch 102/1000\n",
      " 1/51 [..............................] - ETA: 0s - loss: 0.7146 - accuracy: 0.7109\n",
      "Epoch 102: saving model to model/keypoint_classifier\\keypoint_classifier.hdf5\n",
      "51/51 [==============================] - 0s 2ms/step - loss: 0.7113 - accuracy: 0.7531 - val_loss: 0.3463 - val_accuracy: 0.9269\n",
      "Epoch 103/1000\n",
      " 1/51 [..............................] - ETA: 0s - loss: 0.5827 - accuracy: 0.7891\n",
      "Epoch 103: saving model to model/keypoint_classifier\\keypoint_classifier.hdf5\n",
      "51/51 [==============================] - 0s 2ms/step - loss: 0.7190 - accuracy: 0.7465 - val_loss: 0.3518 - val_accuracy: 0.9301\n",
      "Epoch 104/1000\n",
      " 1/51 [..............................] - ETA: 0s - loss: 0.8342 - accuracy: 0.7500\n",
      "Epoch 104: saving model to model/keypoint_classifier\\keypoint_classifier.hdf5\n",
      "51/51 [==============================] - 0s 2ms/step - loss: 0.7151 - accuracy: 0.7513 - val_loss: 0.3475 - val_accuracy: 0.9288\n",
      "Epoch 105/1000\n",
      " 1/51 [..............................] - ETA: 0s - loss: 0.7630 - accuracy: 0.7344\n",
      "Epoch 105: saving model to model/keypoint_classifier\\keypoint_classifier.hdf5\n",
      "51/51 [==============================] - 0s 2ms/step - loss: 0.7257 - accuracy: 0.7465 - val_loss: 0.3452 - val_accuracy: 0.9301\n",
      "Epoch 106/1000\n",
      " 1/51 [..............................] - ETA: 0s - loss: 0.7382 - accuracy: 0.7422\n",
      "Epoch 106: saving model to model/keypoint_classifier\\keypoint_classifier.hdf5\n",
      "51/51 [==============================] - 0s 2ms/step - loss: 0.7219 - accuracy: 0.7477 - val_loss: 0.3518 - val_accuracy: 0.9324\n",
      "Epoch 107/1000\n",
      " 1/51 [..............................] - ETA: 0s - loss: 0.6182 - accuracy: 0.7266\n",
      "Epoch 107: saving model to model/keypoint_classifier\\keypoint_classifier.hdf5\n",
      "51/51 [==============================] - 0s 2ms/step - loss: 0.7097 - accuracy: 0.7502 - val_loss: 0.3439 - val_accuracy: 0.9320\n",
      "Epoch 108/1000\n",
      " 1/51 [..............................] - ETA: 0s - loss: 0.7567 - accuracy: 0.7344\n",
      "Epoch 108: saving model to model/keypoint_classifier\\keypoint_classifier.hdf5\n",
      "51/51 [==============================] - 0s 2ms/step - loss: 0.7239 - accuracy: 0.7428 - val_loss: 0.3518 - val_accuracy: 0.9274\n",
      "Epoch 109/1000\n",
      " 1/51 [..............................] - ETA: 0s - loss: 0.7283 - accuracy: 0.7422\n",
      "Epoch 109: saving model to model/keypoint_classifier\\keypoint_classifier.hdf5\n",
      "51/51 [==============================] - 0s 2ms/step - loss: 0.7214 - accuracy: 0.7407 - val_loss: 0.3449 - val_accuracy: 0.9311\n",
      "Epoch 110/1000\n",
      " 1/51 [..............................] - ETA: 0s - loss: 0.5980 - accuracy: 0.8281\n",
      "Epoch 110: saving model to model/keypoint_classifier\\keypoint_classifier.hdf5\n",
      "51/51 [==============================] - 0s 2ms/step - loss: 0.7159 - accuracy: 0.7479 - val_loss: 0.3468 - val_accuracy: 0.9301\n",
      "Epoch 111/1000\n",
      " 1/51 [..............................] - ETA: 0s - loss: 0.8045 - accuracy: 0.7109\n",
      "Epoch 111: saving model to model/keypoint_classifier\\keypoint_classifier.hdf5\n",
      "51/51 [==============================] - 0s 2ms/step - loss: 0.7172 - accuracy: 0.7487 - val_loss: 0.3427 - val_accuracy: 0.9292\n",
      "Epoch 112/1000\n",
      " 1/51 [..............................] - ETA: 0s - loss: 0.7807 - accuracy: 0.7656\n",
      "Epoch 112: saving model to model/keypoint_classifier\\keypoint_classifier.hdf5\n",
      "51/51 [==============================] - 0s 2ms/step - loss: 0.7007 - accuracy: 0.7575 - val_loss: 0.3439 - val_accuracy: 0.9338\n",
      "Epoch 113/1000\n",
      " 1/51 [..............................] - ETA: 0s - loss: 0.7674 - accuracy: 0.7031\n",
      "Epoch 113: saving model to model/keypoint_classifier\\keypoint_classifier.hdf5\n",
      "51/51 [==============================] - 0s 2ms/step - loss: 0.7080 - accuracy: 0.7491 - val_loss: 0.3362 - val_accuracy: 0.9343\n",
      "Epoch 114/1000\n",
      " 1/51 [..............................] - ETA: 0s - loss: 0.7267 - accuracy: 0.6875\n",
      "Epoch 114: saving model to model/keypoint_classifier\\keypoint_classifier.hdf5\n",
      "51/51 [==============================] - 0s 2ms/step - loss: 0.7186 - accuracy: 0.7462 - val_loss: 0.3446 - val_accuracy: 0.9288\n",
      "Epoch 115/1000\n",
      "43/51 [========================>.....] - ETA: 0s - loss: 0.7135 - accuracy: 0.7462\n",
      "Epoch 115: saving model to model/keypoint_classifier\\keypoint_classifier.hdf5\n",
      "51/51 [==============================] - 0s 2ms/step - loss: 0.7137 - accuracy: 0.7428 - val_loss: 0.3362 - val_accuracy: 0.9315\n",
      "Epoch 116/1000\n",
      "41/51 [=======================>......] - ETA: 0s - loss: 0.7051 - accuracy: 0.7530\n",
      "Epoch 116: saving model to model/keypoint_classifier\\keypoint_classifier.hdf5\n",
      "51/51 [==============================] - 0s 2ms/step - loss: 0.7149 - accuracy: 0.7497 - val_loss: 0.3449 - val_accuracy: 0.9334\n",
      "Epoch 117/1000\n",
      " 1/51 [..............................] - ETA: 0s - loss: 0.9580 - accuracy: 0.7266\n",
      "Epoch 117: saving model to model/keypoint_classifier\\keypoint_classifier.hdf5\n",
      "51/51 [==============================] - 0s 2ms/step - loss: 0.7052 - accuracy: 0.7497 - val_loss: 0.3374 - val_accuracy: 0.9315\n",
      "Epoch 118/1000\n",
      " 1/51 [..............................] - ETA: 0s - loss: 0.7256 - accuracy: 0.7578\n",
      "Epoch 118: saving model to model/keypoint_classifier\\keypoint_classifier.hdf5\n",
      "51/51 [==============================] - 0s 2ms/step - loss: 0.7106 - accuracy: 0.7473 - val_loss: 0.3434 - val_accuracy: 0.9301\n",
      "Epoch 119/1000\n",
      " 1/51 [..............................] - ETA: 0s - loss: 0.6543 - accuracy: 0.7656\n",
      "Epoch 119: saving model to model/keypoint_classifier\\keypoint_classifier.hdf5\n",
      "51/51 [==============================] - 0s 2ms/step - loss: 0.7133 - accuracy: 0.7511 - val_loss: 0.3371 - val_accuracy: 0.9343\n",
      "Epoch 120/1000\n",
      " 1/51 [..............................] - ETA: 0s - loss: 0.6735 - accuracy: 0.7578\n",
      "Epoch 120: saving model to model/keypoint_classifier\\keypoint_classifier.hdf5\n",
      "51/51 [==============================] - 0s 2ms/step - loss: 0.7198 - accuracy: 0.7503 - val_loss: 0.3372 - val_accuracy: 0.9357\n",
      "Epoch 121/1000\n",
      " 1/51 [..............................] - ETA: 0s - loss: 0.7046 - accuracy: 0.6797\n",
      "Epoch 121: saving model to model/keypoint_classifier\\keypoint_classifier.hdf5\n",
      "51/51 [==============================] - 0s 2ms/step - loss: 0.7062 - accuracy: 0.7453 - val_loss: 0.3432 - val_accuracy: 0.9278\n",
      "Epoch 122/1000\n",
      " 1/51 [..............................] - ETA: 0s - loss: 0.7551 - accuracy: 0.7188\n",
      "Epoch 122: saving model to model/keypoint_classifier\\keypoint_classifier.hdf5\n",
      "51/51 [==============================] - 0s 2ms/step - loss: 0.7003 - accuracy: 0.7496 - val_loss: 0.3452 - val_accuracy: 0.9343\n",
      "Epoch 123/1000\n",
      " 1/51 [..............................] - ETA: 0s - loss: 0.7444 - accuracy: 0.7109\n",
      "Epoch 123: saving model to model/keypoint_classifier\\keypoint_classifier.hdf5\n",
      "51/51 [==============================] - 0s 2ms/step - loss: 0.6908 - accuracy: 0.7517 - val_loss: 0.3400 - val_accuracy: 0.9256\n",
      "Epoch 124/1000\n",
      " 1/51 [..............................] - ETA: 0s - loss: 0.5982 - accuracy: 0.8047\n",
      "Epoch 124: saving model to model/keypoint_classifier\\keypoint_classifier.hdf5\n",
      "51/51 [==============================] - 0s 2ms/step - loss: 0.7026 - accuracy: 0.7546 - val_loss: 0.3557 - val_accuracy: 0.9242\n",
      "Epoch 125/1000\n",
      " 1/51 [..............................] - ETA: 0s - loss: 0.7543 - accuracy: 0.7578\n",
      "Epoch 125: saving model to model/keypoint_classifier\\keypoint_classifier.hdf5\n",
      "51/51 [==============================] - 0s 2ms/step - loss: 0.7095 - accuracy: 0.7464 - val_loss: 0.3374 - val_accuracy: 0.9366\n",
      "Epoch 126/1000\n",
      "50/51 [============================>.] - ETA: 0s - loss: 0.7071 - accuracy: 0.7481\n",
      "Epoch 126: saving model to model/keypoint_classifier\\keypoint_classifier.hdf5\n",
      "51/51 [==============================] - 0s 2ms/step - loss: 0.7036 - accuracy: 0.7494 - val_loss: 0.3353 - val_accuracy: 0.9288\n",
      "Epoch 127/1000\n",
      " 1/51 [..............................] - ETA: 0s - loss: 0.6595 - accuracy: 0.7734\n",
      "Epoch 127: saving model to model/keypoint_classifier\\keypoint_classifier.hdf5\n",
      "51/51 [==============================] - 0s 2ms/step - loss: 0.6932 - accuracy: 0.7531 - val_loss: 0.3420 - val_accuracy: 0.9278\n",
      "Epoch 128/1000\n",
      "45/51 [=========================>....] - ETA: 0s - loss: 0.7115 - accuracy: 0.7403\n",
      "Epoch 128: saving model to model/keypoint_classifier\\keypoint_classifier.hdf5\n",
      "51/51 [==============================] - 0s 2ms/step - loss: 0.7095 - accuracy: 0.7395 - val_loss: 0.3379 - val_accuracy: 0.9324\n",
      "Epoch 129/1000\n",
      "51/51 [==============================] - ETA: 0s - loss: 0.6806 - accuracy: 0.7594\n",
      "Epoch 129: saving model to model/keypoint_classifier\\keypoint_classifier.hdf5\n",
      "51/51 [==============================] - 0s 2ms/step - loss: 0.6806 - accuracy: 0.7594 - val_loss: 0.3352 - val_accuracy: 0.9246\n",
      "Epoch 130/1000\n",
      " 1/51 [..............................] - ETA: 0s - loss: 0.6302 - accuracy: 0.7891\n",
      "Epoch 130: saving model to model/keypoint_classifier\\keypoint_classifier.hdf5\n",
      "51/51 [==============================] - 0s 2ms/step - loss: 0.7037 - accuracy: 0.7597 - val_loss: 0.3309 - val_accuracy: 0.9306\n",
      "Epoch 131/1000\n",
      " 1/51 [..............................] - ETA: 0s - loss: 0.6532 - accuracy: 0.7656\n",
      "Epoch 131: saving model to model/keypoint_classifier\\keypoint_classifier.hdf5\n",
      "51/51 [==============================] - 0s 2ms/step - loss: 0.6816 - accuracy: 0.7552 - val_loss: 0.3345 - val_accuracy: 0.9283\n",
      "Epoch 132/1000\n",
      " 1/51 [..............................] - ETA: 0s - loss: 0.6300 - accuracy: 0.7266\n",
      "Epoch 132: saving model to model/keypoint_classifier\\keypoint_classifier.hdf5\n",
      "51/51 [==============================] - 0s 2ms/step - loss: 0.7035 - accuracy: 0.7488 - val_loss: 0.3270 - val_accuracy: 0.9347\n",
      "Epoch 133/1000\n",
      " 1/51 [..............................] - ETA: 0s - loss: 0.5050 - accuracy: 0.8672\n",
      "Epoch 133: saving model to model/keypoint_classifier\\keypoint_classifier.hdf5\n",
      "51/51 [==============================] - 0s 2ms/step - loss: 0.7031 - accuracy: 0.7577 - val_loss: 0.3314 - val_accuracy: 0.9311\n",
      "Epoch 134/1000\n",
      "51/51 [==============================] - ETA: 0s - loss: 0.6849 - accuracy: 0.7548\n",
      "Epoch 134: saving model to model/keypoint_classifier\\keypoint_classifier.hdf5\n",
      "51/51 [==============================] - 0s 2ms/step - loss: 0.6849 - accuracy: 0.7548 - val_loss: 0.3342 - val_accuracy: 0.9292\n",
      "Epoch 135/1000\n",
      "49/51 [===========================>..] - ETA: 0s - loss: 0.6994 - accuracy: 0.7508\n",
      "Epoch 135: saving model to model/keypoint_classifier\\keypoint_classifier.hdf5\n",
      "51/51 [==============================] - 0s 2ms/step - loss: 0.7010 - accuracy: 0.7508 - val_loss: 0.3318 - val_accuracy: 0.9338\n",
      "Epoch 136/1000\n",
      " 1/51 [..............................] - ETA: 0s - loss: 0.6721 - accuracy: 0.7500\n",
      "Epoch 136: saving model to model/keypoint_classifier\\keypoint_classifier.hdf5\n",
      "51/51 [==============================] - 0s 2ms/step - loss: 0.7012 - accuracy: 0.7520 - val_loss: 0.3287 - val_accuracy: 0.9338\n",
      "Epoch 137/1000\n",
      "48/51 [===========================>..] - ETA: 0s - loss: 0.6708 - accuracy: 0.7640\n",
      "Epoch 137: saving model to model/keypoint_classifier\\keypoint_classifier.hdf5\n",
      "51/51 [==============================] - 0s 2ms/step - loss: 0.6756 - accuracy: 0.7635 - val_loss: 0.3348 - val_accuracy: 0.9338\n",
      "Epoch 138/1000\n",
      " 1/51 [..............................] - ETA: 0s - loss: 0.7164 - accuracy: 0.7500\n",
      "Epoch 138: saving model to model/keypoint_classifier\\keypoint_classifier.hdf5\n",
      "51/51 [==============================] - 0s 2ms/step - loss: 0.6999 - accuracy: 0.7533 - val_loss: 0.3373 - val_accuracy: 0.9324\n",
      "Epoch 139/1000\n",
      " 1/51 [..............................] - ETA: 0s - loss: 0.7545 - accuracy: 0.7344\n",
      "Epoch 139: saving model to model/keypoint_classifier\\keypoint_classifier.hdf5\n",
      "51/51 [==============================] - 0s 2ms/step - loss: 0.6879 - accuracy: 0.7528 - val_loss: 0.3353 - val_accuracy: 0.9324\n",
      "Epoch 140/1000\n",
      " 1/51 [..............................] - ETA: 0s - loss: 0.5335 - accuracy: 0.8125\n",
      "Epoch 140: saving model to model/keypoint_classifier\\keypoint_classifier.hdf5\n",
      "51/51 [==============================] - 0s 2ms/step - loss: 0.6893 - accuracy: 0.7600 - val_loss: 0.3267 - val_accuracy: 0.9329\n",
      "Epoch 141/1000\n",
      " 1/51 [..............................] - ETA: 0s - loss: 0.6368 - accuracy: 0.7656\n",
      "Epoch 141: saving model to model/keypoint_classifier\\keypoint_classifier.hdf5\n",
      "51/51 [==============================] - 0s 2ms/step - loss: 0.7039 - accuracy: 0.7522 - val_loss: 0.3380 - val_accuracy: 0.9311\n",
      "Epoch 142/1000\n",
      " 1/51 [..............................] - ETA: 0s - loss: 0.7395 - accuracy: 0.7734\n",
      "Epoch 142: saving model to model/keypoint_classifier\\keypoint_classifier.hdf5\n",
      "51/51 [==============================] - 0s 2ms/step - loss: 0.7054 - accuracy: 0.7539 - val_loss: 0.3352 - val_accuracy: 0.9375\n",
      "Epoch 143/1000\n",
      " 1/51 [..............................] - ETA: 0s - loss: 0.8046 - accuracy: 0.6641\n",
      "Epoch 143: saving model to model/keypoint_classifier\\keypoint_classifier.hdf5\n",
      "51/51 [==============================] - 0s 2ms/step - loss: 0.6790 - accuracy: 0.7672 - val_loss: 0.3354 - val_accuracy: 0.9324\n",
      "Epoch 144/1000\n",
      "49/51 [===========================>..] - ETA: 0s - loss: 0.6825 - accuracy: 0.7621\n",
      "Epoch 144: saving model to model/keypoint_classifier\\keypoint_classifier.hdf5\n",
      "51/51 [==============================] - 0s 2ms/step - loss: 0.6852 - accuracy: 0.7615 - val_loss: 0.3270 - val_accuracy: 0.9357\n",
      "Epoch 145/1000\n",
      " 1/51 [..............................] - ETA: 0s - loss: 0.6537 - accuracy: 0.7500\n",
      "Epoch 145: saving model to model/keypoint_classifier\\keypoint_classifier.hdf5\n",
      "51/51 [==============================] - 0s 2ms/step - loss: 0.7008 - accuracy: 0.7514 - val_loss: 0.3386 - val_accuracy: 0.9297\n",
      "Epoch 146/1000\n",
      " 1/51 [..............................] - ETA: 0s - loss: 0.6838 - accuracy: 0.7734\n",
      "Epoch 146: saving model to model/keypoint_classifier\\keypoint_classifier.hdf5\n",
      "51/51 [==============================] - 0s 2ms/step - loss: 0.6931 - accuracy: 0.7597 - val_loss: 0.3293 - val_accuracy: 0.9343\n",
      "Epoch 147/1000\n",
      " 1/51 [..............................] - ETA: 0s - loss: 0.6785 - accuracy: 0.7188\n",
      "Epoch 147: saving model to model/keypoint_classifier\\keypoint_classifier.hdf5\n",
      "51/51 [==============================] - 0s 2ms/step - loss: 0.6884 - accuracy: 0.7510 - val_loss: 0.3327 - val_accuracy: 0.9288\n",
      "Epoch 148/1000\n",
      " 1/51 [..............................] - ETA: 0s - loss: 0.6713 - accuracy: 0.7734\n",
      "Epoch 148: saving model to model/keypoint_classifier\\keypoint_classifier.hdf5\n",
      "51/51 [==============================] - 0s 2ms/step - loss: 0.6821 - accuracy: 0.7580 - val_loss: 0.3273 - val_accuracy: 0.9315\n",
      "Epoch 149/1000\n",
      " 1/51 [..............................] - ETA: 0s - loss: 0.7495 - accuracy: 0.7109\n",
      "Epoch 149: saving model to model/keypoint_classifier\\keypoint_classifier.hdf5\n",
      "51/51 [==============================] - 0s 2ms/step - loss: 0.6849 - accuracy: 0.7602 - val_loss: 0.3302 - val_accuracy: 0.9311\n",
      "Epoch 150/1000\n",
      " 1/51 [..............................] - ETA: 0s - loss: 0.7287 - accuracy: 0.7266\n",
      "Epoch 150: saving model to model/keypoint_classifier\\keypoint_classifier.hdf5\n",
      "51/51 [==============================] - 0s 2ms/step - loss: 0.7031 - accuracy: 0.7465 - val_loss: 0.3522 - val_accuracy: 0.9256\n",
      "Epoch 151/1000\n",
      "47/51 [==========================>...] - ETA: 0s - loss: 0.6672 - accuracy: 0.7633\n",
      "Epoch 151: saving model to model/keypoint_classifier\\keypoint_classifier.hdf5\n",
      "51/51 [==============================] - 0s 2ms/step - loss: 0.6735 - accuracy: 0.7626 - val_loss: 0.3252 - val_accuracy: 0.9320\n",
      "Epoch 152/1000\n",
      " 1/51 [..............................] - ETA: 0s - loss: 0.4629 - accuracy: 0.8438\n",
      "Epoch 152: saving model to model/keypoint_classifier\\keypoint_classifier.hdf5\n",
      "51/51 [==============================] - 0s 2ms/step - loss: 0.6864 - accuracy: 0.7566 - val_loss: 0.3290 - val_accuracy: 0.9315\n",
      "Epoch 153/1000\n",
      " 1/51 [..............................] - ETA: 0s - loss: 0.6564 - accuracy: 0.7734\n",
      "Epoch 153: saving model to model/keypoint_classifier\\keypoint_classifier.hdf5\n",
      "51/51 [==============================] - 0s 2ms/step - loss: 0.6952 - accuracy: 0.7502 - val_loss: 0.3383 - val_accuracy: 0.9274\n",
      "Epoch 154/1000\n",
      " 1/51 [..............................] - ETA: 0s - loss: 0.6249 - accuracy: 0.7812\n",
      "Epoch 154: saving model to model/keypoint_classifier\\keypoint_classifier.hdf5\n",
      "51/51 [==============================] - 0s 2ms/step - loss: 0.7052 - accuracy: 0.7522 - val_loss: 0.3388 - val_accuracy: 0.9242\n",
      "Epoch 155/1000\n",
      " 1/51 [..............................] - ETA: 0s - loss: 0.5136 - accuracy: 0.8203\n",
      "Epoch 155: saving model to model/keypoint_classifier\\keypoint_classifier.hdf5\n",
      "51/51 [==============================] - 0s 2ms/step - loss: 0.6982 - accuracy: 0.7588 - val_loss: 0.3393 - val_accuracy: 0.9251\n",
      "Epoch 156/1000\n",
      " 1/51 [..............................] - ETA: 0s - loss: 0.7110 - accuracy: 0.7188\n",
      "Epoch 156: saving model to model/keypoint_classifier\\keypoint_classifier.hdf5\n",
      "51/51 [==============================] - 0s 2ms/step - loss: 0.7029 - accuracy: 0.7471 - val_loss: 0.3472 - val_accuracy: 0.9278\n",
      "Epoch 157/1000\n",
      " 1/51 [..............................] - ETA: 0s - loss: 0.6379 - accuracy: 0.7578\n",
      "Epoch 157: saving model to model/keypoint_classifier\\keypoint_classifier.hdf5\n",
      "51/51 [==============================] - 0s 2ms/step - loss: 0.6932 - accuracy: 0.7548 - val_loss: 0.3428 - val_accuracy: 0.9242\n",
      "Epoch 158/1000\n",
      " 1/51 [..............................] - ETA: 0s - loss: 0.5534 - accuracy: 0.8281\n",
      "Epoch 158: saving model to model/keypoint_classifier\\keypoint_classifier.hdf5\n",
      "51/51 [==============================] - 0s 2ms/step - loss: 0.6735 - accuracy: 0.7597 - val_loss: 0.3329 - val_accuracy: 0.9297\n",
      "Epoch 159/1000\n",
      "45/51 [=========================>....] - ETA: 0s - loss: 0.6990 - accuracy: 0.7552\n",
      "Epoch 159: saving model to model/keypoint_classifier\\keypoint_classifier.hdf5\n",
      "51/51 [==============================] - 0s 2ms/step - loss: 0.6914 - accuracy: 0.7571 - val_loss: 0.3353 - val_accuracy: 0.9210\n",
      "Epoch 160/1000\n",
      " 1/51 [..............................] - ETA: 0s - loss: 0.6440 - accuracy: 0.7812\n",
      "Epoch 160: saving model to model/keypoint_classifier\\keypoint_classifier.hdf5\n",
      "51/51 [==============================] - 0s 2ms/step - loss: 0.6862 - accuracy: 0.7556 - val_loss: 0.3391 - val_accuracy: 0.9233\n",
      "Epoch 161/1000\n",
      " 1/51 [..............................] - ETA: 0s - loss: 0.8598 - accuracy: 0.6719\n",
      "Epoch 161: saving model to model/keypoint_classifier\\keypoint_classifier.hdf5\n",
      "51/51 [==============================] - 0s 2ms/step - loss: 0.6821 - accuracy: 0.7637 - val_loss: 0.3436 - val_accuracy: 0.9260\n",
      "Epoch 162/1000\n",
      "46/51 [==========================>...] - ETA: 0s - loss: 0.6813 - accuracy: 0.7544\n",
      "Epoch 162: saving model to model/keypoint_classifier\\keypoint_classifier.hdf5\n",
      "51/51 [==============================] - 0s 2ms/step - loss: 0.6852 - accuracy: 0.7554 - val_loss: 0.3397 - val_accuracy: 0.9283\n",
      "Epoch 163/1000\n",
      " 1/51 [..............................] - ETA: 0s - loss: 0.5442 - accuracy: 0.8438\n",
      "Epoch 163: saving model to model/keypoint_classifier\\keypoint_classifier.hdf5\n",
      "51/51 [==============================] - 0s 2ms/step - loss: 0.6766 - accuracy: 0.7577 - val_loss: 0.3320 - val_accuracy: 0.9297\n",
      "Epoch 164/1000\n",
      " 1/51 [..............................] - ETA: 0s - loss: 0.7674 - accuracy: 0.6953\n",
      "Epoch 164: saving model to model/keypoint_classifier\\keypoint_classifier.hdf5\n",
      "51/51 [==============================] - 0s 2ms/step - loss: 0.6763 - accuracy: 0.7640 - val_loss: 0.3281 - val_accuracy: 0.9260\n",
      "Epoch 165/1000\n",
      " 1/51 [..............................] - ETA: 0s - loss: 0.5808 - accuracy: 0.7734\n",
      "Epoch 165: saving model to model/keypoint_classifier\\keypoint_classifier.hdf5\n",
      "51/51 [==============================] - 0s 2ms/step - loss: 0.6733 - accuracy: 0.7556 - val_loss: 0.3314 - val_accuracy: 0.9306\n",
      "Epoch 166/1000\n",
      " 1/51 [..............................] - ETA: 0s - loss: 0.5890 - accuracy: 0.7812\n",
      "Epoch 166: saving model to model/keypoint_classifier\\keypoint_classifier.hdf5\n",
      "51/51 [==============================] - 0s 2ms/step - loss: 0.6867 - accuracy: 0.7583 - val_loss: 0.3504 - val_accuracy: 0.9233\n",
      "Epoch 167/1000\n",
      " 1/51 [..............................] - ETA: 0s - loss: 0.7748 - accuracy: 0.7344\n",
      "Epoch 167: saving model to model/keypoint_classifier\\keypoint_classifier.hdf5\n",
      "51/51 [==============================] - 0s 2ms/step - loss: 0.6853 - accuracy: 0.7551 - val_loss: 0.3262 - val_accuracy: 0.9301\n",
      "Epoch 168/1000\n",
      "51/51 [==============================] - ETA: 0s - loss: 0.6821 - accuracy: 0.7609\n",
      "Epoch 168: saving model to model/keypoint_classifier\\keypoint_classifier.hdf5\n",
      "51/51 [==============================] - 0s 2ms/step - loss: 0.6821 - accuracy: 0.7609 - val_loss: 0.3340 - val_accuracy: 0.9288\n",
      "Epoch 169/1000\n",
      " 1/51 [..............................] - ETA: 0s - loss: 0.7390 - accuracy: 0.7500\n",
      "Epoch 169: saving model to model/keypoint_classifier\\keypoint_classifier.hdf5\n",
      "51/51 [==============================] - 0s 2ms/step - loss: 0.6738 - accuracy: 0.7606 - val_loss: 0.3365 - val_accuracy: 0.9265\n",
      "Epoch 170/1000\n",
      " 1/51 [..............................] - ETA: 0s - loss: 0.6771 - accuracy: 0.7734\n",
      "Epoch 170: saving model to model/keypoint_classifier\\keypoint_classifier.hdf5\n",
      "51/51 [==============================] - 0s 2ms/step - loss: 0.6865 - accuracy: 0.7606 - val_loss: 0.3339 - val_accuracy: 0.9334\n",
      "Epoch 171/1000\n",
      " 1/51 [..............................] - ETA: 0s - loss: 0.6451 - accuracy: 0.7188\n",
      "Epoch 171: saving model to model/keypoint_classifier\\keypoint_classifier.hdf5\n",
      "51/51 [==============================] - 0s 2ms/step - loss: 0.6731 - accuracy: 0.7525 - val_loss: 0.3320 - val_accuracy: 0.9301\n",
      "Epoch 171: early stopping\n"
     ]
    },
    {
     "data": {
      "text/plain": [
       "<keras.src.callbacks.History at 0x238847f9d50>"
      ]
     },
     "execution_count": 11,
     "metadata": {},
     "output_type": "execute_result"
    }
   ],
   "source": [
    "model.fit(\n",
    "    X_train,\n",
    "    y_train,\n",
    "    epochs=1000,\n",
    "    batch_size=128,\n",
    "    validation_data=(X_test, y_test),\n",
    "    callbacks=[cp_callback, es_callback]\n",
    ")"
   ]
  },
  {
   "cell_type": "code",
   "execution_count": 12,
   "metadata": {
    "colab": {
     "base_uri": "https://localhost:8080/"
    },
    "id": "pxvb2Y299hE3",
    "outputId": "59eb3185-2e37-4b9e-bc9d-ab1b8ac29b7f"
   },
   "outputs": [
    {
     "name": "stdout",
     "output_type": "stream",
     "text": [
      "17/17 [==============================] - 0s 976us/step - loss: 0.3320 - accuracy: 0.9301\n"
     ]
    }
   ],
   "source": [
    "# Model evaluation\n",
    "val_loss, val_acc = model.evaluate(X_test, y_test, batch_size=128)"
   ]
  },
  {
   "cell_type": "code",
   "execution_count": 13,
   "metadata": {
    "id": "RBkmDeUW9hE4"
   },
   "outputs": [],
   "source": [
    "# Loading the saved model\n",
    "model = tf.keras.models.load_model(model_save_path)"
   ]
  },
  {
   "cell_type": "code",
   "execution_count": 14,
   "metadata": {
    "colab": {
     "base_uri": "https://localhost:8080/"
    },
    "id": "tFz9Tb0I9hE4",
    "outputId": "1c3b3528-54ae-4ee2-ab04-77429211cbef"
   },
   "outputs": [
    {
     "name": "stdout",
     "output_type": "stream",
     "text": [
      "1/1 [==============================] - 0s 47ms/step\n",
      "[7.2491467e-03 5.4580357e-02 7.6224733e-06 2.2507804e-06 4.3903139e-05\n",
      " 9.8347449e-08 9.3810129e-01 1.5372230e-05]\n",
      "6\n"
     ]
    }
   ],
   "source": [
    "# Inference test\n",
    "predict_result = model.predict(np.array([X_test[0]]))\n",
    "print(np.squeeze(predict_result))\n",
    "print(np.argmax(np.squeeze(predict_result)))"
   ]
  },
  {
   "cell_type": "markdown",
   "metadata": {
    "id": "S3U4yNWx9hE4"
   },
   "source": [
    "# Confusion matrix"
   ]
  },
  {
   "cell_type": "code",
   "execution_count": 15,
   "metadata": {
    "colab": {
     "base_uri": "https://localhost:8080/",
     "height": 582
    },
    "id": "AP1V6SCk9hE5",
    "outputId": "08e41a80-7a4a-4619-8125-ecc371368d19"
   },
   "outputs": [
    {
     "name": "stdout",
     "output_type": "stream",
     "text": [
      "68/68 [==============================] - 0s 704us/step\n"
     ]
    },
    {
     "data": {
      "image/png": "[encoded data removed]",
      "text/plain": [
       "<Figure size 700x600 with 2 Axes>"
      ]
     },
     "metadata": {},
     "output_type": "display_data"
    },
    {
     "name": "stdout",
     "output_type": "stream",
     "text": [
      "Classification Report\n",
      "              precision    recall  f1-score   support\n",
      "\n",
      "           0       0.97      0.91      0.94       528\n",
      "           1       0.98      0.83      0.90       395\n",
      "           2       0.89      0.99      0.94       158\n",
      "           3       0.94      0.97      0.96       154\n",
      "           4       0.91      0.96      0.94       255\n",
      "           5       1.00      0.99      1.00       132\n",
      "           6       0.86      0.99      0.92       395\n",
      "           7       0.94      0.91      0.92       159\n",
      "\n",
      "    accuracy                           0.93      2176\n",
      "   macro avg       0.93      0.94      0.94      2176\n",
      "weighted avg       0.93      0.93      0.93      2176\n",
      "\n"
     ]
    }
   ],
   "source": [
    "import pandas as pd\n",
    "import seaborn as sns\n",
    "import matplotlib.pyplot as plt\n",
    "from sklearn.metrics import confusion_matrix, classification_report\n",
    "\n",
    "def print_confusion_matrix(y_true, y_pred, report=True):\n",
    "    labels = sorted(list(set(y_true)))\n",
    "    cmx_data = confusion_matrix(y_true, y_pred, labels=labels)\n",
    "    \n",
    "    df_cmx = pd.DataFrame(cmx_data, index=labels, columns=labels)\n",
    " \n",
    "    fig, ax = plt.subplots(figsize=(7, 6))\n",
    "    sns.heatmap(df_cmx, annot=True, fmt='g' ,square=False)\n",
    "    ax.set_ylim(len(set(y_true)), 0)\n",
    "    plt.show()\n",
    "    \n",
    "    if report:\n",
    "        print('Classification Report')\n",
    "        print(classification_report(y_test, y_pred))\n",
    "\n",
    "Y_pred = model.predict(X_test)\n",
    "y_pred = np.argmax(Y_pred, axis=1)\n",
    "\n",
    "print_confusion_matrix(y_test, y_pred)"
   ]
  },
  {
   "cell_type": "markdown",
   "metadata": {
    "id": "FNP6aqzc9hE5"
   },
   "source": [
    "# Convert to model for Tensorflow-Lite"
   ]
  },
  {
   "cell_type": "code",
   "execution_count": 16,
   "metadata": {
    "id": "ODjnYyld9hE6"
   },
   "outputs": [
    {
     "name": "stderr",
     "output_type": "stream",
     "text": [
      "C:\\ProgramData\\anaconda3\\Lib\\site-packages\\keras\\src\\engine\\training.py:3000: UserWarning: You are saving your model as an HDF5 file via `model.save()`. This file format is considered legacy. We recommend using instead the native Keras format, e.g. `model.save('my_model.keras')`.\n",
      "  saving_api.save_model(\n"
     ]
    }
   ],
   "source": [
    "# Save as a model dedicated to inference\n",
    "model.save(model_save_path, include_optimizer=False)"
   ]
  },
  {
   "cell_type": "code",
   "execution_count": 17,
   "metadata": {
    "colab": {
     "base_uri": "https://localhost:8080/"
    },
    "id": "zRfuK8Y59hE6",
    "outputId": "a4ca585c-b5d5-4244-8291-8674063209bb"
   },
   "outputs": [
    {
     "name": "stdout",
     "output_type": "stream",
     "text": [
      "INFO:tensorflow:Assets written to: C:\\Users\\khunt\\AppData\\Local\\Temp\\tmpds4dnomz\\assets\n"
     ]
    },
    {
     "name": "stderr",
     "output_type": "stream",
     "text": [
      "INFO:tensorflow:Assets written to: C:\\Users\\khunt\\AppData\\Local\\Temp\\tmpds4dnomz\\assets\n"
     ]
    },
    {
     "data": {
      "text/plain": [
       "6720"
      ]
     },
     "execution_count": 17,
     "metadata": {},
     "output_type": "execute_result"
    }
   ],
   "source": [
    "# Transform model (quantization)\n",
    "\n",
    "converter = tf.lite.TFLiteConverter.from_keras_model(model)\n",
    "converter.optimizations = [tf.lite.Optimize.DEFAULT]\n",
    "tflite_quantized_model = converter.convert()\n",
    "\n",
    "open(tflite_save_path, 'wb').write(tflite_quantized_model)"
   ]
  },
  {
   "cell_type": "markdown",
   "metadata": {
    "id": "CHBPBXdx9hE6"
   },
   "source": [
    "# Inference test"
   ]
  },
  {
   "cell_type": "code",
   "execution_count": 18,
   "metadata": {
    "id": "mGAzLocO9hE7"
   },
   "outputs": [],
   "source": [
    "interpreter = tf.lite.Interpreter(model_path=tflite_save_path)\n",
    "interpreter.allocate_tensors()"
   ]
  },
  {
   "cell_type": "code",
   "execution_count": 19,
   "metadata": {
    "id": "oQuDK8YS9hE7"
   },
   "outputs": [],
   "source": [
    "# Get I / O tensor\n",
    "input_details = interpreter.get_input_details()\n",
    "output_details = interpreter.get_output_details()"
   ]
  },
  {
   "cell_type": "code",
   "execution_count": 20,
   "metadata": {
    "id": "2_ixAf_l9hE7"
   },
   "outputs": [],
   "source": [
    "interpreter.set_tensor(input_details[0]['index'], np.array([X_test[0]]))"
   ]
  },
  {
   "cell_type": "code",
   "execution_count": 21,
   "metadata": {
    "colab": {
     "base_uri": "https://localhost:8080/"
    },
    "id": "s4FoAnuc9hE7",
    "outputId": "91f18257-8d8b-4ef3-c558-e9b5f94fabbf",
    "scrolled": true
   },
   "outputs": [
    {
     "name": "stdout",
     "output_type": "stream",
     "text": [
      "CPU times: total: 0 ns\n",
      "Wall time: 0 ns\n"
     ]
    }
   ],
   "source": [
    "%%time\n",
    "# Inference implementation\n",
    "interpreter.invoke()\n",
    "tflite_results = interpreter.get_tensor(output_details[0]['index'])"
   ]
  },
  {
   "cell_type": "code",
   "execution_count": 22,
   "metadata": {
    "colab": {
     "base_uri": "https://localhost:8080/"
    },
    "id": "vONjp19J9hE8",
    "outputId": "77205e24-fd00-42c4-f7b6-e06e527c2cba"
   },
   "outputs": [
    {
     "name": "stdout",
     "output_type": "stream",
     "text": [
      "[7.2491462e-03 5.4580402e-02 7.6224719e-06 2.2507845e-06 4.3903096e-05\n",
      " 9.8347435e-08 9.3810123e-01 1.5372227e-05]\n",
      "6\n"
     ]
    }
   ],
   "source": [
    "print(np.squeeze(tflite_results))\n",
    "print(np.argmax(np.squeeze(tflite_results)))"
   ]
  }
 ],
 "metadata": {
  "accelerator": "GPU",
  "colab": {
   "collapsed_sections": [],
   "name": "keypoint_classification_EN.ipynb",
   "provenance": [],
   "toc_visible": true
  },
  "kernelspec": {
   "display_name": "Python 3 (ipykernel)",
   "language": "python",
   "name": "python3"
  },
  "language_info": {
   "codemirror_mode": {
    "name": "ipython",
    "version": 3
   },
   "file_extension": ".py",
   "mimetype": "text/x-python",
   "name": "python",
   "nbconvert_exporter": "python",
   "pygments_lexer": "ipython3",
   "version": "3.11.7"
  }
 },
 "nbformat": 4,
 "nbformat_minor": 4
}
