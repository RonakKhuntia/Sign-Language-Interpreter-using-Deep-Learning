{
 "cells": [
  {
   "cell_type": "code",
   "execution_count": 1,
   "metadata": {
    "id": "igMyGnjE9hEp"
   },
   "outputs": [],
   "source": [
    "import csv\n",
    "\n",
    "import numpy as np\n",
    "import tensorflow as tf\n",
    "from sklearn.model_selection import train_test_split\n",
    "\n",
    "RANDOM_SEED = 42"
   ]
  },
  {
   "cell_type": "markdown",
   "metadata": {
    "id": "t2HDvhIu9hEr"
   },
   "source": [
    "# Specify each path"
   ]
  },
  {
   "cell_type": "code",
   "execution_count": 2,
   "metadata": {
    "id": "9NvZP2Zn9hEy"
   },
   "outputs": [],
   "source": [
    "dataset = 'model/keypoint_classifier/keypoint.csv'\n",
    "model_save_path = 'model/keypoint_classifier/keypoint_classifier.hdf5'\n",
    "tflite_save_path = 'model/keypoint_classifier/keypoint_classifier.tflite'"
   ]
  },
  {
   "cell_type": "markdown",
   "metadata": {
    "id": "s5oMH7x19hEz"
   },
   "source": [
    "# Set number of classes"
   ]
  },
  {
   "cell_type": "code",
   "execution_count": 3,
   "metadata": {
    "id": "du4kodXL9hEz"
   },
   "outputs": [],
   "source": [
    "NUM_CLASSES = 8"
   ]
  },
  {
   "cell_type": "markdown",
   "metadata": {
    "id": "XjnL0uso9hEz"
   },
   "source": [
    "# Dataset reading"
   ]
  },
  {
   "cell_type": "code",
   "execution_count": 4,
   "metadata": {
    "id": "QT5ZqtEz9hE0"
   },
   "outputs": [],
   "source": [
    "X_dataset = np.loadtxt(dataset, delimiter=',', dtype='float32', usecols=list(range(1, (21 * 2) + 1)))"
   ]
  },
  {
   "cell_type": "code",
   "execution_count": 5,
   "metadata": {
    "id": "QmoKFsp49hE0"
   },
   "outputs": [],
   "source": [
    "y_dataset = np.loadtxt(dataset, delimiter=',', dtype='int32', usecols=(0))"
   ]
  },
  {
   "cell_type": "code",
   "execution_count": 6,
   "metadata": {
    "id": "xQU7JTZ_9hE0"
   },
   "outputs": [],
   "source": [
    "X_train, X_test, y_train, y_test = train_test_split(X_dataset, y_dataset, train_size=0.75, random_state=RANDOM_SEED)"
   ]
  },
  {
   "cell_type": "markdown",
   "metadata": {
    "id": "mxK_lETT9hE0"
   },
   "source": [
    "# Model building"
   ]
  },
  {
   "cell_type": "code",
   "execution_count": 7,
   "metadata": {
    "id": "vHBmUf1t9hE1"
   },
   "outputs": [],
   "source": [
    "model = tf.keras.models.Sequential([\n",
    "    tf.keras.layers.Input((21 * 2, )),\n",
    "    tf.keras.layers.Dropout(0.2),\n",
    "    tf.keras.layers.Dense(20, activation='relu'),\n",
    "    tf.keras.layers.Dropout(0.4),\n",
    "    tf.keras.layers.Dense(10, activation='relu'),\n",
    "    tf.keras.layers.Dense(NUM_CLASSES, activation='softmax')\n",
    "])"
   ]
  },
  {
   "cell_type": "code",
   "execution_count": 8,
   "metadata": {
    "colab": {
     "base_uri": "https://localhost:8080/"
    },
    "id": "ypqky9tc9hE1",
    "outputId": "5db082bb-30e3-4110-bf63-a1ee777ecd46"
   },
   "outputs": [
    {
     "name": "stdout",
     "output_type": "stream",
     "text": [
      "Model: \"sequential\"\n",
      "_________________________________________________________________\n",
      " Layer (type)                Output Shape              Param #   \n",
      "=================================================================\n",
      " dropout (Dropout)           (None, 42)                0         \n",
      "                                                                 \n",
      " dense (Dense)               (None, 20)                860       \n",
      "                                                                 \n",
      " dropout_1 (Dropout)         (None, 20)                0         \n",
      "                                                                 \n",
      " dense_1 (Dense)             (None, 10)                210       \n",
      "                                                                 \n",
      " dense_2 (Dense)             (None, 8)                 88        \n",
      "                                                                 \n",
      "=================================================================\n",
      "Total params: 1158 (4.52 KB)\n",
      "Trainable params: 1158 (4.52 KB)\n",
      "Non-trainable params: 0 (0.00 Byte)\n",
      "_________________________________________________________________\n"
     ]
    }
   ],
   "source": [
    "model.summary()  # tf.keras.utils.plot_model(model, show_shapes=True)"
   ]
  },
  {
   "cell_type": "code",
   "execution_count": 9,
   "metadata": {
    "id": "MbMjOflQ9hE1"
   },
   "outputs": [],
   "source": [
    "# Model checkpoint callback\n",
    "cp_callback = tf.keras.callbacks.ModelCheckpoint(\n",
    "    model_save_path, verbose=1, save_weights_only=False)\n",
    "# Callback for early stopping\n",
    "es_callback = tf.keras.callbacks.EarlyStopping(patience=20, verbose=1)"
   ]
  },
  {
   "cell_type": "code",
   "execution_count": 10,
   "metadata": {
    "id": "c3Dac0M_9hE2"
   },
   "outputs": [],
   "source": [
    "# Model compilation\n",
    "model.compile(\n",
    "    optimizer='adam',\n",
    "    loss='sparse_categorical_crossentropy',\n",
    "    metrics=['accuracy']\n",
    ")"
   ]
  },
  {
   "cell_type": "markdown",
   "metadata": {
    "id": "7XI0j1Iu9hE2"
   },
   "source": [
    "# Model training"
   ]
  },
  {
   "cell_type": "code",
   "execution_count": 11,
   "metadata": {
    "colab": {
     "base_uri": "https://localhost:8080/"
    },
    "id": "WirBl-JE9hE3",
    "outputId": "71b30ca2-8294-4d9d-8aa2-800d90d399de",
    "scrolled": true
   },
   "outputs": [
    {
     "name": "stdout",
     "output_type": "stream",
     "text": [
      "Epoch 1/1000\n",
      "44/55 [=======================>......] - ETA: 0s - loss: 2.0676 - accuracy: 0.1815 \n",
      "Epoch 1: saving model to model/keypoint_classifier\\keypoint_classifier.hdf5\n",
      "55/55 [==============================] - 1s 5ms/step - loss: 2.0435 - accuracy: 0.1980 - val_loss: 1.8633 - val_accuracy: 0.4179\n",
      "Epoch 2/1000\n",
      "38/55 [===================>..........] - ETA: 0s - loss: 1.8548 - accuracy: 0.2975\n",
      "Epoch 2: saving model to model/keypoint_classifier\\keypoint_classifier.hdf5\n",
      "55/55 [==============================] - 0s 2ms/step - loss: 1.8291 - accuracy: 0.3019 - val_loss: 1.6417 - val_accuracy: 0.4295\n",
      "Epoch 3/1000\n",
      " 1/55 [..............................] - ETA: 0s - loss: 1.8073 - accuracy: 0.2891"
     ]
    },
    {
     "name": "stderr",
     "output_type": "stream",
     "text": [
      "C:\\ProgramData\\anaconda3\\Lib\\site-packages\\keras\\src\\engine\\training.py:3000: UserWarning: You are saving your model as an HDF5 file via `model.save()`. This file format is considered legacy. We recommend using instead the native Keras format, e.g. `model.save('my_model.keras')`.\n",
      "  saving_api.save_model(\n"
     ]
    },
    {
     "name": "stdout",
     "output_type": "stream",
     "text": [
      "51/55 [==========================>...] - ETA: 0s - loss: 1.6653 - accuracy: 0.3571\n",
      "Epoch 3: saving model to model/keypoint_classifier\\keypoint_classifier.hdf5\n",
      "55/55 [==============================] - 0s 2ms/step - loss: 1.6604 - accuracy: 0.3586 - val_loss: 1.4595 - val_accuracy: 0.4659\n",
      "Epoch 4/1000\n",
      " 1/55 [..............................] - ETA: 0s - loss: 1.5723 - accuracy: 0.4297\n",
      "Epoch 4: saving model to model/keypoint_classifier\\keypoint_classifier.hdf5\n",
      "55/55 [==============================] - 0s 2ms/step - loss: 1.5397 - accuracy: 0.4007 - val_loss: 1.3453 - val_accuracy: 0.4762\n",
      "Epoch 5/1000\n",
      "55/55 [==============================] - ETA: 0s - loss: 1.4353 - accuracy: 0.4351\n",
      "Epoch 5: saving model to model/keypoint_classifier\\keypoint_classifier.hdf5\n",
      "55/55 [==============================] - 0s 2ms/step - loss: 1.4353 - accuracy: 0.4351 - val_loss: 1.2440 - val_accuracy: 0.4994\n",
      "Epoch 6/1000\n",
      "52/55 [===========================>..] - ETA: 0s - loss: 1.3654 - accuracy: 0.4579\n",
      "Epoch 6: saving model to model/keypoint_classifier\\keypoint_classifier.hdf5\n",
      "55/55 [==============================] - 0s 2ms/step - loss: 1.3658 - accuracy: 0.4563 - val_loss: 1.1583 - val_accuracy: 0.5778\n",
      "Epoch 7/1000\n",
      "53/55 [===========================>..] - ETA: 0s - loss: 1.3136 - accuracy: 0.4774\n",
      "Epoch 7: saving model to model/keypoint_classifier\\keypoint_classifier.hdf5\n",
      "55/55 [==============================] - 0s 2ms/step - loss: 1.3134 - accuracy: 0.4770 - val_loss: 1.0904 - val_accuracy: 0.5538\n",
      "Epoch 8/1000\n",
      "51/55 [==========================>...] - ETA: 0s - loss: 1.2728 - accuracy: 0.4844\n",
      "Epoch 8: saving model to model/keypoint_classifier\\keypoint_classifier.hdf5\n",
      "55/55 [==============================] - 0s 2ms/step - loss: 1.2736 - accuracy: 0.4834 - val_loss: 1.0445 - val_accuracy: 0.5688\n",
      "Epoch 9/1000\n",
      "50/55 [==========================>...] - ETA: 0s - loss: 1.2491 - accuracy: 0.5017\n",
      "Epoch 9: saving model to model/keypoint_classifier\\keypoint_classifier.hdf5\n",
      "55/55 [==============================] - 0s 2ms/step - loss: 1.2478 - accuracy: 0.5006 - val_loss: 0.9984 - val_accuracy: 0.5975\n",
      "Epoch 10/1000\n",
      "42/55 [=====================>........] - ETA: 0s - loss: 1.2178 - accuracy: 0.5125\n",
      "Epoch 10: saving model to model/keypoint_classifier\\keypoint_classifier.hdf5\n",
      "55/55 [==============================] - 0s 2ms/step - loss: 1.2125 - accuracy: 0.5124 - val_loss: 0.9561 - val_accuracy: 0.6592\n",
      "Epoch 11/1000\n",
      " 1/55 [..............................] - ETA: 0s - loss: 1.2431 - accuracy: 0.5547\n",
      "Epoch 11: saving model to model/keypoint_classifier\\keypoint_classifier.hdf5\n",
      "55/55 [==============================] - 0s 2ms/step - loss: 1.1736 - accuracy: 0.5313 - val_loss: 0.9170 - val_accuracy: 0.6648\n",
      "Epoch 12/1000\n",
      "43/55 [======================>.......] - ETA: 0s - loss: 1.1639 - accuracy: 0.5385\n",
      "Epoch 12: saving model to model/keypoint_classifier\\keypoint_classifier.hdf5\n",
      "55/55 [==============================] - 0s 2ms/step - loss: 1.1607 - accuracy: 0.5396 - val_loss: 0.8811 - val_accuracy: 0.7120\n",
      "Epoch 13/1000\n",
      "47/55 [========================>.....] - ETA: 0s - loss: 1.1290 - accuracy: 0.5465\n",
      "Epoch 13: saving model to model/keypoint_classifier\\keypoint_classifier.hdf5\n",
      "55/55 [==============================] - 0s 2ms/step - loss: 1.1314 - accuracy: 0.5479 - val_loss: 0.8527 - val_accuracy: 0.7004\n",
      "Epoch 14/1000\n",
      "41/55 [=====================>........] - ETA: 0s - loss: 1.1203 - accuracy: 0.5585\n",
      "Epoch 14: saving model to model/keypoint_classifier\\keypoint_classifier.hdf5\n",
      "55/55 [==============================] - 0s 2ms/step - loss: 1.1184 - accuracy: 0.5585 - val_loss: 0.8196 - val_accuracy: 0.7501\n",
      "Epoch 15/1000\n",
      " 1/55 [..............................] - ETA: 0s - loss: 1.0447 - accuracy: 0.5938\n",
      "Epoch 15: saving model to model/keypoint_classifier\\keypoint_classifier.hdf5\n",
      "55/55 [==============================] - 0s 2ms/step - loss: 1.0876 - accuracy: 0.5719 - val_loss: 0.7921 - val_accuracy: 0.7938\n",
      "Epoch 16/1000\n",
      "50/55 [==========================>...] - ETA: 0s - loss: 1.0747 - accuracy: 0.5855\n",
      "Epoch 16: saving model to model/keypoint_classifier\\keypoint_classifier.hdf5\n",
      "55/55 [==============================] - 0s 2ms/step - loss: 1.0778 - accuracy: 0.5838 - val_loss: 0.7688 - val_accuracy: 0.8140\n",
      "Epoch 17/1000\n",
      "52/55 [===========================>..] - ETA: 0s - loss: 1.0731 - accuracy: 0.5748\n",
      "Epoch 17: saving model to model/keypoint_classifier\\keypoint_classifier.hdf5\n",
      "55/55 [==============================] - 0s 2ms/step - loss: 1.0711 - accuracy: 0.5762 - val_loss: 0.7525 - val_accuracy: 0.8101\n",
      "Epoch 18/1000\n",
      "41/55 [=====================>........] - ETA: 0s - loss: 1.0303 - accuracy: 0.5966\n",
      "Epoch 18: saving model to model/keypoint_classifier\\keypoint_classifier.hdf5\n",
      "55/55 [==============================] - 0s 2ms/step - loss: 1.0358 - accuracy: 0.5945 - val_loss: 0.7202 - val_accuracy: 0.8470\n",
      "Epoch 19/1000\n",
      " 1/55 [..............................] - ETA: 0s - loss: 0.9325 - accuracy: 0.6250\n",
      "Epoch 19: saving model to model/keypoint_classifier\\keypoint_classifier.hdf5\n",
      "55/55 [==============================] - 0s 2ms/step - loss: 1.0230 - accuracy: 0.5988 - val_loss: 0.7005 - val_accuracy: 0.8328\n",
      "Epoch 20/1000\n",
      "55/55 [==============================] - ETA: 0s - loss: 1.0159 - accuracy: 0.6089\n",
      "Epoch 20: saving model to model/keypoint_classifier\\keypoint_classifier.hdf5\n",
      "55/55 [==============================] - 0s 2ms/step - loss: 1.0159 - accuracy: 0.6089 - val_loss: 0.6820 - val_accuracy: 0.8483\n",
      "Epoch 21/1000\n",
      "53/55 [===========================>..] - ETA: 0s - loss: 1.0078 - accuracy: 0.6107\n",
      "Epoch 21: saving model to model/keypoint_classifier\\keypoint_classifier.hdf5\n",
      "55/55 [==============================] - 0s 2ms/step - loss: 1.0057 - accuracy: 0.6118 - val_loss: 0.6658 - val_accuracy: 0.8671\n",
      "Epoch 22/1000\n",
      " 1/55 [..............................] - ETA: 0s - loss: 1.0229 - accuracy: 0.6250\n",
      "Epoch 22: saving model to model/keypoint_classifier\\keypoint_classifier.hdf5\n",
      "55/55 [==============================] - 0s 2ms/step - loss: 0.9908 - accuracy: 0.6191 - val_loss: 0.6467 - val_accuracy: 0.8744\n",
      "Epoch 23/1000\n",
      "45/55 [=======================>......] - ETA: 0s - loss: 0.9594 - accuracy: 0.6319\n",
      "Epoch 23: saving model to model/keypoint_classifier\\keypoint_classifier.hdf5\n",
      "55/55 [==============================] - 0s 2ms/step - loss: 0.9644 - accuracy: 0.6339 - val_loss: 0.6259 - val_accuracy: 0.8757\n",
      "Epoch 24/1000\n",
      "51/55 [==========================>...] - ETA: 0s - loss: 0.9604 - accuracy: 0.6328\n",
      "Epoch 24: saving model to model/keypoint_classifier\\keypoint_classifier.hdf5\n",
      "55/55 [==============================] - 0s 2ms/step - loss: 0.9611 - accuracy: 0.6348 - val_loss: 0.6161 - val_accuracy: 0.8727\n",
      "Epoch 25/1000\n",
      "42/55 [=====================>........] - ETA: 0s - loss: 0.9633 - accuracy: 0.6295\n",
      "Epoch 25: saving model to model/keypoint_classifier\\keypoint_classifier.hdf5\n",
      "55/55 [==============================] - 0s 2ms/step - loss: 0.9595 - accuracy: 0.6299 - val_loss: 0.6004 - val_accuracy: 0.8860\n",
      "Epoch 26/1000\n",
      "46/55 [========================>.....] - ETA: 0s - loss: 0.9589 - accuracy: 0.6349\n",
      "Epoch 26: saving model to model/keypoint_classifier\\keypoint_classifier.hdf5\n",
      "55/55 [==============================] - 0s 2ms/step - loss: 0.9620 - accuracy: 0.6351 - val_loss: 0.5914 - val_accuracy: 0.8856\n",
      "Epoch 27/1000\n",
      "34/55 [=================>............] - ETA: 0s - loss: 0.9492 - accuracy: 0.6436\n",
      "Epoch 27: saving model to model/keypoint_classifier\\keypoint_classifier.hdf5\n",
      "55/55 [==============================] - 0s 2ms/step - loss: 0.9506 - accuracy: 0.6481 - val_loss: 0.5815 - val_accuracy: 0.8843\n",
      "Epoch 28/1000\n",
      "55/55 [==============================] - ETA: 0s - loss: 0.9350 - accuracy: 0.6551\n",
      "Epoch 28: saving model to model/keypoint_classifier\\keypoint_classifier.hdf5\n",
      "55/55 [==============================] - 0s 2ms/step - loss: 0.9350 - accuracy: 0.6551 - val_loss: 0.5602 - val_accuracy: 0.8963\n",
      "Epoch 29/1000\n",
      "45/55 [=======================>......] - ETA: 0s - loss: 0.9402 - accuracy: 0.6486\n",
      "Epoch 29: saving model to model/keypoint_classifier\\keypoint_classifier.hdf5\n",
      "55/55 [==============================] - 0s 2ms/step - loss: 0.9370 - accuracy: 0.6497 - val_loss: 0.5574 - val_accuracy: 0.8916\n",
      "Epoch 30/1000\n",
      "43/55 [======================>.......] - ETA: 0s - loss: 0.9348 - accuracy: 0.6444\n",
      "Epoch 30: saving model to model/keypoint_classifier\\keypoint_classifier.hdf5\n",
      "55/55 [==============================] - 0s 2ms/step - loss: 0.9338 - accuracy: 0.6475 - val_loss: 0.5601 - val_accuracy: 0.8783\n",
      "Epoch 31/1000\n",
      "35/55 [==================>...........] - ETA: 0s - loss: 0.8994 - accuracy: 0.6654\n",
      "Epoch 31: saving model to model/keypoint_classifier\\keypoint_classifier.hdf5\n",
      "55/55 [==============================] - 0s 3ms/step - loss: 0.9238 - accuracy: 0.6549 - val_loss: 0.5520 - val_accuracy: 0.8800\n",
      "Epoch 32/1000\n",
      "44/55 [=======================>......] - ETA: 0s - loss: 0.9080 - accuracy: 0.6618\n",
      "Epoch 32: saving model to model/keypoint_classifier\\keypoint_classifier.hdf5\n",
      "55/55 [==============================] - 0s 2ms/step - loss: 0.9154 - accuracy: 0.6587 - val_loss: 0.5437 - val_accuracy: 0.8838\n",
      "Epoch 33/1000\n",
      "46/55 [========================>.....] - ETA: 0s - loss: 0.8824 - accuracy: 0.6719\n",
      "Epoch 33: saving model to model/keypoint_classifier\\keypoint_classifier.hdf5\n",
      "55/55 [==============================] - 0s 2ms/step - loss: 0.8870 - accuracy: 0.6691 - val_loss: 0.5258 - val_accuracy: 0.8898\n",
      "Epoch 34/1000\n",
      "45/55 [=======================>......] - ETA: 0s - loss: 0.9028 - accuracy: 0.6672\n",
      "Epoch 34: saving model to model/keypoint_classifier\\keypoint_classifier.hdf5\n",
      "55/55 [==============================] - 0s 2ms/step - loss: 0.8989 - accuracy: 0.6680 - val_loss: 0.5167 - val_accuracy: 0.8980\n",
      "Epoch 35/1000\n",
      "47/55 [========================>.....] - ETA: 0s - loss: 0.9052 - accuracy: 0.6636\n",
      "Epoch 35: saving model to model/keypoint_classifier\\keypoint_classifier.hdf5\n",
      "55/55 [==============================] - 0s 2ms/step - loss: 0.9030 - accuracy: 0.6654 - val_loss: 0.5173 - val_accuracy: 0.9014\n",
      "Epoch 36/1000\n",
      "52/55 [===========================>..] - ETA: 0s - loss: 0.9036 - accuracy: 0.6635\n",
      "Epoch 36: saving model to model/keypoint_classifier\\keypoint_classifier.hdf5\n",
      "55/55 [==============================] - 0s 2ms/step - loss: 0.9018 - accuracy: 0.6637 - val_loss: 0.5159 - val_accuracy: 0.9018\n",
      "Epoch 37/1000\n",
      "47/55 [========================>.....] - ETA: 0s - loss: 0.9012 - accuracy: 0.6667\n",
      "Epoch 37: saving model to model/keypoint_classifier\\keypoint_classifier.hdf5\n",
      "55/55 [==============================] - 0s 2ms/step - loss: 0.8942 - accuracy: 0.6705 - val_loss: 0.5117 - val_accuracy: 0.8954\n",
      "Epoch 38/1000\n",
      "51/55 [==========================>...] - ETA: 0s - loss: 0.8747 - accuracy: 0.6777\n",
      "Epoch 38: saving model to model/keypoint_classifier\\keypoint_classifier.hdf5\n",
      "55/55 [==============================] - 0s 2ms/step - loss: 0.8785 - accuracy: 0.6764 - val_loss: 0.4957 - val_accuracy: 0.9040\n",
      "Epoch 39/1000\n",
      "47/55 [========================>.....] - ETA: 0s - loss: 0.8673 - accuracy: 0.6863\n",
      "Epoch 39: saving model to model/keypoint_classifier\\keypoint_classifier.hdf5\n",
      "55/55 [==============================] - 0s 2ms/step - loss: 0.8737 - accuracy: 0.6815 - val_loss: 0.4920 - val_accuracy: 0.8993\n",
      "Epoch 40/1000\n",
      "51/55 [==========================>...] - ETA: 0s - loss: 0.8891 - accuracy: 0.6795\n",
      "Epoch 40: saving model to model/keypoint_classifier\\keypoint_classifier.hdf5\n",
      "55/55 [==============================] - 0s 2ms/step - loss: 0.8856 - accuracy: 0.6811 - val_loss: 0.4872 - val_accuracy: 0.9083\n",
      "Epoch 41/1000\n",
      "46/55 [========================>.....] - ETA: 0s - loss: 0.8872 - accuracy: 0.6753\n",
      "Epoch 41: saving model to model/keypoint_classifier\\keypoint_classifier.hdf5\n",
      "55/55 [==============================] - 0s 2ms/step - loss: 0.8807 - accuracy: 0.6778 - val_loss: 0.4880 - val_accuracy: 0.9036\n",
      "Epoch 42/1000\n",
      "41/55 [=====================>........] - ETA: 0s - loss: 0.8685 - accuracy: 0.6883\n",
      "Epoch 42: saving model to model/keypoint_classifier\\keypoint_classifier.hdf5\n",
      "55/55 [==============================] - 0s 2ms/step - loss: 0.8640 - accuracy: 0.6891 - val_loss: 0.4883 - val_accuracy: 0.8933\n",
      "Epoch 43/1000\n",
      "50/55 [==========================>...] - ETA: 0s - loss: 0.8604 - accuracy: 0.6877\n",
      "Epoch 43: saving model to model/keypoint_classifier\\keypoint_classifier.hdf5\n",
      "55/55 [==============================] - 0s 2ms/step - loss: 0.8630 - accuracy: 0.6874 - val_loss: 0.4724 - val_accuracy: 0.9031\n",
      "Epoch 44/1000\n",
      " 1/55 [..............................] - ETA: 0s - loss: 0.9033 - accuracy: 0.7188\n",
      "Epoch 44: saving model to model/keypoint_classifier\\keypoint_classifier.hdf5\n",
      "55/55 [==============================] - 0s 2ms/step - loss: 0.8728 - accuracy: 0.6812 - val_loss: 0.4657 - val_accuracy: 0.9091\n",
      "Epoch 45/1000\n",
      "48/55 [=========================>....] - ETA: 0s - loss: 0.8472 - accuracy: 0.6899\n",
      "Epoch 45: saving model to model/keypoint_classifier\\keypoint_classifier.hdf5\n",
      "55/55 [==============================] - 0s 2ms/step - loss: 0.8484 - accuracy: 0.6867 - val_loss: 0.4666 - val_accuracy: 0.9048\n",
      "Epoch 46/1000\n",
      "46/55 [========================>.....] - ETA: 0s - loss: 0.8532 - accuracy: 0.6863\n",
      "Epoch 46: saving model to model/keypoint_classifier\\keypoint_classifier.hdf5\n",
      "55/55 [==============================] - 0s 2ms/step - loss: 0.8601 - accuracy: 0.6851 - val_loss: 0.4675 - val_accuracy: 0.9053\n",
      "Epoch 47/1000\n",
      "36/55 [==================>...........] - ETA: 0s - loss: 0.8447 - accuracy: 0.6988\n",
      "Epoch 47: saving model to model/keypoint_classifier\\keypoint_classifier.hdf5\n",
      "55/55 [==============================] - 0s 3ms/step - loss: 0.8598 - accuracy: 0.6915 - val_loss: 0.4703 - val_accuracy: 0.9006\n",
      "Epoch 48/1000\n",
      "33/55 [=================>............] - ETA: 0s - loss: 0.8684 - accuracy: 0.6847\n",
      "Epoch 48: saving model to model/keypoint_classifier\\keypoint_classifier.hdf5\n",
      "55/55 [==============================] - 0s 2ms/step - loss: 0.8571 - accuracy: 0.6890 - val_loss: 0.4688 - val_accuracy: 0.8928\n",
      "Epoch 49/1000\n",
      "32/55 [================>.............] - ETA: 0s - loss: 0.8442 - accuracy: 0.6960\n",
      "Epoch 49: saving model to model/keypoint_classifier\\keypoint_classifier.hdf5\n",
      "55/55 [==============================] - 0s 3ms/step - loss: 0.8569 - accuracy: 0.6898 - val_loss: 0.4555 - val_accuracy: 0.9010\n",
      "Epoch 50/1000\n",
      "49/55 [=========================>....] - ETA: 0s - loss: 0.8365 - accuracy: 0.7012\n",
      "Epoch 50: saving model to model/keypoint_classifier\\keypoint_classifier.hdf5\n",
      "55/55 [==============================] - 0s 2ms/step - loss: 0.8385 - accuracy: 0.7014 - val_loss: 0.4632 - val_accuracy: 0.9044\n",
      "Epoch 51/1000\n",
      "45/55 [=======================>......] - ETA: 0s - loss: 0.8445 - accuracy: 0.6991\n",
      "Epoch 51: saving model to model/keypoint_classifier\\keypoint_classifier.hdf5\n",
      "55/55 [==============================] - 0s 2ms/step - loss: 0.8415 - accuracy: 0.6971 - val_loss: 0.4442 - val_accuracy: 0.9044\n",
      "Epoch 52/1000\n",
      "50/55 [==========================>...] - ETA: 0s - loss: 0.8489 - accuracy: 0.6831\n",
      "Epoch 52: saving model to model/keypoint_classifier\\keypoint_classifier.hdf5\n",
      "55/55 [==============================] - 0s 2ms/step - loss: 0.8451 - accuracy: 0.6857 - val_loss: 0.4568 - val_accuracy: 0.9023\n",
      "Epoch 53/1000\n",
      "50/55 [==========================>...] - ETA: 0s - loss: 0.8412 - accuracy: 0.6922\n",
      "Epoch 53: saving model to model/keypoint_classifier\\keypoint_classifier.hdf5\n",
      "55/55 [==============================] - 0s 2ms/step - loss: 0.8381 - accuracy: 0.6931 - val_loss: 0.4515 - val_accuracy: 0.9023\n",
      "Epoch 54/1000\n",
      "54/55 [============================>.] - ETA: 0s - loss: 0.8418 - accuracy: 0.7025\n",
      "Epoch 54: saving model to model/keypoint_classifier\\keypoint_classifier.hdf5\n",
      "55/55 [==============================] - 0s 2ms/step - loss: 0.8380 - accuracy: 0.7040 - val_loss: 0.4507 - val_accuracy: 0.9036\n",
      "Epoch 55/1000\n",
      "51/55 [==========================>...] - ETA: 0s - loss: 0.8250 - accuracy: 0.7109\n",
      "Epoch 55: saving model to model/keypoint_classifier\\keypoint_classifier.hdf5\n",
      "55/55 [==============================] - 0s 2ms/step - loss: 0.8225 - accuracy: 0.7124 - val_loss: 0.4350 - val_accuracy: 0.9053\n",
      "Epoch 56/1000\n",
      "47/55 [========================>.....] - ETA: 0s - loss: 0.8279 - accuracy: 0.7035\n",
      "Epoch 56: saving model to model/keypoint_classifier\\keypoint_classifier.hdf5\n",
      "55/55 [==============================] - 0s 2ms/step - loss: 0.8332 - accuracy: 0.7030 - val_loss: 0.4414 - val_accuracy: 0.9010\n",
      "Epoch 57/1000\n",
      "47/55 [========================>.....] - ETA: 0s - loss: 0.8206 - accuracy: 0.7064\n",
      "Epoch 57: saving model to model/keypoint_classifier\\keypoint_classifier.hdf5\n",
      "55/55 [==============================] - 0s 2ms/step - loss: 0.8194 - accuracy: 0.7065 - val_loss: 0.4443 - val_accuracy: 0.9006\n",
      "Epoch 58/1000\n",
      "49/55 [=========================>....] - ETA: 0s - loss: 0.7967 - accuracy: 0.7172\n",
      "Epoch 58: saving model to model/keypoint_classifier\\keypoint_classifier.hdf5\n",
      "55/55 [==============================] - 0s 3ms/step - loss: 0.8056 - accuracy: 0.7138 - val_loss: 0.4302 - val_accuracy: 0.9091\n",
      "Epoch 59/1000\n",
      "38/55 [===================>..........] - ETA: 0s - loss: 0.8188 - accuracy: 0.7087\n",
      "Epoch 59: saving model to model/keypoint_classifier\\keypoint_classifier.hdf5\n",
      "55/55 [==============================] - 0s 2ms/step - loss: 0.8199 - accuracy: 0.7065 - val_loss: 0.4316 - val_accuracy: 0.9083\n",
      "Epoch 60/1000\n",
      "51/55 [==========================>...] - ETA: 0s - loss: 0.8016 - accuracy: 0.7138\n",
      "Epoch 60: saving model to model/keypoint_classifier\\keypoint_classifier.hdf5\n",
      "55/55 [==============================] - 0s 2ms/step - loss: 0.8025 - accuracy: 0.7131 - val_loss: 0.4301 - val_accuracy: 0.9078\n",
      "Epoch 61/1000\n",
      "42/55 [=====================>........] - ETA: 0s - loss: 0.8089 - accuracy: 0.7089\n",
      "Epoch 61: saving model to model/keypoint_classifier\\keypoint_classifier.hdf5\n",
      "55/55 [==============================] - 0s 2ms/step - loss: 0.8138 - accuracy: 0.7088 - val_loss: 0.4315 - val_accuracy: 0.9070\n",
      "Epoch 62/1000\n",
      "50/55 [==========================>...] - ETA: 0s - loss: 0.8011 - accuracy: 0.7181\n",
      "Epoch 62: saving model to model/keypoint_classifier\\keypoint_classifier.hdf5\n",
      "55/55 [==============================] - 0s 2ms/step - loss: 0.7998 - accuracy: 0.7170 - val_loss: 0.4186 - val_accuracy: 0.9074\n",
      "Epoch 63/1000\n",
      "51/55 [==========================>...] - ETA: 0s - loss: 0.7974 - accuracy: 0.7151\n",
      "Epoch 63: saving model to model/keypoint_classifier\\keypoint_classifier.hdf5\n",
      "55/55 [==============================] - 0s 2ms/step - loss: 0.7984 - accuracy: 0.7171 - val_loss: 0.4104 - val_accuracy: 0.9117\n",
      "Epoch 64/1000\n",
      "48/55 [=========================>....] - ETA: 0s - loss: 0.7974 - accuracy: 0.7165\n",
      "Epoch 64: saving model to model/keypoint_classifier\\keypoint_classifier.hdf5\n",
      "55/55 [==============================] - 0s 2ms/step - loss: 0.8016 - accuracy: 0.7178 - val_loss: 0.4225 - val_accuracy: 0.9023\n",
      "Epoch 65/1000\n",
      "45/55 [=======================>......] - ETA: 0s - loss: 0.8029 - accuracy: 0.7083\n",
      "Epoch 65: saving model to model/keypoint_classifier\\keypoint_classifier.hdf5\n",
      "55/55 [==============================] - 0s 2ms/step - loss: 0.7998 - accuracy: 0.7115 - val_loss: 0.4166 - val_accuracy: 0.9108\n",
      "Epoch 66/1000\n",
      "48/55 [=========================>....] - ETA: 0s - loss: 0.7903 - accuracy: 0.7217\n",
      "Epoch 66: saving model to model/keypoint_classifier\\keypoint_classifier.hdf5\n",
      "55/55 [==============================] - 0s 2ms/step - loss: 0.7965 - accuracy: 0.7186 - val_loss: 0.4052 - val_accuracy: 0.9121\n",
      "Epoch 67/1000\n",
      " 1/55 [..............................] - ETA: 0s - loss: 0.7656 - accuracy: 0.7656\n",
      "Epoch 67: saving model to model/keypoint_classifier\\keypoint_classifier.hdf5\n",
      "55/55 [==============================] - 0s 2ms/step - loss: 0.7920 - accuracy: 0.7231 - val_loss: 0.4145 - val_accuracy: 0.9096\n",
      "Epoch 68/1000\n",
      "51/55 [==========================>...] - ETA: 0s - loss: 0.7869 - accuracy: 0.7227\n",
      "Epoch 68: saving model to model/keypoint_classifier\\keypoint_classifier.hdf5\n",
      "55/55 [==============================] - 0s 2ms/step - loss: 0.7880 - accuracy: 0.7221 - val_loss: 0.4160 - val_accuracy: 0.9083\n",
      "Epoch 69/1000\n",
      "39/55 [====================>.........] - ETA: 0s - loss: 0.7950 - accuracy: 0.7173\n",
      "Epoch 69: saving model to model/keypoint_classifier\\keypoint_classifier.hdf5\n",
      "55/55 [==============================] - 0s 2ms/step - loss: 0.7825 - accuracy: 0.7216 - val_loss: 0.4161 - val_accuracy: 0.9061\n",
      "Epoch 70/1000\n",
      "48/55 [=========================>....] - ETA: 0s - loss: 0.7759 - accuracy: 0.7251\n",
      "Epoch 70: saving model to model/keypoint_classifier\\keypoint_classifier.hdf5\n",
      "55/55 [==============================] - 0s 2ms/step - loss: 0.7831 - accuracy: 0.7228 - val_loss: 0.4146 - val_accuracy: 0.9070\n",
      "Epoch 71/1000\n",
      "47/55 [========================>.....] - ETA: 0s - loss: 0.7808 - accuracy: 0.7284\n",
      "Epoch 71: saving model to model/keypoint_classifier\\keypoint_classifier.hdf5\n",
      "55/55 [==============================] - 0s 2ms/step - loss: 0.7727 - accuracy: 0.7307 - val_loss: 0.4210 - val_accuracy: 0.9031\n",
      "Epoch 72/1000\n",
      "48/55 [=========================>....] - ETA: 0s - loss: 0.7820 - accuracy: 0.7204\n",
      "Epoch 72: saving model to model/keypoint_classifier\\keypoint_classifier.hdf5\n",
      "55/55 [==============================] - 0s 2ms/step - loss: 0.7888 - accuracy: 0.7200 - val_loss: 0.4195 - val_accuracy: 0.9010\n",
      "Epoch 73/1000\n",
      "51/55 [==========================>...] - ETA: 0s - loss: 0.7878 - accuracy: 0.7258\n",
      "Epoch 73: saving model to model/keypoint_classifier\\keypoint_classifier.hdf5\n",
      "55/55 [==============================] - 0s 2ms/step - loss: 0.7846 - accuracy: 0.7268 - val_loss: 0.4111 - val_accuracy: 0.9074\n",
      "Epoch 74/1000\n",
      "34/55 [=================>............] - ETA: 0s - loss: 0.7656 - accuracy: 0.7298\n",
      "Epoch 74: saving model to model/keypoint_classifier\\keypoint_classifier.hdf5\n",
      "55/55 [==============================] - 0s 2ms/step - loss: 0.7661 - accuracy: 0.7294 - val_loss: 0.4033 - val_accuracy: 0.9083\n",
      "Epoch 75/1000\n",
      "52/55 [===========================>..] - ETA: 0s - loss: 0.7973 - accuracy: 0.7212\n",
      "Epoch 75: saving model to model/keypoint_classifier\\keypoint_classifier.hdf5\n",
      "55/55 [==============================] - 0s 2ms/step - loss: 0.7943 - accuracy: 0.7217 - val_loss: 0.4111 - val_accuracy: 0.9087\n",
      "Epoch 76/1000\n",
      "40/55 [====================>.........] - ETA: 0s - loss: 0.7656 - accuracy: 0.7260\n",
      "Epoch 76: saving model to model/keypoint_classifier\\keypoint_classifier.hdf5\n",
      "55/55 [==============================] - 0s 3ms/step - loss: 0.7627 - accuracy: 0.7273 - val_loss: 0.4112 - val_accuracy: 0.9040\n",
      "Epoch 77/1000\n",
      "55/55 [==============================] - ETA: 0s - loss: 0.7658 - accuracy: 0.7280\n",
      "Epoch 77: saving model to model/keypoint_classifier\\keypoint_classifier.hdf5\n",
      "55/55 [==============================] - 0s 2ms/step - loss: 0.7658 - accuracy: 0.7280 - val_loss: 0.3929 - val_accuracy: 0.9143\n",
      "Epoch 78/1000\n",
      "54/55 [============================>.] - ETA: 0s - loss: 0.7736 - accuracy: 0.7237\n",
      "Epoch 78: saving model to model/keypoint_classifier\\keypoint_classifier.hdf5\n",
      "55/55 [==============================] - 0s 2ms/step - loss: 0.7727 - accuracy: 0.7237 - val_loss: 0.3864 - val_accuracy: 0.9143\n",
      "Epoch 79/1000\n",
      "49/55 [=========================>....] - ETA: 0s - loss: 0.7845 - accuracy: 0.7278\n",
      "Epoch 79: saving model to model/keypoint_classifier\\keypoint_classifier.hdf5\n",
      "55/55 [==============================] - 0s 3ms/step - loss: 0.7816 - accuracy: 0.7277 - val_loss: 0.4031 - val_accuracy: 0.9104\n",
      "Epoch 80/1000\n",
      "49/55 [=========================>....] - ETA: 0s - loss: 0.7747 - accuracy: 0.7272\n",
      "Epoch 80: saving model to model/keypoint_classifier\\keypoint_classifier.hdf5\n",
      "55/55 [==============================] - 0s 2ms/step - loss: 0.7717 - accuracy: 0.7280 - val_loss: 0.4019 - val_accuracy: 0.9143\n",
      "Epoch 81/1000\n",
      "47/55 [========================>.....] - ETA: 0s - loss: 0.7740 - accuracy: 0.7244\n",
      "Epoch 81: saving model to model/keypoint_classifier\\keypoint_classifier.hdf5\n",
      "55/55 [==============================] - 0s 3ms/step - loss: 0.7723 - accuracy: 0.7240 - val_loss: 0.3975 - val_accuracy: 0.9087\n",
      "Epoch 82/1000\n",
      "40/55 [====================>.........] - ETA: 0s - loss: 0.7755 - accuracy: 0.7260\n",
      "Epoch 82: saving model to model/keypoint_classifier\\keypoint_classifier.hdf5\n",
      "55/55 [==============================] - 0s 2ms/step - loss: 0.7799 - accuracy: 0.7253 - val_loss: 0.3992 - val_accuracy: 0.9083\n",
      "Epoch 83/1000\n",
      "55/55 [==============================] - ETA: 0s - loss: 0.7750 - accuracy: 0.7254\n",
      "Epoch 83: saving model to model/keypoint_classifier\\keypoint_classifier.hdf5\n",
      "55/55 [==============================] - 0s 2ms/step - loss: 0.7750 - accuracy: 0.7254 - val_loss: 0.4035 - val_accuracy: 0.9053\n",
      "Epoch 84/1000\n",
      "45/55 [=======================>......] - ETA: 0s - loss: 0.7721 - accuracy: 0.7241\n",
      "Epoch 84: saving model to model/keypoint_classifier\\keypoint_classifier.hdf5\n",
      "55/55 [==============================] - 0s 2ms/step - loss: 0.7700 - accuracy: 0.7250 - val_loss: 0.3955 - val_accuracy: 0.9074\n",
      "Epoch 85/1000\n",
      "48/55 [=========================>....] - ETA: 0s - loss: 0.7642 - accuracy: 0.7300\n",
      "Epoch 85: saving model to model/keypoint_classifier\\keypoint_classifier.hdf5\n",
      "55/55 [==============================] - 0s 2ms/step - loss: 0.7662 - accuracy: 0.7273 - val_loss: 0.3880 - val_accuracy: 0.9117\n",
      "Epoch 86/1000\n",
      "49/55 [=========================>....] - ETA: 0s - loss: 0.7606 - accuracy: 0.7331\n",
      "Epoch 86: saving model to model/keypoint_classifier\\keypoint_classifier.hdf5\n",
      "55/55 [==============================] - 0s 2ms/step - loss: 0.7622 - accuracy: 0.7311 - val_loss: 0.3877 - val_accuracy: 0.9168\n",
      "Epoch 87/1000\n",
      "46/55 [========================>.....] - ETA: 0s - loss: 0.7565 - accuracy: 0.7342\n",
      "Epoch 87: saving model to model/keypoint_classifier\\keypoint_classifier.hdf5\n",
      "55/55 [==============================] - 0s 2ms/step - loss: 0.7531 - accuracy: 0.7353 - val_loss: 0.3940 - val_accuracy: 0.9096\n",
      "Epoch 88/1000\n",
      "54/55 [============================>.] - ETA: 0s - loss: 0.7642 - accuracy: 0.7299\n",
      "Epoch 88: saving model to model/keypoint_classifier\\keypoint_classifier.hdf5\n",
      "55/55 [==============================] - 0s 2ms/step - loss: 0.7635 - accuracy: 0.7306 - val_loss: 0.3971 - val_accuracy: 0.9121\n",
      "Epoch 89/1000\n",
      "53/55 [===========================>..] - ETA: 0s - loss: 0.7594 - accuracy: 0.7308\n",
      "Epoch 89: saving model to model/keypoint_classifier\\keypoint_classifier.hdf5\n",
      "55/55 [==============================] - 0s 2ms/step - loss: 0.7585 - accuracy: 0.7316 - val_loss: 0.3845 - val_accuracy: 0.9151\n",
      "Epoch 90/1000\n",
      "55/55 [==============================] - ETA: 0s - loss: 0.7663 - accuracy: 0.7330\n",
      "Epoch 90: saving model to model/keypoint_classifier\\keypoint_classifier.hdf5\n",
      "55/55 [==============================] - 0s 2ms/step - loss: 0.7663 - accuracy: 0.7330 - val_loss: 0.3824 - val_accuracy: 0.9194\n",
      "Epoch 91/1000\n",
      "54/55 [============================>.] - ETA: 0s - loss: 0.7611 - accuracy: 0.7289\n",
      "Epoch 91: saving model to model/keypoint_classifier\\keypoint_classifier.hdf5\n",
      "55/55 [==============================] - 0s 2ms/step - loss: 0.7606 - accuracy: 0.7284 - val_loss: 0.3796 - val_accuracy: 0.9138\n",
      "Epoch 92/1000\n",
      "54/55 [============================>.] - ETA: 0s - loss: 0.7558 - accuracy: 0.7357\n",
      "Epoch 92: saving model to model/keypoint_classifier\\keypoint_classifier.hdf5\n",
      "55/55 [==============================] - 0s 2ms/step - loss: 0.7557 - accuracy: 0.7358 - val_loss: 0.3775 - val_accuracy: 0.9156\n",
      "Epoch 93/1000\n",
      "40/55 [====================>.........] - ETA: 0s - loss: 0.7588 - accuracy: 0.7346\n",
      "Epoch 93: saving model to model/keypoint_classifier\\keypoint_classifier.hdf5\n",
      "55/55 [==============================] - 0s 3ms/step - loss: 0.7478 - accuracy: 0.7393 - val_loss: 0.3919 - val_accuracy: 0.9066\n",
      "Epoch 94/1000\n",
      "49/55 [=========================>....] - ETA: 0s - loss: 0.7458 - accuracy: 0.7369\n",
      "Epoch 94: saving model to model/keypoint_classifier\\keypoint_classifier.hdf5\n",
      "55/55 [==============================] - 0s 2ms/step - loss: 0.7471 - accuracy: 0.7376 - val_loss: 0.3814 - val_accuracy: 0.9151\n",
      "Epoch 95/1000\n",
      "43/55 [======================>.......] - ETA: 0s - loss: 0.7440 - accuracy: 0.7297\n",
      "Epoch 95: saving model to model/keypoint_classifier\\keypoint_classifier.hdf5\n",
      "55/55 [==============================] - 0s 2ms/step - loss: 0.7469 - accuracy: 0.7304 - val_loss: 0.3765 - val_accuracy: 0.9134\n",
      "Epoch 96/1000\n",
      "51/55 [==========================>...] - ETA: 0s - loss: 0.7636 - accuracy: 0.7341\n",
      "Epoch 96: saving model to model/keypoint_classifier\\keypoint_classifier.hdf5\n",
      "55/55 [==============================] - 0s 2ms/step - loss: 0.7610 - accuracy: 0.7340 - val_loss: 0.3871 - val_accuracy: 0.9100\n",
      "Epoch 97/1000\n",
      "48/55 [=========================>....] - ETA: 0s - loss: 0.7290 - accuracy: 0.7412\n",
      "Epoch 97: saving model to model/keypoint_classifier\\keypoint_classifier.hdf5\n",
      "55/55 [==============================] - 0s 2ms/step - loss: 0.7373 - accuracy: 0.7354 - val_loss: 0.3705 - val_accuracy: 0.9151\n",
      "Epoch 98/1000\n",
      "50/55 [==========================>...] - ETA: 0s - loss: 0.7422 - accuracy: 0.7364\n",
      "Epoch 98: saving model to model/keypoint_classifier\\keypoint_classifier.hdf5\n",
      "55/55 [==============================] - 0s 2ms/step - loss: 0.7401 - accuracy: 0.7376 - val_loss: 0.3875 - val_accuracy: 0.9113\n",
      "Epoch 99/1000\n",
      "45/55 [=======================>......] - ETA: 0s - loss: 0.7436 - accuracy: 0.7392\n",
      "Epoch 99: saving model to model/keypoint_classifier\\keypoint_classifier.hdf5\n",
      "55/55 [==============================] - 0s 2ms/step - loss: 0.7458 - accuracy: 0.7368 - val_loss: 0.3810 - val_accuracy: 0.9130\n",
      "Epoch 100/1000\n",
      "50/55 [==========================>...] - ETA: 0s - loss: 0.7303 - accuracy: 0.7425\n",
      "Epoch 100: saving model to model/keypoint_classifier\\keypoint_classifier.hdf5\n",
      "55/55 [==============================] - 0s 2ms/step - loss: 0.7302 - accuracy: 0.7427 - val_loss: 0.3685 - val_accuracy: 0.9147\n",
      "Epoch 101/1000\n",
      "53/55 [===========================>..] - ETA: 0s - loss: 0.7411 - accuracy: 0.7379\n",
      "Epoch 101: saving model to model/keypoint_classifier\\keypoint_classifier.hdf5\n",
      "55/55 [==============================] - 0s 2ms/step - loss: 0.7419 - accuracy: 0.7380 - val_loss: 0.3715 - val_accuracy: 0.9147\n",
      "Epoch 102/1000\n",
      "53/55 [===========================>..] - ETA: 0s - loss: 0.7422 - accuracy: 0.7366\n",
      "Epoch 102: saving model to model/keypoint_classifier\\keypoint_classifier.hdf5\n",
      "55/55 [==============================] - 0s 2ms/step - loss: 0.7436 - accuracy: 0.7376 - val_loss: 0.3698 - val_accuracy: 0.9151\n",
      "Epoch 103/1000\n",
      "49/55 [=========================>....] - ETA: 0s - loss: 0.7584 - accuracy: 0.7320\n",
      "Epoch 103: saving model to model/keypoint_classifier\\keypoint_classifier.hdf5\n",
      "55/55 [==============================] - 0s 2ms/step - loss: 0.7577 - accuracy: 0.7336 - val_loss: 0.3761 - val_accuracy: 0.9126\n",
      "Epoch 104/1000\n",
      "53/55 [===========================>..] - ETA: 0s - loss: 0.7399 - accuracy: 0.7444\n",
      "Epoch 104: saving model to model/keypoint_classifier\\keypoint_classifier.hdf5\n",
      "55/55 [==============================] - 0s 2ms/step - loss: 0.7386 - accuracy: 0.7446 - val_loss: 0.3877 - val_accuracy: 0.9078\n",
      "Epoch 105/1000\n",
      "48/55 [=========================>....] - ETA: 0s - loss: 0.7247 - accuracy: 0.7365\n",
      "Epoch 105: saving model to model/keypoint_classifier\\keypoint_classifier.hdf5\n",
      "55/55 [==============================] - 0s 2ms/step - loss: 0.7360 - accuracy: 0.7350 - val_loss: 0.3718 - val_accuracy: 0.9151\n",
      "Epoch 106/1000\n",
      " 1/55 [..............................] - ETA: 0s - loss: 0.6708 - accuracy: 0.7734\n",
      "Epoch 106: saving model to model/keypoint_classifier\\keypoint_classifier.hdf5\n",
      "55/55 [==============================] - 0s 2ms/step - loss: 0.7363 - accuracy: 0.7403 - val_loss: 0.3854 - val_accuracy: 0.9091\n",
      "Epoch 107/1000\n",
      "34/55 [=================>............] - ETA: 0s - loss: 0.7249 - accuracy: 0.7408\n",
      "Epoch 107: saving model to model/keypoint_classifier\\keypoint_classifier.hdf5\n",
      "55/55 [==============================] - 0s 3ms/step - loss: 0.7231 - accuracy: 0.7434 - val_loss: 0.3746 - val_accuracy: 0.9151\n",
      "Epoch 108/1000\n",
      "53/55 [===========================>..] - ETA: 0s - loss: 0.7555 - accuracy: 0.7276\n",
      "Epoch 108: saving model to model/keypoint_classifier\\keypoint_classifier.hdf5\n",
      "55/55 [==============================] - 0s 2ms/step - loss: 0.7545 - accuracy: 0.7270 - val_loss: 0.3712 - val_accuracy: 0.9216\n",
      "Epoch 109/1000\n",
      "43/55 [======================>.......] - ETA: 0s - loss: 0.7311 - accuracy: 0.7440\n",
      "Epoch 109: saving model to model/keypoint_classifier\\keypoint_classifier.hdf5\n",
      "55/55 [==============================] - 0s 2ms/step - loss: 0.7309 - accuracy: 0.7429 - val_loss: 0.3676 - val_accuracy: 0.9190\n",
      "Epoch 110/1000\n",
      "43/55 [======================>.......] - ETA: 0s - loss: 0.7282 - accuracy: 0.7422\n",
      "Epoch 110: saving model to model/keypoint_classifier\\keypoint_classifier.hdf5\n",
      "55/55 [==============================] - 0s 2ms/step - loss: 0.7208 - accuracy: 0.7441 - val_loss: 0.3641 - val_accuracy: 0.9160\n",
      "Epoch 111/1000\n",
      "47/55 [========================>.....] - ETA: 0s - loss: 0.7296 - accuracy: 0.7385\n",
      "Epoch 111: saving model to model/keypoint_classifier\\keypoint_classifier.hdf5\n",
      "55/55 [==============================] - 0s 2ms/step - loss: 0.7264 - accuracy: 0.7397 - val_loss: 0.3857 - val_accuracy: 0.9057\n",
      "Epoch 112/1000\n",
      "45/55 [=======================>......] - ETA: 0s - loss: 0.7455 - accuracy: 0.7366\n",
      "Epoch 112: saving model to model/keypoint_classifier\\keypoint_classifier.hdf5\n",
      "55/55 [==============================] - 0s 2ms/step - loss: 0.7444 - accuracy: 0.7356 - val_loss: 0.3778 - val_accuracy: 0.9117\n",
      "Epoch 113/1000\n",
      "49/55 [=========================>....] - ETA: 0s - loss: 0.7375 - accuracy: 0.7420\n",
      "Epoch 113: saving model to model/keypoint_classifier\\keypoint_classifier.hdf5\n",
      "55/55 [==============================] - 0s 2ms/step - loss: 0.7380 - accuracy: 0.7391 - val_loss: 0.3646 - val_accuracy: 0.9177\n",
      "Epoch 114/1000\n",
      "42/55 [=====================>........] - ETA: 0s - loss: 0.7327 - accuracy: 0.7416\n",
      "Epoch 114: saving model to model/keypoint_classifier\\keypoint_classifier.hdf5\n",
      "55/55 [==============================] - 0s 2ms/step - loss: 0.7328 - accuracy: 0.7427 - val_loss: 0.3691 - val_accuracy: 0.9164\n",
      "Epoch 115/1000\n",
      "42/55 [=====================>........] - ETA: 0s - loss: 0.7405 - accuracy: 0.7364\n",
      "Epoch 115: saving model to model/keypoint_classifier\\keypoint_classifier.hdf5\n",
      "55/55 [==============================] - 0s 2ms/step - loss: 0.7366 - accuracy: 0.7357 - val_loss: 0.3746 - val_accuracy: 0.9164\n",
      "Epoch 116/1000\n",
      "54/55 [============================>.] - ETA: 0s - loss: 0.7555 - accuracy: 0.7271\n",
      "Epoch 116: saving model to model/keypoint_classifier\\keypoint_classifier.hdf5\n",
      "55/55 [==============================] - 0s 2ms/step - loss: 0.7532 - accuracy: 0.7277 - val_loss: 0.3708 - val_accuracy: 0.9194\n",
      "Epoch 117/1000\n",
      "53/55 [===========================>..] - ETA: 0s - loss: 0.7180 - accuracy: 0.7527\n",
      "Epoch 117: saving model to model/keypoint_classifier\\keypoint_classifier.hdf5\n",
      "55/55 [==============================] - 0s 3ms/step - loss: 0.7177 - accuracy: 0.7530 - val_loss: 0.3528 - val_accuracy: 0.9224\n",
      "Epoch 118/1000\n",
      "29/55 [==============>...............] - ETA: 0s - loss: 0.7252 - accuracy: 0.7403\n",
      "Epoch 118: saving model to model/keypoint_classifier\\keypoint_classifier.hdf5\n",
      "55/55 [==============================] - 0s 3ms/step - loss: 0.7207 - accuracy: 0.7410 - val_loss: 0.3785 - val_accuracy: 0.9048\n",
      "Epoch 119/1000\n",
      "41/55 [=====================>........] - ETA: 0s - loss: 0.7314 - accuracy: 0.7393\n",
      "Epoch 119: saving model to model/keypoint_classifier\\keypoint_classifier.hdf5\n",
      "55/55 [==============================] - 0s 2ms/step - loss: 0.7374 - accuracy: 0.7414 - val_loss: 0.3763 - val_accuracy: 0.9078\n",
      "Epoch 120/1000\n",
      " 1/55 [..............................] - ETA: 0s - loss: 0.7498 - accuracy: 0.7266\n",
      "Epoch 120: saving model to model/keypoint_classifier\\keypoint_classifier.hdf5\n",
      "55/55 [==============================] - 0s 2ms/step - loss: 0.7230 - accuracy: 0.7443 - val_loss: 0.3663 - val_accuracy: 0.9177\n",
      "Epoch 121/1000\n",
      " 1/55 [..............................] - ETA: 0s - loss: 0.5897 - accuracy: 0.8359\n",
      "Epoch 121: saving model to model/keypoint_classifier\\keypoint_classifier.hdf5\n",
      "55/55 [==============================] - 0s 2ms/step - loss: 0.7256 - accuracy: 0.7466 - val_loss: 0.3638 - val_accuracy: 0.9216\n",
      "Epoch 122/1000\n",
      " 1/55 [..............................] - ETA: 0s - loss: 0.6724 - accuracy: 0.7500\n",
      "Epoch 122: saving model to model/keypoint_classifier\\keypoint_classifier.hdf5\n",
      "55/55 [==============================] - 0s 2ms/step - loss: 0.7238 - accuracy: 0.7441 - val_loss: 0.3671 - val_accuracy: 0.9216\n",
      "Epoch 123/1000\n",
      "42/55 [=====================>........] - ETA: 0s - loss: 0.7406 - accuracy: 0.7346\n",
      "Epoch 123: saving model to model/keypoint_classifier\\keypoint_classifier.hdf5\n",
      "55/55 [==============================] - 0s 3ms/step - loss: 0.7312 - accuracy: 0.7368 - val_loss: 0.3707 - val_accuracy: 0.9198\n",
      "Epoch 124/1000\n",
      " 1/55 [..............................] - ETA: 0s - loss: 0.6825 - accuracy: 0.7734\n",
      "Epoch 124: saving model to model/keypoint_classifier\\keypoint_classifier.hdf5\n",
      "55/55 [==============================] - 0s 2ms/step - loss: 0.7226 - accuracy: 0.7424 - val_loss: 0.3608 - val_accuracy: 0.9190\n",
      "Epoch 125/1000\n",
      " 1/55 [..............................] - ETA: 0s - loss: 0.6820 - accuracy: 0.7812\n",
      "Epoch 125: saving model to model/keypoint_classifier\\keypoint_classifier.hdf5\n",
      "55/55 [==============================] - 0s 2ms/step - loss: 0.7175 - accuracy: 0.7426 - val_loss: 0.3570 - val_accuracy: 0.9207\n",
      "Epoch 126/1000\n",
      "45/55 [=======================>......] - ETA: 0s - loss: 0.6991 - accuracy: 0.7516\n",
      "Epoch 126: saving model to model/keypoint_classifier\\keypoint_classifier.hdf5\n",
      "55/55 [==============================] - 0s 2ms/step - loss: 0.7002 - accuracy: 0.7523 - val_loss: 0.3694 - val_accuracy: 0.9143\n",
      "Epoch 127/1000\n",
      "43/55 [======================>.......] - ETA: 0s - loss: 0.7258 - accuracy: 0.7373\n",
      "Epoch 127: saving model to model/keypoint_classifier\\keypoint_classifier.hdf5\n",
      "55/55 [==============================] - 0s 2ms/step - loss: 0.7264 - accuracy: 0.7379 - val_loss: 0.3606 - val_accuracy: 0.9198\n",
      "Epoch 128/1000\n",
      "49/55 [=========================>....] - ETA: 0s - loss: 0.7154 - accuracy: 0.7500\n",
      "Epoch 128: saving model to model/keypoint_classifier\\keypoint_classifier.hdf5\n",
      "55/55 [==============================] - 0s 2ms/step - loss: 0.7160 - accuracy: 0.7481 - val_loss: 0.3673 - val_accuracy: 0.9198\n",
      "Epoch 129/1000\n",
      "39/55 [====================>.........] - ETA: 0s - loss: 0.7360 - accuracy: 0.7332\n",
      "Epoch 129: saving model to model/keypoint_classifier\\keypoint_classifier.hdf5\n",
      "55/55 [==============================] - 0s 2ms/step - loss: 0.7249 - accuracy: 0.7396 - val_loss: 0.3541 - val_accuracy: 0.9186\n",
      "Epoch 130/1000\n",
      "48/55 [=========================>....] - ETA: 0s - loss: 0.7249 - accuracy: 0.7417\n",
      "Epoch 130: saving model to model/keypoint_classifier\\keypoint_classifier.hdf5\n",
      "55/55 [==============================] - 0s 3ms/step - loss: 0.7257 - accuracy: 0.7409 - val_loss: 0.3583 - val_accuracy: 0.9181\n",
      "Epoch 131/1000\n",
      "44/55 [=======================>......] - ETA: 0s - loss: 0.7211 - accuracy: 0.7473\n",
      "Epoch 131: saving model to model/keypoint_classifier\\keypoint_classifier.hdf5\n",
      "55/55 [==============================] - 0s 2ms/step - loss: 0.7107 - accuracy: 0.7511 - val_loss: 0.3626 - val_accuracy: 0.9186\n",
      "Epoch 132/1000\n",
      "40/55 [====================>.........] - ETA: 0s - loss: 0.6937 - accuracy: 0.7492\n",
      "Epoch 132: saving model to model/keypoint_classifier\\keypoint_classifier.hdf5\n",
      "55/55 [==============================] - 0s 2ms/step - loss: 0.6982 - accuracy: 0.7490 - val_loss: 0.3694 - val_accuracy: 0.9138\n",
      "Epoch 133/1000\n",
      "39/55 [====================>.........] - ETA: 0s - loss: 0.7257 - accuracy: 0.7454\n",
      "Epoch 133: saving model to model/keypoint_classifier\\keypoint_classifier.hdf5\n",
      "55/55 [==============================] - 0s 2ms/step - loss: 0.7283 - accuracy: 0.7463 - val_loss: 0.3701 - val_accuracy: 0.9164\n",
      "Epoch 134/1000\n",
      "44/55 [=======================>......] - ETA: 0s - loss: 0.7103 - accuracy: 0.7429\n",
      "Epoch 134: saving model to model/keypoint_classifier\\keypoint_classifier.hdf5\n",
      "55/55 [==============================] - 0s 2ms/step - loss: 0.7228 - accuracy: 0.7409 - val_loss: 0.3642 - val_accuracy: 0.9151\n",
      "Epoch 135/1000\n",
      "40/55 [====================>.........] - ETA: 0s - loss: 0.7154 - accuracy: 0.7451\n",
      "Epoch 135: saving model to model/keypoint_classifier\\keypoint_classifier.hdf5\n",
      "55/55 [==============================] - 0s 2ms/step - loss: 0.7091 - accuracy: 0.7497 - val_loss: 0.3469 - val_accuracy: 0.9228\n",
      "Epoch 136/1000\n",
      "55/55 [==============================] - ETA: 0s - loss: 0.7277 - accuracy: 0.7444\n",
      "Epoch 136: saving model to model/keypoint_classifier\\keypoint_classifier.hdf5\n",
      "55/55 [==============================] - 0s 2ms/step - loss: 0.7277 - accuracy: 0.7444 - val_loss: 0.3552 - val_accuracy: 0.9203\n",
      "Epoch 137/1000\n",
      "44/55 [=======================>......] - ETA: 0s - loss: 0.7292 - accuracy: 0.7425\n",
      "Epoch 137: saving model to model/keypoint_classifier\\keypoint_classifier.hdf5\n",
      "55/55 [==============================] - 0s 2ms/step - loss: 0.7351 - accuracy: 0.7410 - val_loss: 0.3849 - val_accuracy: 0.9066\n",
      "Epoch 138/1000\n",
      "48/55 [=========================>....] - ETA: 0s - loss: 0.6954 - accuracy: 0.7531\n",
      "Epoch 138: saving model to model/keypoint_classifier\\keypoint_classifier.hdf5\n",
      "55/55 [==============================] - 0s 2ms/step - loss: 0.7014 - accuracy: 0.7503 - val_loss: 0.3462 - val_accuracy: 0.9233\n",
      "Epoch 139/1000\n",
      "42/55 [=====================>........] - ETA: 0s - loss: 0.7147 - accuracy: 0.7435\n",
      "Epoch 139: saving model to model/keypoint_classifier\\keypoint_classifier.hdf5\n",
      "55/55 [==============================] - 0s 2ms/step - loss: 0.7015 - accuracy: 0.7486 - val_loss: 0.3589 - val_accuracy: 0.9151\n",
      "Epoch 140/1000\n",
      "46/55 [========================>.....] - ETA: 0s - loss: 0.6976 - accuracy: 0.7442\n",
      "Epoch 140: saving model to model/keypoint_classifier\\keypoint_classifier.hdf5\n",
      "55/55 [==============================] - 0s 2ms/step - loss: 0.6986 - accuracy: 0.7466 - val_loss: 0.3465 - val_accuracy: 0.9228\n",
      "Epoch 141/1000\n",
      "35/55 [==================>...........] - ETA: 0s - loss: 0.7234 - accuracy: 0.7413\n",
      "Epoch 141: saving model to model/keypoint_classifier\\keypoint_classifier.hdf5\n",
      "55/55 [==============================] - 0s 3ms/step - loss: 0.7122 - accuracy: 0.7463 - val_loss: 0.3612 - val_accuracy: 0.9151\n",
      "Epoch 142/1000\n",
      "50/55 [==========================>...] - ETA: 0s - loss: 0.7210 - accuracy: 0.7420\n",
      "Epoch 142: saving model to model/keypoint_classifier\\keypoint_classifier.hdf5\n",
      "55/55 [==============================] - 0s 2ms/step - loss: 0.7248 - accuracy: 0.7407 - val_loss: 0.3671 - val_accuracy: 0.9130\n",
      "Epoch 143/1000\n",
      "41/55 [=====================>........] - ETA: 0s - loss: 0.7061 - accuracy: 0.7494\n",
      "Epoch 143: saving model to model/keypoint_classifier\\keypoint_classifier.hdf5\n",
      "55/55 [==============================] - 0s 2ms/step - loss: 0.7098 - accuracy: 0.7469 - val_loss: 0.3784 - val_accuracy: 0.9121\n",
      "Epoch 144/1000\n",
      "49/55 [=========================>....] - ETA: 0s - loss: 0.6971 - accuracy: 0.7591\n",
      "Epoch 144: saving model to model/keypoint_classifier\\keypoint_classifier.hdf5\n",
      "55/55 [==============================] - 0s 2ms/step - loss: 0.7001 - accuracy: 0.7573 - val_loss: 0.3716 - val_accuracy: 0.9134\n",
      "Epoch 145/1000\n",
      "42/55 [=====================>........] - ETA: 0s - loss: 0.6973 - accuracy: 0.7504\n",
      "Epoch 145: saving model to model/keypoint_classifier\\keypoint_classifier.hdf5\n",
      "55/55 [==============================] - 0s 2ms/step - loss: 0.6939 - accuracy: 0.7507 - val_loss: 0.3552 - val_accuracy: 0.9211\n",
      "Epoch 146/1000\n",
      "39/55 [====================>.........] - ETA: 0s - loss: 0.6861 - accuracy: 0.7510\n",
      "Epoch 146: saving model to model/keypoint_classifier\\keypoint_classifier.hdf5\n",
      "55/55 [==============================] - 0s 2ms/step - loss: 0.6883 - accuracy: 0.7514 - val_loss: 0.3612 - val_accuracy: 0.9130\n",
      "Epoch 147/1000\n",
      "39/55 [====================>.........] - ETA: 0s - loss: 0.7073 - accuracy: 0.7518\n",
      "Epoch 147: saving model to model/keypoint_classifier\\keypoint_classifier.hdf5\n",
      "55/55 [==============================] - 0s 2ms/step - loss: 0.7045 - accuracy: 0.7527 - val_loss: 0.3593 - val_accuracy: 0.9198\n",
      "Epoch 148/1000\n",
      "36/55 [==================>...........] - ETA: 0s - loss: 0.7089 - accuracy: 0.7500\n",
      "Epoch 148: saving model to model/keypoint_classifier\\keypoint_classifier.hdf5\n",
      "55/55 [==============================] - 0s 2ms/step - loss: 0.7107 - accuracy: 0.7486 - val_loss: 0.3626 - val_accuracy: 0.9186\n",
      "Epoch 149/1000\n",
      "50/55 [==========================>...] - ETA: 0s - loss: 0.7169 - accuracy: 0.7445\n",
      "Epoch 149: saving model to model/keypoint_classifier\\keypoint_classifier.hdf5\n",
      "55/55 [==============================] - 0s 2ms/step - loss: 0.7132 - accuracy: 0.7471 - val_loss: 0.3627 - val_accuracy: 0.9177\n",
      "Epoch 150/1000\n",
      "52/55 [===========================>..] - ETA: 0s - loss: 0.7161 - accuracy: 0.7443\n",
      "Epoch 150: saving model to model/keypoint_classifier\\keypoint_classifier.hdf5\n",
      "55/55 [==============================] - 0s 2ms/step - loss: 0.7159 - accuracy: 0.7444 - val_loss: 0.3652 - val_accuracy: 0.9130\n",
      "Epoch 151/1000\n",
      "55/55 [==============================] - ETA: 0s - loss: 0.6930 - accuracy: 0.7476\n",
      "Epoch 151: saving model to model/keypoint_classifier\\keypoint_classifier.hdf5\n",
      "55/55 [==============================] - 0s 2ms/step - loss: 0.6930 - accuracy: 0.7476 - val_loss: 0.3495 - val_accuracy: 0.9241\n",
      "Epoch 152/1000\n",
      "32/55 [================>.............] - ETA: 0s - loss: 0.6937 - accuracy: 0.7532\n",
      "Epoch 152: saving model to model/keypoint_classifier\\keypoint_classifier.hdf5\n",
      "55/55 [==============================] - 0s 2ms/step - loss: 0.6917 - accuracy: 0.7559 - val_loss: 0.3550 - val_accuracy: 0.9246\n",
      "Epoch 153/1000\n",
      "47/55 [========================>.....] - ETA: 0s - loss: 0.7041 - accuracy: 0.7465\n",
      "Epoch 153: saving model to model/keypoint_classifier\\keypoint_classifier.hdf5\n",
      "55/55 [==============================] - 0s 2ms/step - loss: 0.6985 - accuracy: 0.7504 - val_loss: 0.3553 - val_accuracy: 0.9181\n",
      "Epoch 154/1000\n",
      "48/55 [=========================>....] - ETA: 0s - loss: 0.6918 - accuracy: 0.7531\n",
      "Epoch 154: saving model to model/keypoint_classifier\\keypoint_classifier.hdf5\n",
      "55/55 [==============================] - 0s 2ms/step - loss: 0.6915 - accuracy: 0.7543 - val_loss: 0.3452 - val_accuracy: 0.9224\n",
      "Epoch 155/1000\n",
      "44/55 [=======================>......] - ETA: 0s - loss: 0.7096 - accuracy: 0.7541\n",
      "Epoch 155: saving model to model/keypoint_classifier\\keypoint_classifier.hdf5\n",
      "55/55 [==============================] - 0s 2ms/step - loss: 0.7011 - accuracy: 0.7574 - val_loss: 0.3557 - val_accuracy: 0.9241\n",
      "Epoch 156/1000\n",
      "44/55 [=======================>......] - ETA: 0s - loss: 0.7039 - accuracy: 0.7486\n",
      "Epoch 156: saving model to model/keypoint_classifier\\keypoint_classifier.hdf5\n",
      "55/55 [==============================] - 0s 2ms/step - loss: 0.7026 - accuracy: 0.7493 - val_loss: 0.3555 - val_accuracy: 0.9220\n",
      "Epoch 157/1000\n",
      "43/55 [======================>.......] - ETA: 0s - loss: 0.6952 - accuracy: 0.7484\n",
      "Epoch 157: saving model to model/keypoint_classifier\\keypoint_classifier.hdf5\n",
      "55/55 [==============================] - 0s 2ms/step - loss: 0.6974 - accuracy: 0.7499 - val_loss: 0.3634 - val_accuracy: 0.9181\n",
      "Epoch 158/1000\n",
      "53/55 [===========================>..] - ETA: 0s - loss: 0.7090 - accuracy: 0.7448\n",
      "Epoch 158: saving model to model/keypoint_classifier\\keypoint_classifier.hdf5\n",
      "55/55 [==============================] - 0s 2ms/step - loss: 0.7092 - accuracy: 0.7450 - val_loss: 0.3716 - val_accuracy: 0.9053\n",
      "Epoch 159/1000\n",
      "42/55 [=====================>........] - ETA: 0s - loss: 0.6904 - accuracy: 0.7522\n",
      "Epoch 159: saving model to model/keypoint_classifier\\keypoint_classifier.hdf5\n",
      "55/55 [==============================] - 0s 3ms/step - loss: 0.6928 - accuracy: 0.7516 - val_loss: 0.3496 - val_accuracy: 0.9181\n",
      "Epoch 160/1000\n",
      "39/55 [====================>.........] - ETA: 0s - loss: 0.6891 - accuracy: 0.7538\n",
      "Epoch 160: saving model to model/keypoint_classifier\\keypoint_classifier.hdf5\n",
      "55/55 [==============================] - 0s 3ms/step - loss: 0.7003 - accuracy: 0.7494 - val_loss: 0.3716 - val_accuracy: 0.9100\n",
      "Epoch 161/1000\n",
      "33/55 [=================>............] - ETA: 0s - loss: 0.6952 - accuracy: 0.7531\n",
      "Epoch 161: saving model to model/keypoint_classifier\\keypoint_classifier.hdf5\n",
      "55/55 [==============================] - 0s 2ms/step - loss: 0.6923 - accuracy: 0.7534 - val_loss: 0.3548 - val_accuracy: 0.9233\n",
      "Epoch 162/1000\n",
      "47/55 [========================>.....] - ETA: 0s - loss: 0.6856 - accuracy: 0.7527\n",
      "Epoch 162: saving model to model/keypoint_classifier\\keypoint_classifier.hdf5\n",
      "55/55 [==============================] - 0s 2ms/step - loss: 0.6847 - accuracy: 0.7523 - val_loss: 0.3390 - val_accuracy: 0.9258\n",
      "Epoch 163/1000\n",
      "53/55 [===========================>..] - ETA: 0s - loss: 0.7173 - accuracy: 0.7543\n",
      "Epoch 163: saving model to model/keypoint_classifier\\keypoint_classifier.hdf5\n",
      "55/55 [==============================] - 0s 2ms/step - loss: 0.7160 - accuracy: 0.7533 - val_loss: 0.3819 - val_accuracy: 0.9057\n",
      "Epoch 164/1000\n",
      "41/55 [=====================>........] - ETA: 0s - loss: 0.7030 - accuracy: 0.7481\n",
      "Epoch 164: saving model to model/keypoint_classifier\\keypoint_classifier.hdf5\n",
      "55/55 [==============================] - 0s 3ms/step - loss: 0.7024 - accuracy: 0.7484 - val_loss: 0.3585 - val_accuracy: 0.9190\n",
      "Epoch 165/1000\n",
      "45/55 [=======================>......] - ETA: 0s - loss: 0.7062 - accuracy: 0.7556\n",
      "Epoch 165: saving model to model/keypoint_classifier\\keypoint_classifier.hdf5\n",
      "55/55 [==============================] - 0s 2ms/step - loss: 0.6949 - accuracy: 0.7574 - val_loss: 0.3525 - val_accuracy: 0.9246\n",
      "Epoch 166/1000\n",
      "44/55 [=======================>......] - ETA: 0s - loss: 0.6972 - accuracy: 0.7433\n",
      "Epoch 166: saving model to model/keypoint_classifier\\keypoint_classifier.hdf5\n",
      "55/55 [==============================] - 0s 2ms/step - loss: 0.6968 - accuracy: 0.7446 - val_loss: 0.3528 - val_accuracy: 0.9237\n",
      "Epoch 167/1000\n",
      "46/55 [========================>.....] - ETA: 0s - loss: 0.7011 - accuracy: 0.7573\n",
      "Epoch 167: saving model to model/keypoint_classifier\\keypoint_classifier.hdf5\n",
      "55/55 [==============================] - 0s 2ms/step - loss: 0.6951 - accuracy: 0.7560 - val_loss: 0.3588 - val_accuracy: 0.9207\n",
      "Epoch 168/1000\n",
      "39/55 [====================>.........] - ETA: 0s - loss: 0.6983 - accuracy: 0.7526\n",
      "Epoch 168: saving model to model/keypoint_classifier\\keypoint_classifier.hdf5\n",
      "55/55 [==============================] - 0s 2ms/step - loss: 0.6932 - accuracy: 0.7496 - val_loss: 0.3466 - val_accuracy: 0.9211\n",
      "Epoch 169/1000\n",
      " 1/55 [..............................] - ETA: 0s - loss: 0.7390 - accuracy: 0.7188\n",
      "Epoch 169: saving model to model/keypoint_classifier\\keypoint_classifier.hdf5\n",
      "55/55 [==============================] - 0s 2ms/step - loss: 0.6993 - accuracy: 0.7543 - val_loss: 0.3600 - val_accuracy: 0.9173\n",
      "Epoch 170/1000\n",
      "43/55 [======================>.......] - ETA: 0s - loss: 0.6942 - accuracy: 0.7504\n",
      "Epoch 170: saving model to model/keypoint_classifier\\keypoint_classifier.hdf5\n",
      "55/55 [==============================] - 0s 2ms/step - loss: 0.6854 - accuracy: 0.7550 - val_loss: 0.3524 - val_accuracy: 0.9194\n",
      "Epoch 171/1000\n",
      "50/55 [==========================>...] - ETA: 0s - loss: 0.6801 - accuracy: 0.7573\n",
      "Epoch 171: saving model to model/keypoint_classifier\\keypoint_classifier.hdf5\n",
      "55/55 [==============================] - 0s 2ms/step - loss: 0.6768 - accuracy: 0.7596 - val_loss: 0.3453 - val_accuracy: 0.9211\n",
      "Epoch 172/1000\n",
      "45/55 [=======================>......] - ETA: 0s - loss: 0.7063 - accuracy: 0.7493\n",
      "Epoch 172: saving model to model/keypoint_classifier\\keypoint_classifier.hdf5\n",
      "55/55 [==============================] - 0s 2ms/step - loss: 0.7137 - accuracy: 0.7457 - val_loss: 0.3620 - val_accuracy: 0.9173\n",
      "Epoch 173/1000\n",
      "41/55 [=====================>........] - ETA: 0s - loss: 0.6765 - accuracy: 0.7628\n",
      "Epoch 173: saving model to model/keypoint_classifier\\keypoint_classifier.hdf5\n",
      "55/55 [==============================] - 0s 2ms/step - loss: 0.6791 - accuracy: 0.7621 - val_loss: 0.3606 - val_accuracy: 0.9156\n",
      "Epoch 174/1000\n",
      "43/55 [======================>.......] - ETA: 0s - loss: 0.7119 - accuracy: 0.7460\n",
      "Epoch 174: saving model to model/keypoint_classifier\\keypoint_classifier.hdf5\n",
      "55/55 [==============================] - 0s 2ms/step - loss: 0.7115 - accuracy: 0.7486 - val_loss: 0.3449 - val_accuracy: 0.9237\n",
      "Epoch 175/1000\n",
      "44/55 [=======================>......] - ETA: 0s - loss: 0.7020 - accuracy: 0.7539\n",
      "Epoch 175: saving model to model/keypoint_classifier\\keypoint_classifier.hdf5\n",
      "55/55 [==============================] - 0s 2ms/step - loss: 0.6899 - accuracy: 0.7581 - val_loss: 0.3400 - val_accuracy: 0.9237\n",
      "Epoch 176/1000\n",
      "35/55 [==================>...........] - ETA: 0s - loss: 0.6820 - accuracy: 0.7507\n",
      "Epoch 176: saving model to model/keypoint_classifier\\keypoint_classifier.hdf5\n",
      "55/55 [==============================] - 0s 3ms/step - loss: 0.6812 - accuracy: 0.7540 - val_loss: 0.3488 - val_accuracy: 0.9207\n",
      "Epoch 177/1000\n",
      "39/55 [====================>.........] - ETA: 0s - loss: 0.7134 - accuracy: 0.7438\n",
      "Epoch 177: saving model to model/keypoint_classifier\\keypoint_classifier.hdf5\n",
      "55/55 [==============================] - 0s 2ms/step - loss: 0.7053 - accuracy: 0.7446 - val_loss: 0.3642 - val_accuracy: 0.9113\n",
      "Epoch 178/1000\n",
      "33/55 [=================>............] - ETA: 0s - loss: 0.6804 - accuracy: 0.7621\n",
      "Epoch 178: saving model to model/keypoint_classifier\\keypoint_classifier.hdf5\n",
      "55/55 [==============================] - 0s 3ms/step - loss: 0.6918 - accuracy: 0.7543 - val_loss: 0.3445 - val_accuracy: 0.9220\n",
      "Epoch 179/1000\n",
      "46/55 [========================>.....] - ETA: 0s - loss: 0.6942 - accuracy: 0.7525\n",
      "Epoch 179: saving model to model/keypoint_classifier\\keypoint_classifier.hdf5\n",
      "55/55 [==============================] - 0s 2ms/step - loss: 0.7004 - accuracy: 0.7501 - val_loss: 0.3569 - val_accuracy: 0.9168\n",
      "Epoch 180/1000\n",
      "51/55 [==========================>...] - ETA: 0s - loss: 0.7023 - accuracy: 0.7515\n",
      "Epoch 180: saving model to model/keypoint_classifier\\keypoint_classifier.hdf5\n",
      "55/55 [==============================] - 0s 2ms/step - loss: 0.6999 - accuracy: 0.7537 - val_loss: 0.3549 - val_accuracy: 0.9164\n",
      "Epoch 181/1000\n",
      "46/55 [========================>.....] - ETA: 0s - loss: 0.6813 - accuracy: 0.7541\n",
      "Epoch 181: saving model to model/keypoint_classifier\\keypoint_classifier.hdf5\n",
      "55/55 [==============================] - 0s 2ms/step - loss: 0.6937 - accuracy: 0.7524 - val_loss: 0.3431 - val_accuracy: 0.9246\n",
      "Epoch 182/1000\n",
      "34/55 [=================>............] - ETA: 0s - loss: 0.6558 - accuracy: 0.7645\n",
      "Epoch 182: saving model to model/keypoint_classifier\\keypoint_classifier.hdf5\n",
      "55/55 [==============================] - 0s 3ms/step - loss: 0.6703 - accuracy: 0.7559 - val_loss: 0.3456 - val_accuracy: 0.9216\n",
      "Epoch 182: early stopping\n"
     ]
    },
    {
     "data": {
      "text/plain": [
       "<keras.src.callbacks.History at 0x1b7df2aac50>"
      ]
     },
     "execution_count": 11,
     "metadata": {},
     "output_type": "execute_result"
    }
   ],
   "source": [
    "model.fit(\n",
    "    X_train,\n",
    "    y_train,\n",
    "    epochs=1000,\n",
    "    batch_size=128,\n",
    "    validation_data=(X_test, y_test),\n",
    "    callbacks=[cp_callback, es_callback]\n",
    ")"
   ]
  },
  {
   "cell_type": "code",
   "execution_count": 12,
   "metadata": {
    "colab": {
     "base_uri": "https://localhost:8080/"
    },
    "id": "pxvb2Y299hE3",
    "outputId": "59eb3185-2e37-4b9e-bc9d-ab1b8ac29b7f"
   },
   "outputs": [
    {
     "name": "stdout",
     "output_type": "stream",
     "text": [
      "19/19 [==============================] - 0s 923us/step - loss: 0.3456 - accuracy: 0.9216\n"
     ]
    }
   ],
   "source": [
    "# Model evaluation\n",
    "val_loss, val_acc = model.evaluate(X_test, y_test, batch_size=128)"
   ]
  },
  {
   "cell_type": "code",
   "execution_count": 13,
   "metadata": {
    "id": "RBkmDeUW9hE4"
   },
   "outputs": [],
   "source": [
    "# Loading the saved model\n",
    "model = tf.keras.models.load_model(model_save_path)"
   ]
  },
  {
   "cell_type": "code",
   "execution_count": 14,
   "metadata": {
    "colab": {
     "base_uri": "https://localhost:8080/"
    },
    "id": "tFz9Tb0I9hE4",
    "outputId": "1c3b3528-54ae-4ee2-ab04-77429211cbef"
   },
   "outputs": [
    {
     "name": "stdout",
     "output_type": "stream",
     "text": [
      "1/1 [==============================] - 0s 81ms/step\n",
      "[5.0639741e-02 1.0150599e-01 1.6763294e-02 5.4576787e-05 8.2998061e-01\n",
      " 1.5501303e-04 1.3651179e-04 7.6427235e-04]\n",
      "4\n"
     ]
    }
   ],
   "source": [
    "# Inference test\n",
    "predict_result = model.predict(np.array([X_test[0]]))\n",
    "print(np.squeeze(predict_result))\n",
    "print(np.argmax(np.squeeze(predict_result)))"
   ]
  },
  {
   "cell_type": "markdown",
   "metadata": {
    "id": "S3U4yNWx9hE4"
   },
   "source": [
    "# Confusion matrix"
   ]
  },
  {
   "cell_type": "code",
   "execution_count": 15,
   "metadata": {
    "colab": {
     "base_uri": "https://localhost:8080/",
     "height": 582
    },
    "id": "AP1V6SCk9hE5",
    "outputId": "08e41a80-7a4a-4619-8125-ecc371368d19"
   },
   "outputs": [
    {
     "name": "stdout",
     "output_type": "stream",
     "text": [
      "73/73 [==============================] - 0s 779us/step\n"
     ]
    },
    {
     "data": {
      "image/png": "[encoded data removed]",
      "text/plain": [
       "<Figure size 700x600 with 2 Axes>"
      ]
     },
     "metadata": {},
     "output_type": "display_data"
    },
    {
     "name": "stdout",
     "output_type": "stream",
     "text": [
      "Classification Report\n",
      "              precision    recall  f1-score   support\n",
      "\n",
      "           0       0.97      0.86      0.91       497\n",
      "           1       0.95      0.81      0.87       391\n",
      "           2       0.79      1.00      0.88       153\n",
      "           3       0.90      1.00      0.95       319\n",
      "           4       0.96      0.94      0.95       270\n",
      "           5       0.99      0.98      0.99       133\n",
      "           6       0.87      0.99      0.93       420\n",
      "           7       0.97      0.89      0.93       150\n",
      "\n",
      "    accuracy                           0.92      2333\n",
      "   macro avg       0.93      0.93      0.93      2333\n",
      "weighted avg       0.93      0.92      0.92      2333\n",
      "\n"
     ]
    }
   ],
   "source": [
    "import pandas as pd\n",
    "import seaborn as sns\n",
    "import matplotlib.pyplot as plt\n",
    "from sklearn.metrics import confusion_matrix, classification_report\n",
    "\n",
    "def print_confusion_matrix(y_true, y_pred, report=True):\n",
    "    labels = sorted(list(set(y_true)))\n",
    "    cmx_data = confusion_matrix(y_true, y_pred, labels=labels)\n",
    "    \n",
    "    df_cmx = pd.DataFrame(cmx_data, index=labels, columns=labels)\n",
    " \n",
    "    fig, ax = plt.subplots(figsize=(7, 6))\n",
    "    sns.heatmap(df_cmx, annot=True, fmt='g' ,square=False)\n",
    "    ax.set_ylim(len(set(y_true)), 0)\n",
    "    plt.show()\n",
    "    \n",
    "    if report:\n",
    "        print('Classification Report')\n",
    "        print(classification_report(y_test, y_pred))\n",
    "\n",
    "Y_pred = model.predict(X_test)\n",
    "y_pred = np.argmax(Y_pred, axis=1)\n",
    "\n",
    "print_confusion_matrix(y_test, y_pred)"
   ]
  },
  {
   "cell_type": "markdown",
   "metadata": {
    "id": "FNP6aqzc9hE5"
   },
   "source": [
    "# Convert to model for Tensorflow-Lite"
   ]
  },
  {
   "cell_type": "code",
   "execution_count": 16,
   "metadata": {
    "id": "ODjnYyld9hE6"
   },
   "outputs": [
    {
     "name": "stderr",
     "output_type": "stream",
     "text": [
      "C:\\ProgramData\\anaconda3\\Lib\\site-packages\\keras\\src\\engine\\training.py:3000: UserWarning: You are saving your model as an HDF5 file via `model.save()`. This file format is considered legacy. We recommend using instead the native Keras format, e.g. `model.save('my_model.keras')`.\n",
      "  saving_api.save_model(\n"
     ]
    }
   ],
   "source": [
    "# Save as a model dedicated to inference\n",
    "model.save(model_save_path, include_optimizer=False)"
   ]
  },
  {
   "cell_type": "code",
   "execution_count": 17,
   "metadata": {
    "colab": {
     "base_uri": "https://localhost:8080/"
    },
    "id": "zRfuK8Y59hE6",
    "outputId": "a4ca585c-b5d5-4244-8291-8674063209bb"
   },
   "outputs": [
    {
     "name": "stdout",
     "output_type": "stream",
     "text": [
      "INFO:tensorflow:Assets written to: C:\\Users\\khunt\\AppData\\Local\\Temp\\tmp3cctjwwi\\assets\n"
     ]
    },
    {
     "name": "stderr",
     "output_type": "stream",
     "text": [
      "INFO:tensorflow:Assets written to: C:\\Users\\khunt\\AppData\\Local\\Temp\\tmp3cctjwwi\\assets\n"
     ]
    },
    {
     "data": {
      "text/plain": [
       "6720"
      ]
     },
     "execution_count": 17,
     "metadata": {},
     "output_type": "execute_result"
    }
   ],
   "source": [
    "# Transform model (quantization)\n",
    "\n",
    "converter = tf.lite.TFLiteConverter.from_keras_model(model)\n",
    "converter.optimizations = [tf.lite.Optimize.DEFAULT]\n",
    "tflite_quantized_model = converter.convert()\n",
    "\n",
    "open(tflite_save_path, 'wb').write(tflite_quantized_model)"
   ]
  },
  {
   "cell_type": "markdown",
   "metadata": {
    "id": "CHBPBXdx9hE6"
   },
   "source": [
    "# Inference test"
   ]
  },
  {
   "cell_type": "code",
   "execution_count": 18,
   "metadata": {
    "id": "mGAzLocO9hE7"
   },
   "outputs": [],
   "source": [
    "interpreter = tf.lite.Interpreter(model_path=tflite_save_path)\n",
    "interpreter.allocate_tensors()"
   ]
  },
  {
   "cell_type": "code",
   "execution_count": 19,
   "metadata": {
    "id": "oQuDK8YS9hE7"
   },
   "outputs": [],
   "source": [
    "# Get I / O tensor\n",
    "input_details = interpreter.get_input_details()\n",
    "output_details = interpreter.get_output_details()"
   ]
  },
  {
   "cell_type": "code",
   "execution_count": 20,
   "metadata": {
    "id": "2_ixAf_l9hE7"
   },
   "outputs": [],
   "source": [
    "interpreter.set_tensor(input_details[0]['index'], np.array([X_test[0]]))"
   ]
  },
  {
   "cell_type": "code",
   "execution_count": 21,
   "metadata": {
    "colab": {
     "base_uri": "https://localhost:8080/"
    },
    "id": "s4FoAnuc9hE7",
    "outputId": "91f18257-8d8b-4ef3-c558-e9b5f94fabbf",
    "scrolled": true
   },
   "outputs": [
    {
     "name": "stdout",
     "output_type": "stream",
     "text": [
      "CPU times: total: 0 ns\n",
      "Wall time: 0 ns\n"
     ]
    }
   ],
   "source": [
    "%%time\n",
    "# Inference implementation\n",
    "interpreter.invoke()\n",
    "tflite_results = interpreter.get_tensor(output_details[0]['index'])"
   ]
  },
  {
   "cell_type": "code",
   "execution_count": 22,
   "metadata": {
    "colab": {
     "base_uri": "https://localhost:8080/"
    },
    "id": "vONjp19J9hE8",
    "outputId": "77205e24-fd00-42c4-f7b6-e06e527c2cba"
   },
   "outputs": [
    {
     "name": "stdout",
     "output_type": "stream",
     "text": [
      "[5.0639734e-02 1.0150597e-01 1.6763292e-02 5.4576682e-05 8.2998067e-01\n",
      " 1.5501288e-04 1.3651169e-04 7.6427200e-04]\n",
      "4\n"
     ]
    }
   ],
   "source": [
    "print(np.squeeze(tflite_results))\n",
    "print(np.argmax(np.squeeze(tflite_results)))"
   ]
  }
 ],
 "metadata": {
  "accelerator": "GPU",
  "colab": {
   "collapsed_sections": [],
   "name": "keypoint_classification_EN.ipynb",
   "provenance": [],
   "toc_visible": true
  },
  "kernelspec": {
   "display_name": "Python 3 (ipykernel)",
   "language": "python",
   "name": "python3"
  },
  "language_info": {
   "codemirror_mode": {
    "name": "ipython",
    "version": 3
   },
   "file_extension": ".py",
   "mimetype": "text/x-python",
   "name": "python",
   "nbconvert_exporter": "python",
   "pygments_lexer": "ipython3",
   "version": "3.11.7"
  }
 },
 "nbformat": 4,
 "nbformat_minor": 4
}
